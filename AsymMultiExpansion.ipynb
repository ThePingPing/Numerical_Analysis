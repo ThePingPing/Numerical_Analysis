{
  "nbformat": 4,
  "nbformat_minor": 0,
  "metadata": {
    "colab": {
      "provenance": [],
      "authorship_tag": "ABX9TyOVQrsGlBOJzIBJeXdnlzlH",
      "include_colab_link": true
    },
    "kernelspec": {
      "name": "python3",
      "display_name": "Python 3"
    },
    "language_info": {
      "name": "python"
    }
  },
  "cells": [
    {
      "cell_type": "markdown",
      "metadata": {
        "id": "view-in-github",
        "colab_type": "text"
      },
      "source": [
        "<a href=\"https://colab.research.google.com/github/ThePingPing/Numerical_Analysis/blob/main/AsymMultiExpansion.ipynb\" target=\"_parent\"><img src=\"https://colab.research.google.com/assets/colab-badge.svg\" alt=\"Open In Colab\"/></a>"
      ]
    },
    {
      "cell_type": "code",
      "execution_count": 32,
      "metadata": {
        "id": "CpR6HIev9P-V"
      },
      "outputs": [],
      "source": [
        "import numpy as np\n",
        "import sympy as sym\n",
        "from sympy import *\n",
        "from scipy.integrate import dblquad\n",
        "from scipy.special import roots_legendre\n",
        "import matplotlib.pyplot as plt"
      ]
    },
    {
      "cell_type": "code",
      "source": [
        "x, y, teta = sym.symbols('x y teta')\n",
        "\n",
        "## initialize simpson ##################\n",
        "n_x = 4\n",
        "n_y = 2\n",
        "\n",
        "a_x = 1.4\n",
        "b_x = 2\n",
        "\n",
        "a_y = 1\n",
        "b_y = 1.5\n",
        "########################################\n",
        "\n",
        "## initalize Gauss ####################\n",
        "n = 3\n",
        "#######################################\n",
        "\n",
        "omega_values = np.arange(1, 500, 5)  # 100 valeurs de ω\n",
        "omega = 17\n",
        "\n",
        "\n",
        "def intergrant_formula(x, y):\n",
        "  f_expr = (x - 0.5) * sym.sin(sym.pi * (x + y) / 2)\n",
        "  g_expr = 2 * x - y\n",
        "  integrant  = f_expr * sym.exp(1j * teta * g_expr)\n",
        "  # integrant = sym.log(x + 2*y)\n",
        "  display(integrant)\n",
        "  return integrant\n",
        "\n",
        "def exact_integral(x, y, omega, a_x, b_x, a_y, b_y, n_x, n_y):\n",
        "\n",
        "  integrand = intergrant_formula(x, y)\n",
        "  print(\"form exact Display fonction \")\n",
        "  print()\n",
        "\n",
        "  integrand = integrand.subs({teta : omega})\n",
        "  exact_integral_expr = sym.integrate(sym.integrate(integrand, (y, a_y, b_y)), (x, a_x, b_x))\n",
        "  # Define a function for the exact integral\n",
        "  exact_integral = exact_integral_expr.evalf()\n",
        "  return exact_integral\n",
        "\n",
        "def simpson_quadrature(x, y, a_x, b_x, a_y, b_y, n_x, n_y, omega):\n",
        "\n",
        "  h_x = (b_x - a_x) / n_x\n",
        "  h_y = (b_y - a_y) / n_y\n",
        "  integral_approximation = 0\n",
        "  integrand = intergrant_formula(x, y)\n",
        "  print(\"form simpson Display fonction \")\n",
        "  print()\n",
        "\n",
        "  for i in range(n_x + 1):\n",
        "    for t in range(n_y + 1):\n",
        "      x_i = a_x + i*h_x\n",
        "      y_i = a_y + t*h_y\n",
        "      weight_x = 1 if i == 0 or i == n_x else (2 if i % 2 == 0 else 4)\n",
        "      weight_y = 1 if t == 0 or t == n_y else (2 if t % 2 == 0 else 4)\n",
        "      weight = weight_x * weight_y\n",
        "      integral_approximation += weight * integrant.subs({x : x_i , y : y_i , teta : omega})\n",
        "\n",
        "  integral_approximation = ((h_x * h_y) / 9) * integral_approximation.evalf()\n",
        "  return integral_approximation\n",
        "\n",
        "\n",
        "def gauss_quadrature(a_x, b_x, a_y, b_y, n_x, n_y, omega, n):\n",
        "\n",
        "   nodes, weights = roots_legendre(n)\n",
        "   x, y, u, v, teta = sym.symbols('x y u v teta')\n",
        "   integral_approximation = 0\n",
        "   print(nodes, weights)\n",
        "\n",
        "   x = ((u * (b_x - a_x)) + (b_x + a_x)) / 2\n",
        "   y = ((v * (b_y - a_y)) + (b_y + a_y)) / 2\n",
        "\n",
        "   du = sym.diff(x, u)\n",
        "   dv = sym.diff(y, v)\n",
        "\n",
        "   func_integrant = intergrant_formula(x, y)\n",
        "   print(\"form Gauss Display fonction \")\n",
        "   print()\n",
        "\n",
        "\n",
        "   for weight in weights:\n",
        "    for node in nodes:\n",
        "      weight_xy = weight * weight\n",
        "      func_nodes = func_integrant.subs({u : node, v : node, teta : omega})\n",
        "      integral_approximation += weight_xy * func_nodes\n",
        "\n",
        "   integral_approximation = ((du * dv) * integral_approximation).evalf()\n",
        "   return integral_approximation\n",
        "\n",
        "\n",
        "\n",
        "\n",
        "\n",
        "gauss_value =  gauss_quadrature(a_x, b_x, a_y, b_y, n_x, n_y, omega, n)\n",
        "simpson_value = simpson_quadrature(x, y, a_x, b_x, a_y, b_y, n_x, n_y, omega)\n",
        "exact_value = exact_integral(x, y, omega, a_x, b_x, a_y, b_y, n_x, n_y)\n",
        "print(\"the Gausse value is :\", gauss_value)\n",
        "print(\"The simpson value is: \", simpson_value)\n",
        "print(\"The exact_value value is: \", exact_value)\n",
        "\n",
        "\n",
        "\n",
        "\n",
        "\n",
        "\n"
      ],
      "metadata": {
        "colab": {
          "base_uri": "https://localhost:8080/",
          "height": 284
        },
        "id": "sGbJ3W35KNG7",
        "outputId": "691a9de4-0ea9-430a-a0fd-3c402534a292"
      },
      "execution_count": 75,
      "outputs": [
        {
          "output_type": "stream",
          "name": "stdout",
          "text": [
            "[-0.77459667  0.          0.77459667] [0.55555556 0.88888889 0.55555556]\n"
          ]
        },
        {
          "output_type": "display_data",
          "data": {
            "text/plain": [
              "(0.3*u + 1.2)*exp(1.0*I*teta*(0.6*u - 0.25*v + 2.15))*sin(pi*(0.15*u + 0.125*v + 1.475))"
            ],
            "text/latex": "$\\displaystyle \\left(0.3 u + 1.2\\right) e^{1.0 i teta \\left(0.6 u - 0.25 v + 2.15\\right)} \\sin{\\left(\\pi \\left(0.15 u + 0.125 v + 1.475\\right) \\right)}$"
          },
          "metadata": {}
        },
        {
          "output_type": "stream",
          "name": "stdout",
          "text": [
            "form Gauss Display fonction \n",
            "\n"
          ]
        },
        {
          "output_type": "display_data",
          "data": {
            "text/plain": [
              "(x - 0.5)*exp(1.0*I*teta*(2*x - y))*sin(pi*(x/2 + y/2))"
            ],
            "text/latex": "$\\displaystyle \\left(x - 0.5\\right) e^{1.0 i teta \\left(2 x - y\\right)} \\sin{\\left(\\pi \\left(\\frac{x}{2} + \\frac{y}{2}\\right) \\right)}$"
          },
          "metadata": {}
        },
        {
          "output_type": "stream",
          "name": "stdout",
          "text": [
            "form simpson Display fonction \n",
            "\n"
          ]
        },
        {
          "output_type": "display_data",
          "data": {
            "text/plain": [
              "(x - 0.5)*exp(1.0*I*teta*(2*x - y))*sin(pi*(x/2 + y/2))"
            ],
            "text/latex": "$\\displaystyle \\left(x - 0.5\\right) e^{1.0 i teta \\left(2 x - y\\right)} \\sin{\\left(\\pi \\left(\\frac{x}{2} + \\frac{y}{2}\\right) \\right)}$"
          },
          "metadata": {}
        },
        {
          "output_type": "stream",
          "name": "stdout",
          "text": [
            "form exact Display fonction \n",
            "\n",
            "the Gausse value is : 0.00279647225725063 + 0.116945938244632*I\n",
            "The simpson value is:  -0.00148913086288697 + 0.0543680431820321*I\n",
            "The exact_value value is:  -0.000525228507716498 + 0.00410095081584218*I\n"
          ]
        }
      ]
    },
    {
      "cell_type": "code",
      "source": [
        "omegas = np.arange(1, 500, 10)\n",
        "\n",
        "errors_gauss = []\n",
        "errors_simpson = []\n",
        "\n",
        "for omega in omegas:\n",
        "    true_value = exact_integral(x, y, omega, a_x, b_x, a_y, b_y, n_x, n_y)\n",
        "\n",
        "    gauss_value = gauss_quadrature(a_x, b_x, a_y, b_y, n_x, n_y, omega, n)\n",
        "    simpson_value = simpson_quadrature(x, y, a_x, b_x, a_y, b_y, n_x, n_y, omega)\n",
        "\n",
        "    # value_asym = asymptotic_expansion_quadrature(fx, gx_tag, df, oscillator, a, b, omega,  s)\n",
        "\n",
        "    errors_gauss.append(np.abs(true_value - gauss_value))\n",
        "    errors_simpson.append(np.abs(true_value - simpson_value))\n",
        "    # errors_asynptotic_expansion.append(np.abs(true_value - value_asym))\n",
        "\n",
        "plt.plot(omegas, errors_gauss, label='Gauss', color='blue')\n",
        "plt.plot(omegas, errors_simpson, label='Simpson', color='orange')\n",
        "\n",
        "# plt.plot(omegas, errors_asynptotic_expansion, label='Asymptotic Expansion', color='black')\n",
        "\n",
        "plt.xlabel('Omega')\n",
        "plt.ylabel('Error')\n",
        "plt.ylim ([0, 1])\n",
        "plt.title('Quadrature Error for Different Omegas')\n",
        "plt.legend()\n",
        "plt.show()"
      ],
      "metadata": {
        "id": "sEc-110SQgFD"
      },
      "execution_count": 26,
      "outputs": []
    },
    {
      "cell_type": "code",
      "source": [
        "x, y, teta = sym.symbols('x y teta')\n",
        "\n",
        "## initialize simpson ##################\n",
        "n_x = 4\n",
        "n_y = 2\n",
        "\n",
        "a_x = 1.4\n",
        "b_x = 2\n",
        "\n",
        "a_y = 1\n",
        "b_y = 1.5\n",
        "########################################\n",
        "\n",
        "## initalize Gauss ####################\n",
        "n = 3\n",
        "#######################################\n",
        "\n",
        "omegas = np.arange(1, 1000, 5)\n",
        "\n",
        "\n",
        "\n",
        "def integrand_formula(x, y):\n",
        "  f_expr = (x - 0.5) * sym.sin(sym.pi * (x + y) / 2)\n",
        "  g_expr = 2 * x - y\n",
        "  integrand  = f_expr * sym.exp(1j * teta * g_expr)\n",
        "  # integrant = sym.log(x + 2*y)\n",
        "  return integrand\n",
        "\n",
        "def exact_integral(x, y, omega, a_x, b_x, a_y, b_y, n_x, n_y):\n",
        "\n",
        "  integrand = integrand_formula(x, y)\n",
        "  # print(\"form exact Display fonction \")\n",
        "  # print()\n",
        "\n",
        "  integrand = integrand.subs({teta : omega})\n",
        "  exact_integral_expr = sym.integrate(sym.integrate(integrand, (y, a_y, b_y)), (x, a_x, b_x))\n",
        "  # Define a function for the exact integral\n",
        "  exact_integral = exact_integral_expr.evalf()\n",
        "  return exact_integral\n",
        "\n",
        "def simpson_quadrature(x, y, a_x, b_x, a_y, b_y, n_x, n_y, omega):\n",
        "\n",
        "  h_x = (b_x - a_x) / n_x\n",
        "  h_y = (b_y - a_y) / n_y\n",
        "  integral_approximation = 0\n",
        "  integrand = intergrant_formula(x, y)\n",
        "  # print(\"form simpson Display fonction \")\n",
        "  # print()\n",
        "\n",
        "  for i in range(n_x + 1):\n",
        "    for t in range(n_y + 1):\n",
        "      x_i = a_x + i*h_x\n",
        "      y_i = a_y + t*h_y\n",
        "      weight_x = 1 if i == 0 or i == n_x else (2 if i % 2 == 0 else 4)\n",
        "      weight_y = 1 if t == 0 or t == n_y else (2 if t % 2 == 0 else 4)\n",
        "      weight = weight_x * weight_y\n",
        "      integral_approximation += weight * integrand.subs({x : x_i , y : y_i , teta : omega})\n",
        "\n",
        "  integral_approximation = ((h_x * h_y) / 9) * integral_approximation.evalf()\n",
        "  return integral_approximation\n",
        "\n",
        "\n",
        "def gauss_quadrature(a_x, b_x, a_y, b_y, n_x, n_y, omega, n):\n",
        "\n",
        "   nodes, weights = roots_legendre(n)\n",
        "   x, y, u, v, teta = sym.symbols('x y u v teta')\n",
        "   integral_approximation = 0\n",
        "\n",
        "   x = ((u * (b_x - a_x)) + (b_x + a_x)) / 2\n",
        "   y = ((v * (b_y - a_y)) + (b_y + a_y)) / 2\n",
        "\n",
        "   du = sym.diff(x, u)\n",
        "   dv = sym.diff(y, v)\n",
        "\n",
        "   func_integrand = intergrant_formula(x, y)\n",
        "  #  print(\"form Gauss Display fonction \")\n",
        "  #  print()\n",
        "\n",
        "\n",
        "   for weight in weights:\n",
        "    for node in nodes:\n",
        "      weight_xy = weight * weight\n",
        "      func_nodes = func_integrand.subs({u : node, v : node, teta : omega})\n",
        "      integral_approximation += weight_xy * func_nodes\n",
        "\n",
        "   integral_approximation = ((du * dv) * integral_approximation).evalf()\n",
        "   return integral_approximation\n",
        "\n",
        "\n",
        "\n",
        "errors_gauss = []\n",
        "errors_simpson = []\n",
        "\n",
        "for omega in omegas:\n",
        "\n",
        "    print(\"The Omaga now is: \", omega)\n",
        "    true_value = exact_integral(x, y, omega, a_x, b_x, a_y, b_y, n_x, n_y)\n",
        "\n",
        "    gauss_value = gauss_quadrature(a_x, b_x, a_y, b_y, n_x, n_y, omega, n)\n",
        "    simpson_value = simpson_quadrature(x, y, a_x, b_x, a_y, b_y, n_x, n_y, omega)\n",
        "\n",
        "    # value_asym = asymptotic_expansion_quadrature(fx, gx_tag, df, oscillator, a, b, omega,  s)\n",
        "\n",
        "    errors_gauss.append(np.abs(true_value - gauss_value))\n",
        "    errors_simpson.append(np.abs(true_value - simpson_value))\n",
        "    # errors_asynptotic_expansion.append(np.abs(true_value - value_asym))\n",
        "\n",
        "plt.plot(omegas, errors_gauss, label='Gauss', color='blue')\n",
        "plt.plot(omegas, errors_simpson, label='Simpson', color='orange')\n",
        "\n",
        "# plt.plot(omegas, errors_asynptotic_expansion, label='Asymptotic Expansion', color='black')\n",
        "\n",
        "plt.xlabel('Omega')\n",
        "plt.ylabel('Error')\n",
        "plt.ylim ([-1, 1])\n",
        "plt.title('Quadrature Error for Different Omegas')\n",
        "plt.legend()\n",
        "plt.show()"
      ],
      "metadata": {
        "colab": {
          "base_uri": "https://localhost:8080/",
          "height": 1000
        },
        "id": "wX-rwgiIgihD",
        "outputId": "db1327c6-4d7c-429b-91e3-f11421d271c5"
      },
      "execution_count": 81,
      "outputs": [
        {
          "output_type": "stream",
          "name": "stdout",
          "text": [
            "The Omaga now is:  1\n"
          ]
        },
        {
          "output_type": "display_data",
          "data": {
            "text/plain": [
              "(0.3*u + 1.2)*exp(1.0*I*teta*(0.6*u - 0.25*v + 2.15))*sin(pi*(0.15*u + 0.125*v + 1.475))"
            ],
            "text/latex": "$\\displaystyle \\left(0.3 u + 1.2\\right) e^{1.0 i teta \\left(0.6 u - 0.25 v + 2.15\\right)} \\sin{\\left(\\pi \\left(0.15 u + 0.125 v + 1.475\\right) \\right)}$"
          },
          "metadata": {}
        },
        {
          "output_type": "display_data",
          "data": {
            "text/plain": [
              "(x - 0.5)*exp(1.0*I*teta*(2*x - y))*sin(pi*(x/2 + y/2))"
            ],
            "text/latex": "$\\displaystyle \\left(x - 0.5\\right) e^{1.0 i teta \\left(2 x - y\\right)} \\sin{\\left(\\pi \\left(\\frac{x}{2} + \\frac{y}{2}\\right) \\right)}$"
          },
          "metadata": {}
        },
        {
          "output_type": "stream",
          "name": "stdout",
          "text": [
            "The Omaga now is:  6\n"
          ]
        },
        {
          "output_type": "display_data",
          "data": {
            "text/plain": [
              "(0.3*u + 1.2)*exp(1.0*I*teta*(0.6*u - 0.25*v + 2.15))*sin(pi*(0.15*u + 0.125*v + 1.475))"
            ],
            "text/latex": "$\\displaystyle \\left(0.3 u + 1.2\\right) e^{1.0 i teta \\left(0.6 u - 0.25 v + 2.15\\right)} \\sin{\\left(\\pi \\left(0.15 u + 0.125 v + 1.475\\right) \\right)}$"
          },
          "metadata": {}
        },
        {
          "output_type": "display_data",
          "data": {
            "text/plain": [
              "(x - 0.5)*exp(1.0*I*teta*(2*x - y))*sin(pi*(x/2 + y/2))"
            ],
            "text/latex": "$\\displaystyle \\left(x - 0.5\\right) e^{1.0 i teta \\left(2 x - y\\right)} \\sin{\\left(\\pi \\left(\\frac{x}{2} + \\frac{y}{2}\\right) \\right)}$"
          },
          "metadata": {}
        },
        {
          "output_type": "stream",
          "name": "stdout",
          "text": [
            "The Omaga now is:  11\n"
          ]
        },
        {
          "output_type": "display_data",
          "data": {
            "text/plain": [
              "(0.3*u + 1.2)*exp(1.0*I*teta*(0.6*u - 0.25*v + 2.15))*sin(pi*(0.15*u + 0.125*v + 1.475))"
            ],
            "text/latex": "$\\displaystyle \\left(0.3 u + 1.2\\right) e^{1.0 i teta \\left(0.6 u - 0.25 v + 2.15\\right)} \\sin{\\left(\\pi \\left(0.15 u + 0.125 v + 1.475\\right) \\right)}$"
          },
          "metadata": {}
        },
        {
          "output_type": "display_data",
          "data": {
            "text/plain": [
              "(x - 0.5)*exp(1.0*I*teta*(2*x - y))*sin(pi*(x/2 + y/2))"
            ],
            "text/latex": "$\\displaystyle \\left(x - 0.5\\right) e^{1.0 i teta \\left(2 x - y\\right)} \\sin{\\left(\\pi \\left(\\frac{x}{2} + \\frac{y}{2}\\right) \\right)}$"
          },
          "metadata": {}
        },
        {
          "output_type": "stream",
          "name": "stdout",
          "text": [
            "The Omaga now is:  16\n"
          ]
        },
        {
          "output_type": "display_data",
          "data": {
            "text/plain": [
              "(0.3*u + 1.2)*exp(1.0*I*teta*(0.6*u - 0.25*v + 2.15))*sin(pi*(0.15*u + 0.125*v + 1.475))"
            ],
            "text/latex": "$\\displaystyle \\left(0.3 u + 1.2\\right) e^{1.0 i teta \\left(0.6 u - 0.25 v + 2.15\\right)} \\sin{\\left(\\pi \\left(0.15 u + 0.125 v + 1.475\\right) \\right)}$"
          },
          "metadata": {}
        },
        {
          "output_type": "display_data",
          "data": {
            "text/plain": [
              "(x - 0.5)*exp(1.0*I*teta*(2*x - y))*sin(pi*(x/2 + y/2))"
            ],
            "text/latex": "$\\displaystyle \\left(x - 0.5\\right) e^{1.0 i teta \\left(2 x - y\\right)} \\sin{\\left(\\pi \\left(\\frac{x}{2} + \\frac{y}{2}\\right) \\right)}$"
          },
          "metadata": {}
        },
        {
          "output_type": "stream",
          "name": "stdout",
          "text": [
            "The Omaga now is:  21\n"
          ]
        },
        {
          "output_type": "display_data",
          "data": {
            "text/plain": [
              "(0.3*u + 1.2)*exp(1.0*I*teta*(0.6*u - 0.25*v + 2.15))*sin(pi*(0.15*u + 0.125*v + 1.475))"
            ],
            "text/latex": "$\\displaystyle \\left(0.3 u + 1.2\\right) e^{1.0 i teta \\left(0.6 u - 0.25 v + 2.15\\right)} \\sin{\\left(\\pi \\left(0.15 u + 0.125 v + 1.475\\right) \\right)}$"
          },
          "metadata": {}
        },
        {
          "output_type": "display_data",
          "data": {
            "text/plain": [
              "(x - 0.5)*exp(1.0*I*teta*(2*x - y))*sin(pi*(x/2 + y/2))"
            ],
            "text/latex": "$\\displaystyle \\left(x - 0.5\\right) e^{1.0 i teta \\left(2 x - y\\right)} \\sin{\\left(\\pi \\left(\\frac{x}{2} + \\frac{y}{2}\\right) \\right)}$"
          },
          "metadata": {}
        },
        {
          "output_type": "stream",
          "name": "stdout",
          "text": [
            "The Omaga now is:  26\n"
          ]
        },
        {
          "output_type": "display_data",
          "data": {
            "text/plain": [
              "(0.3*u + 1.2)*exp(1.0*I*teta*(0.6*u - 0.25*v + 2.15))*sin(pi*(0.15*u + 0.125*v + 1.475))"
            ],
            "text/latex": "$\\displaystyle \\left(0.3 u + 1.2\\right) e^{1.0 i teta \\left(0.6 u - 0.25 v + 2.15\\right)} \\sin{\\left(\\pi \\left(0.15 u + 0.125 v + 1.475\\right) \\right)}$"
          },
          "metadata": {}
        },
        {
          "output_type": "display_data",
          "data": {
            "text/plain": [
              "(x - 0.5)*exp(1.0*I*teta*(2*x - y))*sin(pi*(x/2 + y/2))"
            ],
            "text/latex": "$\\displaystyle \\left(x - 0.5\\right) e^{1.0 i teta \\left(2 x - y\\right)} \\sin{\\left(\\pi \\left(\\frac{x}{2} + \\frac{y}{2}\\right) \\right)}$"
          },
          "metadata": {}
        },
        {
          "output_type": "stream",
          "name": "stdout",
          "text": [
            "The Omaga now is:  31\n"
          ]
        },
        {
          "output_type": "display_data",
          "data": {
            "text/plain": [
              "(0.3*u + 1.2)*exp(1.0*I*teta*(0.6*u - 0.25*v + 2.15))*sin(pi*(0.15*u + 0.125*v + 1.475))"
            ],
            "text/latex": "$\\displaystyle \\left(0.3 u + 1.2\\right) e^{1.0 i teta \\left(0.6 u - 0.25 v + 2.15\\right)} \\sin{\\left(\\pi \\left(0.15 u + 0.125 v + 1.475\\right) \\right)}$"
          },
          "metadata": {}
        },
        {
          "output_type": "display_data",
          "data": {
            "text/plain": [
              "(x - 0.5)*exp(1.0*I*teta*(2*x - y))*sin(pi*(x/2 + y/2))"
            ],
            "text/latex": "$\\displaystyle \\left(x - 0.5\\right) e^{1.0 i teta \\left(2 x - y\\right)} \\sin{\\left(\\pi \\left(\\frac{x}{2} + \\frac{y}{2}\\right) \\right)}$"
          },
          "metadata": {}
        },
        {
          "output_type": "stream",
          "name": "stdout",
          "text": [
            "The Omaga now is:  36\n"
          ]
        },
        {
          "output_type": "display_data",
          "data": {
            "text/plain": [
              "(0.3*u + 1.2)*exp(1.0*I*teta*(0.6*u - 0.25*v + 2.15))*sin(pi*(0.15*u + 0.125*v + 1.475))"
            ],
            "text/latex": "$\\displaystyle \\left(0.3 u + 1.2\\right) e^{1.0 i teta \\left(0.6 u - 0.25 v + 2.15\\right)} \\sin{\\left(\\pi \\left(0.15 u + 0.125 v + 1.475\\right) \\right)}$"
          },
          "metadata": {}
        },
        {
          "output_type": "display_data",
          "data": {
            "text/plain": [
              "(x - 0.5)*exp(1.0*I*teta*(2*x - y))*sin(pi*(x/2 + y/2))"
            ],
            "text/latex": "$\\displaystyle \\left(x - 0.5\\right) e^{1.0 i teta \\left(2 x - y\\right)} \\sin{\\left(\\pi \\left(\\frac{x}{2} + \\frac{y}{2}\\right) \\right)}$"
          },
          "metadata": {}
        },
        {
          "output_type": "stream",
          "name": "stdout",
          "text": [
            "The Omaga now is:  41\n"
          ]
        },
        {
          "output_type": "display_data",
          "data": {
            "text/plain": [
              "(0.3*u + 1.2)*exp(1.0*I*teta*(0.6*u - 0.25*v + 2.15))*sin(pi*(0.15*u + 0.125*v + 1.475))"
            ],
            "text/latex": "$\\displaystyle \\left(0.3 u + 1.2\\right) e^{1.0 i teta \\left(0.6 u - 0.25 v + 2.15\\right)} \\sin{\\left(\\pi \\left(0.15 u + 0.125 v + 1.475\\right) \\right)}$"
          },
          "metadata": {}
        },
        {
          "output_type": "display_data",
          "data": {
            "text/plain": [
              "(x - 0.5)*exp(1.0*I*teta*(2*x - y))*sin(pi*(x/2 + y/2))"
            ],
            "text/latex": "$\\displaystyle \\left(x - 0.5\\right) e^{1.0 i teta \\left(2 x - y\\right)} \\sin{\\left(\\pi \\left(\\frac{x}{2} + \\frac{y}{2}\\right) \\right)}$"
          },
          "metadata": {}
        },
        {
          "output_type": "stream",
          "name": "stdout",
          "text": [
            "The Omaga now is:  46\n"
          ]
        },
        {
          "output_type": "display_data",
          "data": {
            "text/plain": [
              "(0.3*u + 1.2)*exp(1.0*I*teta*(0.6*u - 0.25*v + 2.15))*sin(pi*(0.15*u + 0.125*v + 1.475))"
            ],
            "text/latex": "$\\displaystyle \\left(0.3 u + 1.2\\right) e^{1.0 i teta \\left(0.6 u - 0.25 v + 2.15\\right)} \\sin{\\left(\\pi \\left(0.15 u + 0.125 v + 1.475\\right) \\right)}$"
          },
          "metadata": {}
        },
        {
          "output_type": "display_data",
          "data": {
            "text/plain": [
              "(x - 0.5)*exp(1.0*I*teta*(2*x - y))*sin(pi*(x/2 + y/2))"
            ],
            "text/latex": "$\\displaystyle \\left(x - 0.5\\right) e^{1.0 i teta \\left(2 x - y\\right)} \\sin{\\left(\\pi \\left(\\frac{x}{2} + \\frac{y}{2}\\right) \\right)}$"
          },
          "metadata": {}
        },
        {
          "output_type": "stream",
          "name": "stdout",
          "text": [
            "The Omaga now is:  51\n"
          ]
        },
        {
          "output_type": "display_data",
          "data": {
            "text/plain": [
              "(0.3*u + 1.2)*exp(1.0*I*teta*(0.6*u - 0.25*v + 2.15))*sin(pi*(0.15*u + 0.125*v + 1.475))"
            ],
            "text/latex": "$\\displaystyle \\left(0.3 u + 1.2\\right) e^{1.0 i teta \\left(0.6 u - 0.25 v + 2.15\\right)} \\sin{\\left(\\pi \\left(0.15 u + 0.125 v + 1.475\\right) \\right)}$"
          },
          "metadata": {}
        },
        {
          "output_type": "display_data",
          "data": {
            "text/plain": [
              "(x - 0.5)*exp(1.0*I*teta*(2*x - y))*sin(pi*(x/2 + y/2))"
            ],
            "text/latex": "$\\displaystyle \\left(x - 0.5\\right) e^{1.0 i teta \\left(2 x - y\\right)} \\sin{\\left(\\pi \\left(\\frac{x}{2} + \\frac{y}{2}\\right) \\right)}$"
          },
          "metadata": {}
        },
        {
          "output_type": "stream",
          "name": "stdout",
          "text": [
            "The Omaga now is:  56\n"
          ]
        },
        {
          "output_type": "display_data",
          "data": {
            "text/plain": [
              "(0.3*u + 1.2)*exp(1.0*I*teta*(0.6*u - 0.25*v + 2.15))*sin(pi*(0.15*u + 0.125*v + 1.475))"
            ],
            "text/latex": "$\\displaystyle \\left(0.3 u + 1.2\\right) e^{1.0 i teta \\left(0.6 u - 0.25 v + 2.15\\right)} \\sin{\\left(\\pi \\left(0.15 u + 0.125 v + 1.475\\right) \\right)}$"
          },
          "metadata": {}
        },
        {
          "output_type": "display_data",
          "data": {
            "text/plain": [
              "(x - 0.5)*exp(1.0*I*teta*(2*x - y))*sin(pi*(x/2 + y/2))"
            ],
            "text/latex": "$\\displaystyle \\left(x - 0.5\\right) e^{1.0 i teta \\left(2 x - y\\right)} \\sin{\\left(\\pi \\left(\\frac{x}{2} + \\frac{y}{2}\\right) \\right)}$"
          },
          "metadata": {}
        },
        {
          "output_type": "stream",
          "name": "stdout",
          "text": [
            "The Omaga now is:  61\n"
          ]
        },
        {
          "output_type": "display_data",
          "data": {
            "text/plain": [
              "(0.3*u + 1.2)*exp(1.0*I*teta*(0.6*u - 0.25*v + 2.15))*sin(pi*(0.15*u + 0.125*v + 1.475))"
            ],
            "text/latex": "$\\displaystyle \\left(0.3 u + 1.2\\right) e^{1.0 i teta \\left(0.6 u - 0.25 v + 2.15\\right)} \\sin{\\left(\\pi \\left(0.15 u + 0.125 v + 1.475\\right) \\right)}$"
          },
          "metadata": {}
        },
        {
          "output_type": "display_data",
          "data": {
            "text/plain": [
              "(x - 0.5)*exp(1.0*I*teta*(2*x - y))*sin(pi*(x/2 + y/2))"
            ],
            "text/latex": "$\\displaystyle \\left(x - 0.5\\right) e^{1.0 i teta \\left(2 x - y\\right)} \\sin{\\left(\\pi \\left(\\frac{x}{2} + \\frac{y}{2}\\right) \\right)}$"
          },
          "metadata": {}
        },
        {
          "output_type": "stream",
          "name": "stdout",
          "text": [
            "The Omaga now is:  66\n"
          ]
        },
        {
          "output_type": "display_data",
          "data": {
            "text/plain": [
              "(0.3*u + 1.2)*exp(1.0*I*teta*(0.6*u - 0.25*v + 2.15))*sin(pi*(0.15*u + 0.125*v + 1.475))"
            ],
            "text/latex": "$\\displaystyle \\left(0.3 u + 1.2\\right) e^{1.0 i teta \\left(0.6 u - 0.25 v + 2.15\\right)} \\sin{\\left(\\pi \\left(0.15 u + 0.125 v + 1.475\\right) \\right)}$"
          },
          "metadata": {}
        },
        {
          "output_type": "display_data",
          "data": {
            "text/plain": [
              "(x - 0.5)*exp(1.0*I*teta*(2*x - y))*sin(pi*(x/2 + y/2))"
            ],
            "text/latex": "$\\displaystyle \\left(x - 0.5\\right) e^{1.0 i teta \\left(2 x - y\\right)} \\sin{\\left(\\pi \\left(\\frac{x}{2} + \\frac{y}{2}\\right) \\right)}$"
          },
          "metadata": {}
        },
        {
          "output_type": "stream",
          "name": "stdout",
          "text": [
            "The Omaga now is:  71\n"
          ]
        },
        {
          "output_type": "display_data",
          "data": {
            "text/plain": [
              "(0.3*u + 1.2)*exp(1.0*I*teta*(0.6*u - 0.25*v + 2.15))*sin(pi*(0.15*u + 0.125*v + 1.475))"
            ],
            "text/latex": "$\\displaystyle \\left(0.3 u + 1.2\\right) e^{1.0 i teta \\left(0.6 u - 0.25 v + 2.15\\right)} \\sin{\\left(\\pi \\left(0.15 u + 0.125 v + 1.475\\right) \\right)}$"
          },
          "metadata": {}
        },
        {
          "output_type": "display_data",
          "data": {
            "text/plain": [
              "(x - 0.5)*exp(1.0*I*teta*(2*x - y))*sin(pi*(x/2 + y/2))"
            ],
            "text/latex": "$\\displaystyle \\left(x - 0.5\\right) e^{1.0 i teta \\left(2 x - y\\right)} \\sin{\\left(\\pi \\left(\\frac{x}{2} + \\frac{y}{2}\\right) \\right)}$"
          },
          "metadata": {}
        },
        {
          "output_type": "stream",
          "name": "stdout",
          "text": [
            "The Omaga now is:  76\n"
          ]
        },
        {
          "output_type": "display_data",
          "data": {
            "text/plain": [
              "(0.3*u + 1.2)*exp(1.0*I*teta*(0.6*u - 0.25*v + 2.15))*sin(pi*(0.15*u + 0.125*v + 1.475))"
            ],
            "text/latex": "$\\displaystyle \\left(0.3 u + 1.2\\right) e^{1.0 i teta \\left(0.6 u - 0.25 v + 2.15\\right)} \\sin{\\left(\\pi \\left(0.15 u + 0.125 v + 1.475\\right) \\right)}$"
          },
          "metadata": {}
        },
        {
          "output_type": "display_data",
          "data": {
            "text/plain": [
              "(x - 0.5)*exp(1.0*I*teta*(2*x - y))*sin(pi*(x/2 + y/2))"
            ],
            "text/latex": "$\\displaystyle \\left(x - 0.5\\right) e^{1.0 i teta \\left(2 x - y\\right)} \\sin{\\left(\\pi \\left(\\frac{x}{2} + \\frac{y}{2}\\right) \\right)}$"
          },
          "metadata": {}
        },
        {
          "output_type": "stream",
          "name": "stdout",
          "text": [
            "The Omaga now is:  81\n"
          ]
        },
        {
          "output_type": "display_data",
          "data": {
            "text/plain": [
              "(0.3*u + 1.2)*exp(1.0*I*teta*(0.6*u - 0.25*v + 2.15))*sin(pi*(0.15*u + 0.125*v + 1.475))"
            ],
            "text/latex": "$\\displaystyle \\left(0.3 u + 1.2\\right) e^{1.0 i teta \\left(0.6 u - 0.25 v + 2.15\\right)} \\sin{\\left(\\pi \\left(0.15 u + 0.125 v + 1.475\\right) \\right)}$"
          },
          "metadata": {}
        },
        {
          "output_type": "display_data",
          "data": {
            "text/plain": [
              "(x - 0.5)*exp(1.0*I*teta*(2*x - y))*sin(pi*(x/2 + y/2))"
            ],
            "text/latex": "$\\displaystyle \\left(x - 0.5\\right) e^{1.0 i teta \\left(2 x - y\\right)} \\sin{\\left(\\pi \\left(\\frac{x}{2} + \\frac{y}{2}\\right) \\right)}$"
          },
          "metadata": {}
        },
        {
          "output_type": "stream",
          "name": "stdout",
          "text": [
            "The Omaga now is:  86\n"
          ]
        },
        {
          "output_type": "display_data",
          "data": {
            "text/plain": [
              "(0.3*u + 1.2)*exp(1.0*I*teta*(0.6*u - 0.25*v + 2.15))*sin(pi*(0.15*u + 0.125*v + 1.475))"
            ],
            "text/latex": "$\\displaystyle \\left(0.3 u + 1.2\\right) e^{1.0 i teta \\left(0.6 u - 0.25 v + 2.15\\right)} \\sin{\\left(\\pi \\left(0.15 u + 0.125 v + 1.475\\right) \\right)}$"
          },
          "metadata": {}
        },
        {
          "output_type": "display_data",
          "data": {
            "text/plain": [
              "(x - 0.5)*exp(1.0*I*teta*(2*x - y))*sin(pi*(x/2 + y/2))"
            ],
            "text/latex": "$\\displaystyle \\left(x - 0.5\\right) e^{1.0 i teta \\left(2 x - y\\right)} \\sin{\\left(\\pi \\left(\\frac{x}{2} + \\frac{y}{2}\\right) \\right)}$"
          },
          "metadata": {}
        },
        {
          "output_type": "stream",
          "name": "stdout",
          "text": [
            "The Omaga now is:  91\n"
          ]
        },
        {
          "output_type": "display_data",
          "data": {
            "text/plain": [
              "(0.3*u + 1.2)*exp(1.0*I*teta*(0.6*u - 0.25*v + 2.15))*sin(pi*(0.15*u + 0.125*v + 1.475))"
            ],
            "text/latex": "$\\displaystyle \\left(0.3 u + 1.2\\right) e^{1.0 i teta \\left(0.6 u - 0.25 v + 2.15\\right)} \\sin{\\left(\\pi \\left(0.15 u + 0.125 v + 1.475\\right) \\right)}$"
          },
          "metadata": {}
        },
        {
          "output_type": "display_data",
          "data": {
            "text/plain": [
              "(x - 0.5)*exp(1.0*I*teta*(2*x - y))*sin(pi*(x/2 + y/2))"
            ],
            "text/latex": "$\\displaystyle \\left(x - 0.5\\right) e^{1.0 i teta \\left(2 x - y\\right)} \\sin{\\left(\\pi \\left(\\frac{x}{2} + \\frac{y}{2}\\right) \\right)}$"
          },
          "metadata": {}
        },
        {
          "output_type": "stream",
          "name": "stdout",
          "text": [
            "The Omaga now is:  96\n"
          ]
        },
        {
          "output_type": "display_data",
          "data": {
            "text/plain": [
              "(0.3*u + 1.2)*exp(1.0*I*teta*(0.6*u - 0.25*v + 2.15))*sin(pi*(0.15*u + 0.125*v + 1.475))"
            ],
            "text/latex": "$\\displaystyle \\left(0.3 u + 1.2\\right) e^{1.0 i teta \\left(0.6 u - 0.25 v + 2.15\\right)} \\sin{\\left(\\pi \\left(0.15 u + 0.125 v + 1.475\\right) \\right)}$"
          },
          "metadata": {}
        },
        {
          "output_type": "display_data",
          "data": {
            "text/plain": [
              "(x - 0.5)*exp(1.0*I*teta*(2*x - y))*sin(pi*(x/2 + y/2))"
            ],
            "text/latex": "$\\displaystyle \\left(x - 0.5\\right) e^{1.0 i teta \\left(2 x - y\\right)} \\sin{\\left(\\pi \\left(\\frac{x}{2} + \\frac{y}{2}\\right) \\right)}$"
          },
          "metadata": {}
        },
        {
          "output_type": "stream",
          "name": "stdout",
          "text": [
            "The Omaga now is:  101\n"
          ]
        },
        {
          "output_type": "display_data",
          "data": {
            "text/plain": [
              "(0.3*u + 1.2)*exp(1.0*I*teta*(0.6*u - 0.25*v + 2.15))*sin(pi*(0.15*u + 0.125*v + 1.475))"
            ],
            "text/latex": "$\\displaystyle \\left(0.3 u + 1.2\\right) e^{1.0 i teta \\left(0.6 u - 0.25 v + 2.15\\right)} \\sin{\\left(\\pi \\left(0.15 u + 0.125 v + 1.475\\right) \\right)}$"
          },
          "metadata": {}
        },
        {
          "output_type": "display_data",
          "data": {
            "text/plain": [
              "(x - 0.5)*exp(1.0*I*teta*(2*x - y))*sin(pi*(x/2 + y/2))"
            ],
            "text/latex": "$\\displaystyle \\left(x - 0.5\\right) e^{1.0 i teta \\left(2 x - y\\right)} \\sin{\\left(\\pi \\left(\\frac{x}{2} + \\frac{y}{2}\\right) \\right)}$"
          },
          "metadata": {}
        },
        {
          "output_type": "stream",
          "name": "stdout",
          "text": [
            "The Omaga now is:  106\n"
          ]
        },
        {
          "output_type": "display_data",
          "data": {
            "text/plain": [
              "(0.3*u + 1.2)*exp(1.0*I*teta*(0.6*u - 0.25*v + 2.15))*sin(pi*(0.15*u + 0.125*v + 1.475))"
            ],
            "text/latex": "$\\displaystyle \\left(0.3 u + 1.2\\right) e^{1.0 i teta \\left(0.6 u - 0.25 v + 2.15\\right)} \\sin{\\left(\\pi \\left(0.15 u + 0.125 v + 1.475\\right) \\right)}$"
          },
          "metadata": {}
        },
        {
          "output_type": "display_data",
          "data": {
            "text/plain": [
              "(x - 0.5)*exp(1.0*I*teta*(2*x - y))*sin(pi*(x/2 + y/2))"
            ],
            "text/latex": "$\\displaystyle \\left(x - 0.5\\right) e^{1.0 i teta \\left(2 x - y\\right)} \\sin{\\left(\\pi \\left(\\frac{x}{2} + \\frac{y}{2}\\right) \\right)}$"
          },
          "metadata": {}
        },
        {
          "output_type": "stream",
          "name": "stdout",
          "text": [
            "The Omaga now is:  111\n"
          ]
        },
        {
          "output_type": "display_data",
          "data": {
            "text/plain": [
              "(0.3*u + 1.2)*exp(1.0*I*teta*(0.6*u - 0.25*v + 2.15))*sin(pi*(0.15*u + 0.125*v + 1.475))"
            ],
            "text/latex": "$\\displaystyle \\left(0.3 u + 1.2\\right) e^{1.0 i teta \\left(0.6 u - 0.25 v + 2.15\\right)} \\sin{\\left(\\pi \\left(0.15 u + 0.125 v + 1.475\\right) \\right)}$"
          },
          "metadata": {}
        },
        {
          "output_type": "display_data",
          "data": {
            "text/plain": [
              "(x - 0.5)*exp(1.0*I*teta*(2*x - y))*sin(pi*(x/2 + y/2))"
            ],
            "text/latex": "$\\displaystyle \\left(x - 0.5\\right) e^{1.0 i teta \\left(2 x - y\\right)} \\sin{\\left(\\pi \\left(\\frac{x}{2} + \\frac{y}{2}\\right) \\right)}$"
          },
          "metadata": {}
        },
        {
          "output_type": "stream",
          "name": "stdout",
          "text": [
            "The Omaga now is:  116\n"
          ]
        },
        {
          "output_type": "display_data",
          "data": {
            "text/plain": [
              "(0.3*u + 1.2)*exp(1.0*I*teta*(0.6*u - 0.25*v + 2.15))*sin(pi*(0.15*u + 0.125*v + 1.475))"
            ],
            "text/latex": "$\\displaystyle \\left(0.3 u + 1.2\\right) e^{1.0 i teta \\left(0.6 u - 0.25 v + 2.15\\right)} \\sin{\\left(\\pi \\left(0.15 u + 0.125 v + 1.475\\right) \\right)}$"
          },
          "metadata": {}
        },
        {
          "output_type": "display_data",
          "data": {
            "text/plain": [
              "(x - 0.5)*exp(1.0*I*teta*(2*x - y))*sin(pi*(x/2 + y/2))"
            ],
            "text/latex": "$\\displaystyle \\left(x - 0.5\\right) e^{1.0 i teta \\left(2 x - y\\right)} \\sin{\\left(\\pi \\left(\\frac{x}{2} + \\frac{y}{2}\\right) \\right)}$"
          },
          "metadata": {}
        },
        {
          "output_type": "stream",
          "name": "stdout",
          "text": [
            "The Omaga now is:  121\n"
          ]
        },
        {
          "output_type": "display_data",
          "data": {
            "text/plain": [
              "(0.3*u + 1.2)*exp(1.0*I*teta*(0.6*u - 0.25*v + 2.15))*sin(pi*(0.15*u + 0.125*v + 1.475))"
            ],
            "text/latex": "$\\displaystyle \\left(0.3 u + 1.2\\right) e^{1.0 i teta \\left(0.6 u - 0.25 v + 2.15\\right)} \\sin{\\left(\\pi \\left(0.15 u + 0.125 v + 1.475\\right) \\right)}$"
          },
          "metadata": {}
        },
        {
          "output_type": "display_data",
          "data": {
            "text/plain": [
              "(x - 0.5)*exp(1.0*I*teta*(2*x - y))*sin(pi*(x/2 + y/2))"
            ],
            "text/latex": "$\\displaystyle \\left(x - 0.5\\right) e^{1.0 i teta \\left(2 x - y\\right)} \\sin{\\left(\\pi \\left(\\frac{x}{2} + \\frac{y}{2}\\right) \\right)}$"
          },
          "metadata": {}
        },
        {
          "output_type": "stream",
          "name": "stdout",
          "text": [
            "The Omaga now is:  126\n"
          ]
        },
        {
          "output_type": "display_data",
          "data": {
            "text/plain": [
              "(0.3*u + 1.2)*exp(1.0*I*teta*(0.6*u - 0.25*v + 2.15))*sin(pi*(0.15*u + 0.125*v + 1.475))"
            ],
            "text/latex": "$\\displaystyle \\left(0.3 u + 1.2\\right) e^{1.0 i teta \\left(0.6 u - 0.25 v + 2.15\\right)} \\sin{\\left(\\pi \\left(0.15 u + 0.125 v + 1.475\\right) \\right)}$"
          },
          "metadata": {}
        },
        {
          "output_type": "display_data",
          "data": {
            "text/plain": [
              "(x - 0.5)*exp(1.0*I*teta*(2*x - y))*sin(pi*(x/2 + y/2))"
            ],
            "text/latex": "$\\displaystyle \\left(x - 0.5\\right) e^{1.0 i teta \\left(2 x - y\\right)} \\sin{\\left(\\pi \\left(\\frac{x}{2} + \\frac{y}{2}\\right) \\right)}$"
          },
          "metadata": {}
        },
        {
          "output_type": "stream",
          "name": "stdout",
          "text": [
            "The Omaga now is:  131\n"
          ]
        },
        {
          "output_type": "display_data",
          "data": {
            "text/plain": [
              "(0.3*u + 1.2)*exp(1.0*I*teta*(0.6*u - 0.25*v + 2.15))*sin(pi*(0.15*u + 0.125*v + 1.475))"
            ],
            "text/latex": "$\\displaystyle \\left(0.3 u + 1.2\\right) e^{1.0 i teta \\left(0.6 u - 0.25 v + 2.15\\right)} \\sin{\\left(\\pi \\left(0.15 u + 0.125 v + 1.475\\right) \\right)}$"
          },
          "metadata": {}
        },
        {
          "output_type": "display_data",
          "data": {
            "text/plain": [
              "(x - 0.5)*exp(1.0*I*teta*(2*x - y))*sin(pi*(x/2 + y/2))"
            ],
            "text/latex": "$\\displaystyle \\left(x - 0.5\\right) e^{1.0 i teta \\left(2 x - y\\right)} \\sin{\\left(\\pi \\left(\\frac{x}{2} + \\frac{y}{2}\\right) \\right)}$"
          },
          "metadata": {}
        },
        {
          "output_type": "stream",
          "name": "stdout",
          "text": [
            "The Omaga now is:  136\n"
          ]
        },
        {
          "output_type": "display_data",
          "data": {
            "text/plain": [
              "(0.3*u + 1.2)*exp(1.0*I*teta*(0.6*u - 0.25*v + 2.15))*sin(pi*(0.15*u + 0.125*v + 1.475))"
            ],
            "text/latex": "$\\displaystyle \\left(0.3 u + 1.2\\right) e^{1.0 i teta \\left(0.6 u - 0.25 v + 2.15\\right)} \\sin{\\left(\\pi \\left(0.15 u + 0.125 v + 1.475\\right) \\right)}$"
          },
          "metadata": {}
        },
        {
          "output_type": "display_data",
          "data": {
            "text/plain": [
              "(x - 0.5)*exp(1.0*I*teta*(2*x - y))*sin(pi*(x/2 + y/2))"
            ],
            "text/latex": "$\\displaystyle \\left(x - 0.5\\right) e^{1.0 i teta \\left(2 x - y\\right)} \\sin{\\left(\\pi \\left(\\frac{x}{2} + \\frac{y}{2}\\right) \\right)}$"
          },
          "metadata": {}
        },
        {
          "output_type": "stream",
          "name": "stdout",
          "text": [
            "The Omaga now is:  141\n"
          ]
        },
        {
          "output_type": "display_data",
          "data": {
            "text/plain": [
              "(0.3*u + 1.2)*exp(1.0*I*teta*(0.6*u - 0.25*v + 2.15))*sin(pi*(0.15*u + 0.125*v + 1.475))"
            ],
            "text/latex": "$\\displaystyle \\left(0.3 u + 1.2\\right) e^{1.0 i teta \\left(0.6 u - 0.25 v + 2.15\\right)} \\sin{\\left(\\pi \\left(0.15 u + 0.125 v + 1.475\\right) \\right)}$"
          },
          "metadata": {}
        },
        {
          "output_type": "display_data",
          "data": {
            "text/plain": [
              "(x - 0.5)*exp(1.0*I*teta*(2*x - y))*sin(pi*(x/2 + y/2))"
            ],
            "text/latex": "$\\displaystyle \\left(x - 0.5\\right) e^{1.0 i teta \\left(2 x - y\\right)} \\sin{\\left(\\pi \\left(\\frac{x}{2} + \\frac{y}{2}\\right) \\right)}$"
          },
          "metadata": {}
        },
        {
          "output_type": "stream",
          "name": "stdout",
          "text": [
            "The Omaga now is:  146\n"
          ]
        },
        {
          "output_type": "display_data",
          "data": {
            "text/plain": [
              "(0.3*u + 1.2)*exp(1.0*I*teta*(0.6*u - 0.25*v + 2.15))*sin(pi*(0.15*u + 0.125*v + 1.475))"
            ],
            "text/latex": "$\\displaystyle \\left(0.3 u + 1.2\\right) e^{1.0 i teta \\left(0.6 u - 0.25 v + 2.15\\right)} \\sin{\\left(\\pi \\left(0.15 u + 0.125 v + 1.475\\right) \\right)}$"
          },
          "metadata": {}
        },
        {
          "output_type": "display_data",
          "data": {
            "text/plain": [
              "(x - 0.5)*exp(1.0*I*teta*(2*x - y))*sin(pi*(x/2 + y/2))"
            ],
            "text/latex": "$\\displaystyle \\left(x - 0.5\\right) e^{1.0 i teta \\left(2 x - y\\right)} \\sin{\\left(\\pi \\left(\\frac{x}{2} + \\frac{y}{2}\\right) \\right)}$"
          },
          "metadata": {}
        },
        {
          "output_type": "stream",
          "name": "stdout",
          "text": [
            "The Omaga now is:  151\n"
          ]
        },
        {
          "output_type": "display_data",
          "data": {
            "text/plain": [
              "(0.3*u + 1.2)*exp(1.0*I*teta*(0.6*u - 0.25*v + 2.15))*sin(pi*(0.15*u + 0.125*v + 1.475))"
            ],
            "text/latex": "$\\displaystyle \\left(0.3 u + 1.2\\right) e^{1.0 i teta \\left(0.6 u - 0.25 v + 2.15\\right)} \\sin{\\left(\\pi \\left(0.15 u + 0.125 v + 1.475\\right) \\right)}$"
          },
          "metadata": {}
        },
        {
          "output_type": "display_data",
          "data": {
            "text/plain": [
              "(x - 0.5)*exp(1.0*I*teta*(2*x - y))*sin(pi*(x/2 + y/2))"
            ],
            "text/latex": "$\\displaystyle \\left(x - 0.5\\right) e^{1.0 i teta \\left(2 x - y\\right)} \\sin{\\left(\\pi \\left(\\frac{x}{2} + \\frac{y}{2}\\right) \\right)}$"
          },
          "metadata": {}
        },
        {
          "output_type": "stream",
          "name": "stdout",
          "text": [
            "The Omaga now is:  156\n"
          ]
        },
        {
          "output_type": "display_data",
          "data": {
            "text/plain": [
              "(0.3*u + 1.2)*exp(1.0*I*teta*(0.6*u - 0.25*v + 2.15))*sin(pi*(0.15*u + 0.125*v + 1.475))"
            ],
            "text/latex": "$\\displaystyle \\left(0.3 u + 1.2\\right) e^{1.0 i teta \\left(0.6 u - 0.25 v + 2.15\\right)} \\sin{\\left(\\pi \\left(0.15 u + 0.125 v + 1.475\\right) \\right)}$"
          },
          "metadata": {}
        },
        {
          "output_type": "display_data",
          "data": {
            "text/plain": [
              "(x - 0.5)*exp(1.0*I*teta*(2*x - y))*sin(pi*(x/2 + y/2))"
            ],
            "text/latex": "$\\displaystyle \\left(x - 0.5\\right) e^{1.0 i teta \\left(2 x - y\\right)} \\sin{\\left(\\pi \\left(\\frac{x}{2} + \\frac{y}{2}\\right) \\right)}$"
          },
          "metadata": {}
        },
        {
          "output_type": "stream",
          "name": "stdout",
          "text": [
            "The Omaga now is:  161\n"
          ]
        },
        {
          "output_type": "display_data",
          "data": {
            "text/plain": [
              "(0.3*u + 1.2)*exp(1.0*I*teta*(0.6*u - 0.25*v + 2.15))*sin(pi*(0.15*u + 0.125*v + 1.475))"
            ],
            "text/latex": "$\\displaystyle \\left(0.3 u + 1.2\\right) e^{1.0 i teta \\left(0.6 u - 0.25 v + 2.15\\right)} \\sin{\\left(\\pi \\left(0.15 u + 0.125 v + 1.475\\right) \\right)}$"
          },
          "metadata": {}
        },
        {
          "output_type": "display_data",
          "data": {
            "text/plain": [
              "(x - 0.5)*exp(1.0*I*teta*(2*x - y))*sin(pi*(x/2 + y/2))"
            ],
            "text/latex": "$\\displaystyle \\left(x - 0.5\\right) e^{1.0 i teta \\left(2 x - y\\right)} \\sin{\\left(\\pi \\left(\\frac{x}{2} + \\frac{y}{2}\\right) \\right)}$"
          },
          "metadata": {}
        },
        {
          "output_type": "stream",
          "name": "stdout",
          "text": [
            "The Omaga now is:  166\n"
          ]
        },
        {
          "output_type": "display_data",
          "data": {
            "text/plain": [
              "(0.3*u + 1.2)*exp(1.0*I*teta*(0.6*u - 0.25*v + 2.15))*sin(pi*(0.15*u + 0.125*v + 1.475))"
            ],
            "text/latex": "$\\displaystyle \\left(0.3 u + 1.2\\right) e^{1.0 i teta \\left(0.6 u - 0.25 v + 2.15\\right)} \\sin{\\left(\\pi \\left(0.15 u + 0.125 v + 1.475\\right) \\right)}$"
          },
          "metadata": {}
        },
        {
          "output_type": "display_data",
          "data": {
            "text/plain": [
              "(x - 0.5)*exp(1.0*I*teta*(2*x - y))*sin(pi*(x/2 + y/2))"
            ],
            "text/latex": "$\\displaystyle \\left(x - 0.5\\right) e^{1.0 i teta \\left(2 x - y\\right)} \\sin{\\left(\\pi \\left(\\frac{x}{2} + \\frac{y}{2}\\right) \\right)}$"
          },
          "metadata": {}
        },
        {
          "output_type": "stream",
          "name": "stdout",
          "text": [
            "The Omaga now is:  171\n"
          ]
        },
        {
          "output_type": "display_data",
          "data": {
            "text/plain": [
              "(0.3*u + 1.2)*exp(1.0*I*teta*(0.6*u - 0.25*v + 2.15))*sin(pi*(0.15*u + 0.125*v + 1.475))"
            ],
            "text/latex": "$\\displaystyle \\left(0.3 u + 1.2\\right) e^{1.0 i teta \\left(0.6 u - 0.25 v + 2.15\\right)} \\sin{\\left(\\pi \\left(0.15 u + 0.125 v + 1.475\\right) \\right)}$"
          },
          "metadata": {}
        },
        {
          "output_type": "display_data",
          "data": {
            "text/plain": [
              "(x - 0.5)*exp(1.0*I*teta*(2*x - y))*sin(pi*(x/2 + y/2))"
            ],
            "text/latex": "$\\displaystyle \\left(x - 0.5\\right) e^{1.0 i teta \\left(2 x - y\\right)} \\sin{\\left(\\pi \\left(\\frac{x}{2} + \\frac{y}{2}\\right) \\right)}$"
          },
          "metadata": {}
        },
        {
          "output_type": "stream",
          "name": "stdout",
          "text": [
            "The Omaga now is:  176\n"
          ]
        },
        {
          "output_type": "display_data",
          "data": {
            "text/plain": [
              "(0.3*u + 1.2)*exp(1.0*I*teta*(0.6*u - 0.25*v + 2.15))*sin(pi*(0.15*u + 0.125*v + 1.475))"
            ],
            "text/latex": "$\\displaystyle \\left(0.3 u + 1.2\\right) e^{1.0 i teta \\left(0.6 u - 0.25 v + 2.15\\right)} \\sin{\\left(\\pi \\left(0.15 u + 0.125 v + 1.475\\right) \\right)}$"
          },
          "metadata": {}
        },
        {
          "output_type": "display_data",
          "data": {
            "text/plain": [
              "(x - 0.5)*exp(1.0*I*teta*(2*x - y))*sin(pi*(x/2 + y/2))"
            ],
            "text/latex": "$\\displaystyle \\left(x - 0.5\\right) e^{1.0 i teta \\left(2 x - y\\right)} \\sin{\\left(\\pi \\left(\\frac{x}{2} + \\frac{y}{2}\\right) \\right)}$"
          },
          "metadata": {}
        },
        {
          "output_type": "stream",
          "name": "stdout",
          "text": [
            "The Omaga now is:  181\n"
          ]
        },
        {
          "output_type": "display_data",
          "data": {
            "text/plain": [
              "(0.3*u + 1.2)*exp(1.0*I*teta*(0.6*u - 0.25*v + 2.15))*sin(pi*(0.15*u + 0.125*v + 1.475))"
            ],
            "text/latex": "$\\displaystyle \\left(0.3 u + 1.2\\right) e^{1.0 i teta \\left(0.6 u - 0.25 v + 2.15\\right)} \\sin{\\left(\\pi \\left(0.15 u + 0.125 v + 1.475\\right) \\right)}$"
          },
          "metadata": {}
        },
        {
          "output_type": "display_data",
          "data": {
            "text/plain": [
              "(x - 0.5)*exp(1.0*I*teta*(2*x - y))*sin(pi*(x/2 + y/2))"
            ],
            "text/latex": "$\\displaystyle \\left(x - 0.5\\right) e^{1.0 i teta \\left(2 x - y\\right)} \\sin{\\left(\\pi \\left(\\frac{x}{2} + \\frac{y}{2}\\right) \\right)}$"
          },
          "metadata": {}
        },
        {
          "output_type": "stream",
          "name": "stdout",
          "text": [
            "The Omaga now is:  186\n"
          ]
        },
        {
          "output_type": "display_data",
          "data": {
            "text/plain": [
              "(0.3*u + 1.2)*exp(1.0*I*teta*(0.6*u - 0.25*v + 2.15))*sin(pi*(0.15*u + 0.125*v + 1.475))"
            ],
            "text/latex": "$\\displaystyle \\left(0.3 u + 1.2\\right) e^{1.0 i teta \\left(0.6 u - 0.25 v + 2.15\\right)} \\sin{\\left(\\pi \\left(0.15 u + 0.125 v + 1.475\\right) \\right)}$"
          },
          "metadata": {}
        },
        {
          "output_type": "display_data",
          "data": {
            "text/plain": [
              "(x - 0.5)*exp(1.0*I*teta*(2*x - y))*sin(pi*(x/2 + y/2))"
            ],
            "text/latex": "$\\displaystyle \\left(x - 0.5\\right) e^{1.0 i teta \\left(2 x - y\\right)} \\sin{\\left(\\pi \\left(\\frac{x}{2} + \\frac{y}{2}\\right) \\right)}$"
          },
          "metadata": {}
        },
        {
          "output_type": "stream",
          "name": "stdout",
          "text": [
            "The Omaga now is:  191\n"
          ]
        },
        {
          "output_type": "display_data",
          "data": {
            "text/plain": [
              "(0.3*u + 1.2)*exp(1.0*I*teta*(0.6*u - 0.25*v + 2.15))*sin(pi*(0.15*u + 0.125*v + 1.475))"
            ],
            "text/latex": "$\\displaystyle \\left(0.3 u + 1.2\\right) e^{1.0 i teta \\left(0.6 u - 0.25 v + 2.15\\right)} \\sin{\\left(\\pi \\left(0.15 u + 0.125 v + 1.475\\right) \\right)}$"
          },
          "metadata": {}
        },
        {
          "output_type": "display_data",
          "data": {
            "text/plain": [
              "(x - 0.5)*exp(1.0*I*teta*(2*x - y))*sin(pi*(x/2 + y/2))"
            ],
            "text/latex": "$\\displaystyle \\left(x - 0.5\\right) e^{1.0 i teta \\left(2 x - y\\right)} \\sin{\\left(\\pi \\left(\\frac{x}{2} + \\frac{y}{2}\\right) \\right)}$"
          },
          "metadata": {}
        },
        {
          "output_type": "stream",
          "name": "stdout",
          "text": [
            "The Omaga now is:  196\n"
          ]
        },
        {
          "output_type": "display_data",
          "data": {
            "text/plain": [
              "(0.3*u + 1.2)*exp(1.0*I*teta*(0.6*u - 0.25*v + 2.15))*sin(pi*(0.15*u + 0.125*v + 1.475))"
            ],
            "text/latex": "$\\displaystyle \\left(0.3 u + 1.2\\right) e^{1.0 i teta \\left(0.6 u - 0.25 v + 2.15\\right)} \\sin{\\left(\\pi \\left(0.15 u + 0.125 v + 1.475\\right) \\right)}$"
          },
          "metadata": {}
        },
        {
          "output_type": "display_data",
          "data": {
            "text/plain": [
              "(x - 0.5)*exp(1.0*I*teta*(2*x - y))*sin(pi*(x/2 + y/2))"
            ],
            "text/latex": "$\\displaystyle \\left(x - 0.5\\right) e^{1.0 i teta \\left(2 x - y\\right)} \\sin{\\left(\\pi \\left(\\frac{x}{2} + \\frac{y}{2}\\right) \\right)}$"
          },
          "metadata": {}
        },
        {
          "output_type": "stream",
          "name": "stdout",
          "text": [
            "The Omaga now is:  201\n"
          ]
        },
        {
          "output_type": "display_data",
          "data": {
            "text/plain": [
              "(0.3*u + 1.2)*exp(1.0*I*teta*(0.6*u - 0.25*v + 2.15))*sin(pi*(0.15*u + 0.125*v + 1.475))"
            ],
            "text/latex": "$\\displaystyle \\left(0.3 u + 1.2\\right) e^{1.0 i teta \\left(0.6 u - 0.25 v + 2.15\\right)} \\sin{\\left(\\pi \\left(0.15 u + 0.125 v + 1.475\\right) \\right)}$"
          },
          "metadata": {}
        },
        {
          "output_type": "display_data",
          "data": {
            "text/plain": [
              "(x - 0.5)*exp(1.0*I*teta*(2*x - y))*sin(pi*(x/2 + y/2))"
            ],
            "text/latex": "$\\displaystyle \\left(x - 0.5\\right) e^{1.0 i teta \\left(2 x - y\\right)} \\sin{\\left(\\pi \\left(\\frac{x}{2} + \\frac{y}{2}\\right) \\right)}$"
          },
          "metadata": {}
        },
        {
          "output_type": "stream",
          "name": "stdout",
          "text": [
            "The Omaga now is:  206\n"
          ]
        },
        {
          "output_type": "display_data",
          "data": {
            "text/plain": [
              "(0.3*u + 1.2)*exp(1.0*I*teta*(0.6*u - 0.25*v + 2.15))*sin(pi*(0.15*u + 0.125*v + 1.475))"
            ],
            "text/latex": "$\\displaystyle \\left(0.3 u + 1.2\\right) e^{1.0 i teta \\left(0.6 u - 0.25 v + 2.15\\right)} \\sin{\\left(\\pi \\left(0.15 u + 0.125 v + 1.475\\right) \\right)}$"
          },
          "metadata": {}
        },
        {
          "output_type": "display_data",
          "data": {
            "text/plain": [
              "(x - 0.5)*exp(1.0*I*teta*(2*x - y))*sin(pi*(x/2 + y/2))"
            ],
            "text/latex": "$\\displaystyle \\left(x - 0.5\\right) e^{1.0 i teta \\left(2 x - y\\right)} \\sin{\\left(\\pi \\left(\\frac{x}{2} + \\frac{y}{2}\\right) \\right)}$"
          },
          "metadata": {}
        },
        {
          "output_type": "stream",
          "name": "stdout",
          "text": [
            "The Omaga now is:  211\n"
          ]
        },
        {
          "output_type": "display_data",
          "data": {
            "text/plain": [
              "(0.3*u + 1.2)*exp(1.0*I*teta*(0.6*u - 0.25*v + 2.15))*sin(pi*(0.15*u + 0.125*v + 1.475))"
            ],
            "text/latex": "$\\displaystyle \\left(0.3 u + 1.2\\right) e^{1.0 i teta \\left(0.6 u - 0.25 v + 2.15\\right)} \\sin{\\left(\\pi \\left(0.15 u + 0.125 v + 1.475\\right) \\right)}$"
          },
          "metadata": {}
        },
        {
          "output_type": "display_data",
          "data": {
            "text/plain": [
              "(x - 0.5)*exp(1.0*I*teta*(2*x - y))*sin(pi*(x/2 + y/2))"
            ],
            "text/latex": "$\\displaystyle \\left(x - 0.5\\right) e^{1.0 i teta \\left(2 x - y\\right)} \\sin{\\left(\\pi \\left(\\frac{x}{2} + \\frac{y}{2}\\right) \\right)}$"
          },
          "metadata": {}
        },
        {
          "output_type": "stream",
          "name": "stdout",
          "text": [
            "The Omaga now is:  216\n"
          ]
        },
        {
          "output_type": "display_data",
          "data": {
            "text/plain": [
              "(0.3*u + 1.2)*exp(1.0*I*teta*(0.6*u - 0.25*v + 2.15))*sin(pi*(0.15*u + 0.125*v + 1.475))"
            ],
            "text/latex": "$\\displaystyle \\left(0.3 u + 1.2\\right) e^{1.0 i teta \\left(0.6 u - 0.25 v + 2.15\\right)} \\sin{\\left(\\pi \\left(0.15 u + 0.125 v + 1.475\\right) \\right)}$"
          },
          "metadata": {}
        },
        {
          "output_type": "display_data",
          "data": {
            "text/plain": [
              "(x - 0.5)*exp(1.0*I*teta*(2*x - y))*sin(pi*(x/2 + y/2))"
            ],
            "text/latex": "$\\displaystyle \\left(x - 0.5\\right) e^{1.0 i teta \\left(2 x - y\\right)} \\sin{\\left(\\pi \\left(\\frac{x}{2} + \\frac{y}{2}\\right) \\right)}$"
          },
          "metadata": {}
        },
        {
          "output_type": "stream",
          "name": "stdout",
          "text": [
            "The Omaga now is:  221\n"
          ]
        },
        {
          "output_type": "display_data",
          "data": {
            "text/plain": [
              "(0.3*u + 1.2)*exp(1.0*I*teta*(0.6*u - 0.25*v + 2.15))*sin(pi*(0.15*u + 0.125*v + 1.475))"
            ],
            "text/latex": "$\\displaystyle \\left(0.3 u + 1.2\\right) e^{1.0 i teta \\left(0.6 u - 0.25 v + 2.15\\right)} \\sin{\\left(\\pi \\left(0.15 u + 0.125 v + 1.475\\right) \\right)}$"
          },
          "metadata": {}
        },
        {
          "output_type": "display_data",
          "data": {
            "text/plain": [
              "(x - 0.5)*exp(1.0*I*teta*(2*x - y))*sin(pi*(x/2 + y/2))"
            ],
            "text/latex": "$\\displaystyle \\left(x - 0.5\\right) e^{1.0 i teta \\left(2 x - y\\right)} \\sin{\\left(\\pi \\left(\\frac{x}{2} + \\frac{y}{2}\\right) \\right)}$"
          },
          "metadata": {}
        },
        {
          "output_type": "stream",
          "name": "stdout",
          "text": [
            "The Omaga now is:  226\n"
          ]
        },
        {
          "output_type": "display_data",
          "data": {
            "text/plain": [
              "(0.3*u + 1.2)*exp(1.0*I*teta*(0.6*u - 0.25*v + 2.15))*sin(pi*(0.15*u + 0.125*v + 1.475))"
            ],
            "text/latex": "$\\displaystyle \\left(0.3 u + 1.2\\right) e^{1.0 i teta \\left(0.6 u - 0.25 v + 2.15\\right)} \\sin{\\left(\\pi \\left(0.15 u + 0.125 v + 1.475\\right) \\right)}$"
          },
          "metadata": {}
        },
        {
          "output_type": "display_data",
          "data": {
            "text/plain": [
              "(x - 0.5)*exp(1.0*I*teta*(2*x - y))*sin(pi*(x/2 + y/2))"
            ],
            "text/latex": "$\\displaystyle \\left(x - 0.5\\right) e^{1.0 i teta \\left(2 x - y\\right)} \\sin{\\left(\\pi \\left(\\frac{x}{2} + \\frac{y}{2}\\right) \\right)}$"
          },
          "metadata": {}
        },
        {
          "output_type": "stream",
          "name": "stdout",
          "text": [
            "The Omaga now is:  231\n"
          ]
        },
        {
          "output_type": "display_data",
          "data": {
            "text/plain": [
              "(0.3*u + 1.2)*exp(1.0*I*teta*(0.6*u - 0.25*v + 2.15))*sin(pi*(0.15*u + 0.125*v + 1.475))"
            ],
            "text/latex": "$\\displaystyle \\left(0.3 u + 1.2\\right) e^{1.0 i teta \\left(0.6 u - 0.25 v + 2.15\\right)} \\sin{\\left(\\pi \\left(0.15 u + 0.125 v + 1.475\\right) \\right)}$"
          },
          "metadata": {}
        },
        {
          "output_type": "display_data",
          "data": {
            "text/plain": [
              "(x - 0.5)*exp(1.0*I*teta*(2*x - y))*sin(pi*(x/2 + y/2))"
            ],
            "text/latex": "$\\displaystyle \\left(x - 0.5\\right) e^{1.0 i teta \\left(2 x - y\\right)} \\sin{\\left(\\pi \\left(\\frac{x}{2} + \\frac{y}{2}\\right) \\right)}$"
          },
          "metadata": {}
        },
        {
          "output_type": "stream",
          "name": "stdout",
          "text": [
            "The Omaga now is:  236\n"
          ]
        },
        {
          "output_type": "display_data",
          "data": {
            "text/plain": [
              "(0.3*u + 1.2)*exp(1.0*I*teta*(0.6*u - 0.25*v + 2.15))*sin(pi*(0.15*u + 0.125*v + 1.475))"
            ],
            "text/latex": "$\\displaystyle \\left(0.3 u + 1.2\\right) e^{1.0 i teta \\left(0.6 u - 0.25 v + 2.15\\right)} \\sin{\\left(\\pi \\left(0.15 u + 0.125 v + 1.475\\right) \\right)}$"
          },
          "metadata": {}
        },
        {
          "output_type": "display_data",
          "data": {
            "text/plain": [
              "(x - 0.5)*exp(1.0*I*teta*(2*x - y))*sin(pi*(x/2 + y/2))"
            ],
            "text/latex": "$\\displaystyle \\left(x - 0.5\\right) e^{1.0 i teta \\left(2 x - y\\right)} \\sin{\\left(\\pi \\left(\\frac{x}{2} + \\frac{y}{2}\\right) \\right)}$"
          },
          "metadata": {}
        },
        {
          "output_type": "stream",
          "name": "stdout",
          "text": [
            "The Omaga now is:  241\n"
          ]
        },
        {
          "output_type": "display_data",
          "data": {
            "text/plain": [
              "(0.3*u + 1.2)*exp(1.0*I*teta*(0.6*u - 0.25*v + 2.15))*sin(pi*(0.15*u + 0.125*v + 1.475))"
            ],
            "text/latex": "$\\displaystyle \\left(0.3 u + 1.2\\right) e^{1.0 i teta \\left(0.6 u - 0.25 v + 2.15\\right)} \\sin{\\left(\\pi \\left(0.15 u + 0.125 v + 1.475\\right) \\right)}$"
          },
          "metadata": {}
        },
        {
          "output_type": "display_data",
          "data": {
            "text/plain": [
              "(x - 0.5)*exp(1.0*I*teta*(2*x - y))*sin(pi*(x/2 + y/2))"
            ],
            "text/latex": "$\\displaystyle \\left(x - 0.5\\right) e^{1.0 i teta \\left(2 x - y\\right)} \\sin{\\left(\\pi \\left(\\frac{x}{2} + \\frac{y}{2}\\right) \\right)}$"
          },
          "metadata": {}
        },
        {
          "output_type": "stream",
          "name": "stdout",
          "text": [
            "The Omaga now is:  246\n"
          ]
        },
        {
          "output_type": "display_data",
          "data": {
            "text/plain": [
              "(0.3*u + 1.2)*exp(1.0*I*teta*(0.6*u - 0.25*v + 2.15))*sin(pi*(0.15*u + 0.125*v + 1.475))"
            ],
            "text/latex": "$\\displaystyle \\left(0.3 u + 1.2\\right) e^{1.0 i teta \\left(0.6 u - 0.25 v + 2.15\\right)} \\sin{\\left(\\pi \\left(0.15 u + 0.125 v + 1.475\\right) \\right)}$"
          },
          "metadata": {}
        },
        {
          "output_type": "display_data",
          "data": {
            "text/plain": [
              "(x - 0.5)*exp(1.0*I*teta*(2*x - y))*sin(pi*(x/2 + y/2))"
            ],
            "text/latex": "$\\displaystyle \\left(x - 0.5\\right) e^{1.0 i teta \\left(2 x - y\\right)} \\sin{\\left(\\pi \\left(\\frac{x}{2} + \\frac{y}{2}\\right) \\right)}$"
          },
          "metadata": {}
        },
        {
          "output_type": "stream",
          "name": "stdout",
          "text": [
            "The Omaga now is:  251\n"
          ]
        },
        {
          "output_type": "display_data",
          "data": {
            "text/plain": [
              "(0.3*u + 1.2)*exp(1.0*I*teta*(0.6*u - 0.25*v + 2.15))*sin(pi*(0.15*u + 0.125*v + 1.475))"
            ],
            "text/latex": "$\\displaystyle \\left(0.3 u + 1.2\\right) e^{1.0 i teta \\left(0.6 u - 0.25 v + 2.15\\right)} \\sin{\\left(\\pi \\left(0.15 u + 0.125 v + 1.475\\right) \\right)}$"
          },
          "metadata": {}
        },
        {
          "output_type": "display_data",
          "data": {
            "text/plain": [
              "(x - 0.5)*exp(1.0*I*teta*(2*x - y))*sin(pi*(x/2 + y/2))"
            ],
            "text/latex": "$\\displaystyle \\left(x - 0.5\\right) e^{1.0 i teta \\left(2 x - y\\right)} \\sin{\\left(\\pi \\left(\\frac{x}{2} + \\frac{y}{2}\\right) \\right)}$"
          },
          "metadata": {}
        },
        {
          "output_type": "stream",
          "name": "stdout",
          "text": [
            "The Omaga now is:  256\n"
          ]
        },
        {
          "output_type": "display_data",
          "data": {
            "text/plain": [
              "(0.3*u + 1.2)*exp(1.0*I*teta*(0.6*u - 0.25*v + 2.15))*sin(pi*(0.15*u + 0.125*v + 1.475))"
            ],
            "text/latex": "$\\displaystyle \\left(0.3 u + 1.2\\right) e^{1.0 i teta \\left(0.6 u - 0.25 v + 2.15\\right)} \\sin{\\left(\\pi \\left(0.15 u + 0.125 v + 1.475\\right) \\right)}$"
          },
          "metadata": {}
        },
        {
          "output_type": "display_data",
          "data": {
            "text/plain": [
              "(x - 0.5)*exp(1.0*I*teta*(2*x - y))*sin(pi*(x/2 + y/2))"
            ],
            "text/latex": "$\\displaystyle \\left(x - 0.5\\right) e^{1.0 i teta \\left(2 x - y\\right)} \\sin{\\left(\\pi \\left(\\frac{x}{2} + \\frac{y}{2}\\right) \\right)}$"
          },
          "metadata": {}
        },
        {
          "output_type": "stream",
          "name": "stdout",
          "text": [
            "The Omaga now is:  261\n"
          ]
        },
        {
          "output_type": "display_data",
          "data": {
            "text/plain": [
              "(0.3*u + 1.2)*exp(1.0*I*teta*(0.6*u - 0.25*v + 2.15))*sin(pi*(0.15*u + 0.125*v + 1.475))"
            ],
            "text/latex": "$\\displaystyle \\left(0.3 u + 1.2\\right) e^{1.0 i teta \\left(0.6 u - 0.25 v + 2.15\\right)} \\sin{\\left(\\pi \\left(0.15 u + 0.125 v + 1.475\\right) \\right)}$"
          },
          "metadata": {}
        },
        {
          "output_type": "display_data",
          "data": {
            "text/plain": [
              "(x - 0.5)*exp(1.0*I*teta*(2*x - y))*sin(pi*(x/2 + y/2))"
            ],
            "text/latex": "$\\displaystyle \\left(x - 0.5\\right) e^{1.0 i teta \\left(2 x - y\\right)} \\sin{\\left(\\pi \\left(\\frac{x}{2} + \\frac{y}{2}\\right) \\right)}$"
          },
          "metadata": {}
        },
        {
          "output_type": "stream",
          "name": "stdout",
          "text": [
            "The Omaga now is:  266\n"
          ]
        },
        {
          "output_type": "display_data",
          "data": {
            "text/plain": [
              "(0.3*u + 1.2)*exp(1.0*I*teta*(0.6*u - 0.25*v + 2.15))*sin(pi*(0.15*u + 0.125*v + 1.475))"
            ],
            "text/latex": "$\\displaystyle \\left(0.3 u + 1.2\\right) e^{1.0 i teta \\left(0.6 u - 0.25 v + 2.15\\right)} \\sin{\\left(\\pi \\left(0.15 u + 0.125 v + 1.475\\right) \\right)}$"
          },
          "metadata": {}
        },
        {
          "output_type": "display_data",
          "data": {
            "text/plain": [
              "(x - 0.5)*exp(1.0*I*teta*(2*x - y))*sin(pi*(x/2 + y/2))"
            ],
            "text/latex": "$\\displaystyle \\left(x - 0.5\\right) e^{1.0 i teta \\left(2 x - y\\right)} \\sin{\\left(\\pi \\left(\\frac{x}{2} + \\frac{y}{2}\\right) \\right)}$"
          },
          "metadata": {}
        },
        {
          "output_type": "stream",
          "name": "stdout",
          "text": [
            "The Omaga now is:  271\n"
          ]
        },
        {
          "output_type": "display_data",
          "data": {
            "text/plain": [
              "(0.3*u + 1.2)*exp(1.0*I*teta*(0.6*u - 0.25*v + 2.15))*sin(pi*(0.15*u + 0.125*v + 1.475))"
            ],
            "text/latex": "$\\displaystyle \\left(0.3 u + 1.2\\right) e^{1.0 i teta \\left(0.6 u - 0.25 v + 2.15\\right)} \\sin{\\left(\\pi \\left(0.15 u + 0.125 v + 1.475\\right) \\right)}$"
          },
          "metadata": {}
        },
        {
          "output_type": "display_data",
          "data": {
            "text/plain": [
              "(x - 0.5)*exp(1.0*I*teta*(2*x - y))*sin(pi*(x/2 + y/2))"
            ],
            "text/latex": "$\\displaystyle \\left(x - 0.5\\right) e^{1.0 i teta \\left(2 x - y\\right)} \\sin{\\left(\\pi \\left(\\frac{x}{2} + \\frac{y}{2}\\right) \\right)}$"
          },
          "metadata": {}
        },
        {
          "output_type": "stream",
          "name": "stdout",
          "text": [
            "The Omaga now is:  276\n"
          ]
        },
        {
          "output_type": "display_data",
          "data": {
            "text/plain": [
              "(0.3*u + 1.2)*exp(1.0*I*teta*(0.6*u - 0.25*v + 2.15))*sin(pi*(0.15*u + 0.125*v + 1.475))"
            ],
            "text/latex": "$\\displaystyle \\left(0.3 u + 1.2\\right) e^{1.0 i teta \\left(0.6 u - 0.25 v + 2.15\\right)} \\sin{\\left(\\pi \\left(0.15 u + 0.125 v + 1.475\\right) \\right)}$"
          },
          "metadata": {}
        },
        {
          "output_type": "display_data",
          "data": {
            "text/plain": [
              "(x - 0.5)*exp(1.0*I*teta*(2*x - y))*sin(pi*(x/2 + y/2))"
            ],
            "text/latex": "$\\displaystyle \\left(x - 0.5\\right) e^{1.0 i teta \\left(2 x - y\\right)} \\sin{\\left(\\pi \\left(\\frac{x}{2} + \\frac{y}{2}\\right) \\right)}$"
          },
          "metadata": {}
        },
        {
          "output_type": "stream",
          "name": "stdout",
          "text": [
            "The Omaga now is:  281\n"
          ]
        },
        {
          "output_type": "display_data",
          "data": {
            "text/plain": [
              "(0.3*u + 1.2)*exp(1.0*I*teta*(0.6*u - 0.25*v + 2.15))*sin(pi*(0.15*u + 0.125*v + 1.475))"
            ],
            "text/latex": "$\\displaystyle \\left(0.3 u + 1.2\\right) e^{1.0 i teta \\left(0.6 u - 0.25 v + 2.15\\right)} \\sin{\\left(\\pi \\left(0.15 u + 0.125 v + 1.475\\right) \\right)}$"
          },
          "metadata": {}
        },
        {
          "output_type": "display_data",
          "data": {
            "text/plain": [
              "(x - 0.5)*exp(1.0*I*teta*(2*x - y))*sin(pi*(x/2 + y/2))"
            ],
            "text/latex": "$\\displaystyle \\left(x - 0.5\\right) e^{1.0 i teta \\left(2 x - y\\right)} \\sin{\\left(\\pi \\left(\\frac{x}{2} + \\frac{y}{2}\\right) \\right)}$"
          },
          "metadata": {}
        },
        {
          "output_type": "stream",
          "name": "stdout",
          "text": [
            "The Omaga now is:  286\n"
          ]
        },
        {
          "output_type": "display_data",
          "data": {
            "text/plain": [
              "(0.3*u + 1.2)*exp(1.0*I*teta*(0.6*u - 0.25*v + 2.15))*sin(pi*(0.15*u + 0.125*v + 1.475))"
            ],
            "text/latex": "$\\displaystyle \\left(0.3 u + 1.2\\right) e^{1.0 i teta \\left(0.6 u - 0.25 v + 2.15\\right)} \\sin{\\left(\\pi \\left(0.15 u + 0.125 v + 1.475\\right) \\right)}$"
          },
          "metadata": {}
        },
        {
          "output_type": "display_data",
          "data": {
            "text/plain": [
              "(x - 0.5)*exp(1.0*I*teta*(2*x - y))*sin(pi*(x/2 + y/2))"
            ],
            "text/latex": "$\\displaystyle \\left(x - 0.5\\right) e^{1.0 i teta \\left(2 x - y\\right)} \\sin{\\left(\\pi \\left(\\frac{x}{2} + \\frac{y}{2}\\right) \\right)}$"
          },
          "metadata": {}
        },
        {
          "output_type": "stream",
          "name": "stdout",
          "text": [
            "The Omaga now is:  291\n"
          ]
        },
        {
          "output_type": "display_data",
          "data": {
            "text/plain": [
              "(0.3*u + 1.2)*exp(1.0*I*teta*(0.6*u - 0.25*v + 2.15))*sin(pi*(0.15*u + 0.125*v + 1.475))"
            ],
            "text/latex": "$\\displaystyle \\left(0.3 u + 1.2\\right) e^{1.0 i teta \\left(0.6 u - 0.25 v + 2.15\\right)} \\sin{\\left(\\pi \\left(0.15 u + 0.125 v + 1.475\\right) \\right)}$"
          },
          "metadata": {}
        },
        {
          "output_type": "display_data",
          "data": {
            "text/plain": [
              "(x - 0.5)*exp(1.0*I*teta*(2*x - y))*sin(pi*(x/2 + y/2))"
            ],
            "text/latex": "$\\displaystyle \\left(x - 0.5\\right) e^{1.0 i teta \\left(2 x - y\\right)} \\sin{\\left(\\pi \\left(\\frac{x}{2} + \\frac{y}{2}\\right) \\right)}$"
          },
          "metadata": {}
        },
        {
          "output_type": "stream",
          "name": "stdout",
          "text": [
            "The Omaga now is:  296\n"
          ]
        },
        {
          "output_type": "display_data",
          "data": {
            "text/plain": [
              "(0.3*u + 1.2)*exp(1.0*I*teta*(0.6*u - 0.25*v + 2.15))*sin(pi*(0.15*u + 0.125*v + 1.475))"
            ],
            "text/latex": "$\\displaystyle \\left(0.3 u + 1.2\\right) e^{1.0 i teta \\left(0.6 u - 0.25 v + 2.15\\right)} \\sin{\\left(\\pi \\left(0.15 u + 0.125 v + 1.475\\right) \\right)}$"
          },
          "metadata": {}
        },
        {
          "output_type": "display_data",
          "data": {
            "text/plain": [
              "(x - 0.5)*exp(1.0*I*teta*(2*x - y))*sin(pi*(x/2 + y/2))"
            ],
            "text/latex": "$\\displaystyle \\left(x - 0.5\\right) e^{1.0 i teta \\left(2 x - y\\right)} \\sin{\\left(\\pi \\left(\\frac{x}{2} + \\frac{y}{2}\\right) \\right)}$"
          },
          "metadata": {}
        },
        {
          "output_type": "stream",
          "name": "stdout",
          "text": [
            "The Omaga now is:  301\n"
          ]
        },
        {
          "output_type": "display_data",
          "data": {
            "text/plain": [
              "(0.3*u + 1.2)*exp(1.0*I*teta*(0.6*u - 0.25*v + 2.15))*sin(pi*(0.15*u + 0.125*v + 1.475))"
            ],
            "text/latex": "$\\displaystyle \\left(0.3 u + 1.2\\right) e^{1.0 i teta \\left(0.6 u - 0.25 v + 2.15\\right)} \\sin{\\left(\\pi \\left(0.15 u + 0.125 v + 1.475\\right) \\right)}$"
          },
          "metadata": {}
        },
        {
          "output_type": "display_data",
          "data": {
            "text/plain": [
              "(x - 0.5)*exp(1.0*I*teta*(2*x - y))*sin(pi*(x/2 + y/2))"
            ],
            "text/latex": "$\\displaystyle \\left(x - 0.5\\right) e^{1.0 i teta \\left(2 x - y\\right)} \\sin{\\left(\\pi \\left(\\frac{x}{2} + \\frac{y}{2}\\right) \\right)}$"
          },
          "metadata": {}
        },
        {
          "output_type": "stream",
          "name": "stdout",
          "text": [
            "The Omaga now is:  306\n"
          ]
        },
        {
          "output_type": "display_data",
          "data": {
            "text/plain": [
              "(0.3*u + 1.2)*exp(1.0*I*teta*(0.6*u - 0.25*v + 2.15))*sin(pi*(0.15*u + 0.125*v + 1.475))"
            ],
            "text/latex": "$\\displaystyle \\left(0.3 u + 1.2\\right) e^{1.0 i teta \\left(0.6 u - 0.25 v + 2.15\\right)} \\sin{\\left(\\pi \\left(0.15 u + 0.125 v + 1.475\\right) \\right)}$"
          },
          "metadata": {}
        },
        {
          "output_type": "display_data",
          "data": {
            "text/plain": [
              "(x - 0.5)*exp(1.0*I*teta*(2*x - y))*sin(pi*(x/2 + y/2))"
            ],
            "text/latex": "$\\displaystyle \\left(x - 0.5\\right) e^{1.0 i teta \\left(2 x - y\\right)} \\sin{\\left(\\pi \\left(\\frac{x}{2} + \\frac{y}{2}\\right) \\right)}$"
          },
          "metadata": {}
        },
        {
          "output_type": "stream",
          "name": "stdout",
          "text": [
            "The Omaga now is:  311\n"
          ]
        },
        {
          "output_type": "display_data",
          "data": {
            "text/plain": [
              "(0.3*u + 1.2)*exp(1.0*I*teta*(0.6*u - 0.25*v + 2.15))*sin(pi*(0.15*u + 0.125*v + 1.475))"
            ],
            "text/latex": "$\\displaystyle \\left(0.3 u + 1.2\\right) e^{1.0 i teta \\left(0.6 u - 0.25 v + 2.15\\right)} \\sin{\\left(\\pi \\left(0.15 u + 0.125 v + 1.475\\right) \\right)}$"
          },
          "metadata": {}
        },
        {
          "output_type": "display_data",
          "data": {
            "text/plain": [
              "(x - 0.5)*exp(1.0*I*teta*(2*x - y))*sin(pi*(x/2 + y/2))"
            ],
            "text/latex": "$\\displaystyle \\left(x - 0.5\\right) e^{1.0 i teta \\left(2 x - y\\right)} \\sin{\\left(\\pi \\left(\\frac{x}{2} + \\frac{y}{2}\\right) \\right)}$"
          },
          "metadata": {}
        },
        {
          "output_type": "stream",
          "name": "stdout",
          "text": [
            "The Omaga now is:  316\n"
          ]
        },
        {
          "output_type": "display_data",
          "data": {
            "text/plain": [
              "(0.3*u + 1.2)*exp(1.0*I*teta*(0.6*u - 0.25*v + 2.15))*sin(pi*(0.15*u + 0.125*v + 1.475))"
            ],
            "text/latex": "$\\displaystyle \\left(0.3 u + 1.2\\right) e^{1.0 i teta \\left(0.6 u - 0.25 v + 2.15\\right)} \\sin{\\left(\\pi \\left(0.15 u + 0.125 v + 1.475\\right) \\right)}$"
          },
          "metadata": {}
        },
        {
          "output_type": "display_data",
          "data": {
            "text/plain": [
              "(x - 0.5)*exp(1.0*I*teta*(2*x - y))*sin(pi*(x/2 + y/2))"
            ],
            "text/latex": "$\\displaystyle \\left(x - 0.5\\right) e^{1.0 i teta \\left(2 x - y\\right)} \\sin{\\left(\\pi \\left(\\frac{x}{2} + \\frac{y}{2}\\right) \\right)}$"
          },
          "metadata": {}
        },
        {
          "output_type": "stream",
          "name": "stdout",
          "text": [
            "The Omaga now is:  321\n"
          ]
        },
        {
          "output_type": "display_data",
          "data": {
            "text/plain": [
              "(0.3*u + 1.2)*exp(1.0*I*teta*(0.6*u - 0.25*v + 2.15))*sin(pi*(0.15*u + 0.125*v + 1.475))"
            ],
            "text/latex": "$\\displaystyle \\left(0.3 u + 1.2\\right) e^{1.0 i teta \\left(0.6 u - 0.25 v + 2.15\\right)} \\sin{\\left(\\pi \\left(0.15 u + 0.125 v + 1.475\\right) \\right)}$"
          },
          "metadata": {}
        },
        {
          "output_type": "display_data",
          "data": {
            "text/plain": [
              "(x - 0.5)*exp(1.0*I*teta*(2*x - y))*sin(pi*(x/2 + y/2))"
            ],
            "text/latex": "$\\displaystyle \\left(x - 0.5\\right) e^{1.0 i teta \\left(2 x - y\\right)} \\sin{\\left(\\pi \\left(\\frac{x}{2} + \\frac{y}{2}\\right) \\right)}$"
          },
          "metadata": {}
        },
        {
          "output_type": "stream",
          "name": "stdout",
          "text": [
            "The Omaga now is:  326\n"
          ]
        },
        {
          "output_type": "display_data",
          "data": {
            "text/plain": [
              "(0.3*u + 1.2)*exp(1.0*I*teta*(0.6*u - 0.25*v + 2.15))*sin(pi*(0.15*u + 0.125*v + 1.475))"
            ],
            "text/latex": "$\\displaystyle \\left(0.3 u + 1.2\\right) e^{1.0 i teta \\left(0.6 u - 0.25 v + 2.15\\right)} \\sin{\\left(\\pi \\left(0.15 u + 0.125 v + 1.475\\right) \\right)}$"
          },
          "metadata": {}
        },
        {
          "output_type": "display_data",
          "data": {
            "text/plain": [
              "(x - 0.5)*exp(1.0*I*teta*(2*x - y))*sin(pi*(x/2 + y/2))"
            ],
            "text/latex": "$\\displaystyle \\left(x - 0.5\\right) e^{1.0 i teta \\left(2 x - y\\right)} \\sin{\\left(\\pi \\left(\\frac{x}{2} + \\frac{y}{2}\\right) \\right)}$"
          },
          "metadata": {}
        },
        {
          "output_type": "stream",
          "name": "stdout",
          "text": [
            "The Omaga now is:  331\n"
          ]
        },
        {
          "output_type": "display_data",
          "data": {
            "text/plain": [
              "(0.3*u + 1.2)*exp(1.0*I*teta*(0.6*u - 0.25*v + 2.15))*sin(pi*(0.15*u + 0.125*v + 1.475))"
            ],
            "text/latex": "$\\displaystyle \\left(0.3 u + 1.2\\right) e^{1.0 i teta \\left(0.6 u - 0.25 v + 2.15\\right)} \\sin{\\left(\\pi \\left(0.15 u + 0.125 v + 1.475\\right) \\right)}$"
          },
          "metadata": {}
        },
        {
          "output_type": "display_data",
          "data": {
            "text/plain": [
              "(x - 0.5)*exp(1.0*I*teta*(2*x - y))*sin(pi*(x/2 + y/2))"
            ],
            "text/latex": "$\\displaystyle \\left(x - 0.5\\right) e^{1.0 i teta \\left(2 x - y\\right)} \\sin{\\left(\\pi \\left(\\frac{x}{2} + \\frac{y}{2}\\right) \\right)}$"
          },
          "metadata": {}
        },
        {
          "output_type": "stream",
          "name": "stdout",
          "text": [
            "The Omaga now is:  336\n"
          ]
        },
        {
          "output_type": "display_data",
          "data": {
            "text/plain": [
              "(0.3*u + 1.2)*exp(1.0*I*teta*(0.6*u - 0.25*v + 2.15))*sin(pi*(0.15*u + 0.125*v + 1.475))"
            ],
            "text/latex": "$\\displaystyle \\left(0.3 u + 1.2\\right) e^{1.0 i teta \\left(0.6 u - 0.25 v + 2.15\\right)} \\sin{\\left(\\pi \\left(0.15 u + 0.125 v + 1.475\\right) \\right)}$"
          },
          "metadata": {}
        },
        {
          "output_type": "display_data",
          "data": {
            "text/plain": [
              "(x - 0.5)*exp(1.0*I*teta*(2*x - y))*sin(pi*(x/2 + y/2))"
            ],
            "text/latex": "$\\displaystyle \\left(x - 0.5\\right) e^{1.0 i teta \\left(2 x - y\\right)} \\sin{\\left(\\pi \\left(\\frac{x}{2} + \\frac{y}{2}\\right) \\right)}$"
          },
          "metadata": {}
        },
        {
          "output_type": "stream",
          "name": "stdout",
          "text": [
            "The Omaga now is:  341\n"
          ]
        },
        {
          "output_type": "display_data",
          "data": {
            "text/plain": [
              "(0.3*u + 1.2)*exp(1.0*I*teta*(0.6*u - 0.25*v + 2.15))*sin(pi*(0.15*u + 0.125*v + 1.475))"
            ],
            "text/latex": "$\\displaystyle \\left(0.3 u + 1.2\\right) e^{1.0 i teta \\left(0.6 u - 0.25 v + 2.15\\right)} \\sin{\\left(\\pi \\left(0.15 u + 0.125 v + 1.475\\right) \\right)}$"
          },
          "metadata": {}
        },
        {
          "output_type": "display_data",
          "data": {
            "text/plain": [
              "(x - 0.5)*exp(1.0*I*teta*(2*x - y))*sin(pi*(x/2 + y/2))"
            ],
            "text/latex": "$\\displaystyle \\left(x - 0.5\\right) e^{1.0 i teta \\left(2 x - y\\right)} \\sin{\\left(\\pi \\left(\\frac{x}{2} + \\frac{y}{2}\\right) \\right)}$"
          },
          "metadata": {}
        },
        {
          "output_type": "stream",
          "name": "stdout",
          "text": [
            "The Omaga now is:  346\n"
          ]
        },
        {
          "output_type": "display_data",
          "data": {
            "text/plain": [
              "(0.3*u + 1.2)*exp(1.0*I*teta*(0.6*u - 0.25*v + 2.15))*sin(pi*(0.15*u + 0.125*v + 1.475))"
            ],
            "text/latex": "$\\displaystyle \\left(0.3 u + 1.2\\right) e^{1.0 i teta \\left(0.6 u - 0.25 v + 2.15\\right)} \\sin{\\left(\\pi \\left(0.15 u + 0.125 v + 1.475\\right) \\right)}$"
          },
          "metadata": {}
        },
        {
          "output_type": "display_data",
          "data": {
            "text/plain": [
              "(x - 0.5)*exp(1.0*I*teta*(2*x - y))*sin(pi*(x/2 + y/2))"
            ],
            "text/latex": "$\\displaystyle \\left(x - 0.5\\right) e^{1.0 i teta \\left(2 x - y\\right)} \\sin{\\left(\\pi \\left(\\frac{x}{2} + \\frac{y}{2}\\right) \\right)}$"
          },
          "metadata": {}
        },
        {
          "output_type": "stream",
          "name": "stdout",
          "text": [
            "The Omaga now is:  351\n"
          ]
        },
        {
          "output_type": "display_data",
          "data": {
            "text/plain": [
              "(0.3*u + 1.2)*exp(1.0*I*teta*(0.6*u - 0.25*v + 2.15))*sin(pi*(0.15*u + 0.125*v + 1.475))"
            ],
            "text/latex": "$\\displaystyle \\left(0.3 u + 1.2\\right) e^{1.0 i teta \\left(0.6 u - 0.25 v + 2.15\\right)} \\sin{\\left(\\pi \\left(0.15 u + 0.125 v + 1.475\\right) \\right)}$"
          },
          "metadata": {}
        },
        {
          "output_type": "display_data",
          "data": {
            "text/plain": [
              "(x - 0.5)*exp(1.0*I*teta*(2*x - y))*sin(pi*(x/2 + y/2))"
            ],
            "text/latex": "$\\displaystyle \\left(x - 0.5\\right) e^{1.0 i teta \\left(2 x - y\\right)} \\sin{\\left(\\pi \\left(\\frac{x}{2} + \\frac{y}{2}\\right) \\right)}$"
          },
          "metadata": {}
        },
        {
          "output_type": "stream",
          "name": "stdout",
          "text": [
            "The Omaga now is:  356\n"
          ]
        },
        {
          "output_type": "display_data",
          "data": {
            "text/plain": [
              "(0.3*u + 1.2)*exp(1.0*I*teta*(0.6*u - 0.25*v + 2.15))*sin(pi*(0.15*u + 0.125*v + 1.475))"
            ],
            "text/latex": "$\\displaystyle \\left(0.3 u + 1.2\\right) e^{1.0 i teta \\left(0.6 u - 0.25 v + 2.15\\right)} \\sin{\\left(\\pi \\left(0.15 u + 0.125 v + 1.475\\right) \\right)}$"
          },
          "metadata": {}
        },
        {
          "output_type": "display_data",
          "data": {
            "text/plain": [
              "(x - 0.5)*exp(1.0*I*teta*(2*x - y))*sin(pi*(x/2 + y/2))"
            ],
            "text/latex": "$\\displaystyle \\left(x - 0.5\\right) e^{1.0 i teta \\left(2 x - y\\right)} \\sin{\\left(\\pi \\left(\\frac{x}{2} + \\frac{y}{2}\\right) \\right)}$"
          },
          "metadata": {}
        },
        {
          "output_type": "stream",
          "name": "stdout",
          "text": [
            "The Omaga now is:  361\n"
          ]
        },
        {
          "output_type": "display_data",
          "data": {
            "text/plain": [
              "(0.3*u + 1.2)*exp(1.0*I*teta*(0.6*u - 0.25*v + 2.15))*sin(pi*(0.15*u + 0.125*v + 1.475))"
            ],
            "text/latex": "$\\displaystyle \\left(0.3 u + 1.2\\right) e^{1.0 i teta \\left(0.6 u - 0.25 v + 2.15\\right)} \\sin{\\left(\\pi \\left(0.15 u + 0.125 v + 1.475\\right) \\right)}$"
          },
          "metadata": {}
        },
        {
          "output_type": "display_data",
          "data": {
            "text/plain": [
              "(x - 0.5)*exp(1.0*I*teta*(2*x - y))*sin(pi*(x/2 + y/2))"
            ],
            "text/latex": "$\\displaystyle \\left(x - 0.5\\right) e^{1.0 i teta \\left(2 x - y\\right)} \\sin{\\left(\\pi \\left(\\frac{x}{2} + \\frac{y}{2}\\right) \\right)}$"
          },
          "metadata": {}
        },
        {
          "output_type": "stream",
          "name": "stdout",
          "text": [
            "The Omaga now is:  366\n"
          ]
        },
        {
          "output_type": "display_data",
          "data": {
            "text/plain": [
              "(0.3*u + 1.2)*exp(1.0*I*teta*(0.6*u - 0.25*v + 2.15))*sin(pi*(0.15*u + 0.125*v + 1.475))"
            ],
            "text/latex": "$\\displaystyle \\left(0.3 u + 1.2\\right) e^{1.0 i teta \\left(0.6 u - 0.25 v + 2.15\\right)} \\sin{\\left(\\pi \\left(0.15 u + 0.125 v + 1.475\\right) \\right)}$"
          },
          "metadata": {}
        },
        {
          "output_type": "display_data",
          "data": {
            "text/plain": [
              "(x - 0.5)*exp(1.0*I*teta*(2*x - y))*sin(pi*(x/2 + y/2))"
            ],
            "text/latex": "$\\displaystyle \\left(x - 0.5\\right) e^{1.0 i teta \\left(2 x - y\\right)} \\sin{\\left(\\pi \\left(\\frac{x}{2} + \\frac{y}{2}\\right) \\right)}$"
          },
          "metadata": {}
        },
        {
          "output_type": "stream",
          "name": "stdout",
          "text": [
            "The Omaga now is:  371\n"
          ]
        },
        {
          "output_type": "display_data",
          "data": {
            "text/plain": [
              "(0.3*u + 1.2)*exp(1.0*I*teta*(0.6*u - 0.25*v + 2.15))*sin(pi*(0.15*u + 0.125*v + 1.475))"
            ],
            "text/latex": "$\\displaystyle \\left(0.3 u + 1.2\\right) e^{1.0 i teta \\left(0.6 u - 0.25 v + 2.15\\right)} \\sin{\\left(\\pi \\left(0.15 u + 0.125 v + 1.475\\right) \\right)}$"
          },
          "metadata": {}
        },
        {
          "output_type": "display_data",
          "data": {
            "text/plain": [
              "(x - 0.5)*exp(1.0*I*teta*(2*x - y))*sin(pi*(x/2 + y/2))"
            ],
            "text/latex": "$\\displaystyle \\left(x - 0.5\\right) e^{1.0 i teta \\left(2 x - y\\right)} \\sin{\\left(\\pi \\left(\\frac{x}{2} + \\frac{y}{2}\\right) \\right)}$"
          },
          "metadata": {}
        },
        {
          "output_type": "stream",
          "name": "stdout",
          "text": [
            "The Omaga now is:  376\n"
          ]
        },
        {
          "output_type": "display_data",
          "data": {
            "text/plain": [
              "(0.3*u + 1.2)*exp(1.0*I*teta*(0.6*u - 0.25*v + 2.15))*sin(pi*(0.15*u + 0.125*v + 1.475))"
            ],
            "text/latex": "$\\displaystyle \\left(0.3 u + 1.2\\right) e^{1.0 i teta \\left(0.6 u - 0.25 v + 2.15\\right)} \\sin{\\left(\\pi \\left(0.15 u + 0.125 v + 1.475\\right) \\right)}$"
          },
          "metadata": {}
        },
        {
          "output_type": "display_data",
          "data": {
            "text/plain": [
              "(x - 0.5)*exp(1.0*I*teta*(2*x - y))*sin(pi*(x/2 + y/2))"
            ],
            "text/latex": "$\\displaystyle \\left(x - 0.5\\right) e^{1.0 i teta \\left(2 x - y\\right)} \\sin{\\left(\\pi \\left(\\frac{x}{2} + \\frac{y}{2}\\right) \\right)}$"
          },
          "metadata": {}
        },
        {
          "output_type": "stream",
          "name": "stdout",
          "text": [
            "The Omaga now is:  381\n"
          ]
        },
        {
          "output_type": "display_data",
          "data": {
            "text/plain": [
              "(0.3*u + 1.2)*exp(1.0*I*teta*(0.6*u - 0.25*v + 2.15))*sin(pi*(0.15*u + 0.125*v + 1.475))"
            ],
            "text/latex": "$\\displaystyle \\left(0.3 u + 1.2\\right) e^{1.0 i teta \\left(0.6 u - 0.25 v + 2.15\\right)} \\sin{\\left(\\pi \\left(0.15 u + 0.125 v + 1.475\\right) \\right)}$"
          },
          "metadata": {}
        },
        {
          "output_type": "display_data",
          "data": {
            "text/plain": [
              "(x - 0.5)*exp(1.0*I*teta*(2*x - y))*sin(pi*(x/2 + y/2))"
            ],
            "text/latex": "$\\displaystyle \\left(x - 0.5\\right) e^{1.0 i teta \\left(2 x - y\\right)} \\sin{\\left(\\pi \\left(\\frac{x}{2} + \\frac{y}{2}\\right) \\right)}$"
          },
          "metadata": {}
        },
        {
          "output_type": "stream",
          "name": "stdout",
          "text": [
            "The Omaga now is:  386\n"
          ]
        },
        {
          "output_type": "display_data",
          "data": {
            "text/plain": [
              "(0.3*u + 1.2)*exp(1.0*I*teta*(0.6*u - 0.25*v + 2.15))*sin(pi*(0.15*u + 0.125*v + 1.475))"
            ],
            "text/latex": "$\\displaystyle \\left(0.3 u + 1.2\\right) e^{1.0 i teta \\left(0.6 u - 0.25 v + 2.15\\right)} \\sin{\\left(\\pi \\left(0.15 u + 0.125 v + 1.475\\right) \\right)}$"
          },
          "metadata": {}
        },
        {
          "output_type": "display_data",
          "data": {
            "text/plain": [
              "(x - 0.5)*exp(1.0*I*teta*(2*x - y))*sin(pi*(x/2 + y/2))"
            ],
            "text/latex": "$\\displaystyle \\left(x - 0.5\\right) e^{1.0 i teta \\left(2 x - y\\right)} \\sin{\\left(\\pi \\left(\\frac{x}{2} + \\frac{y}{2}\\right) \\right)}$"
          },
          "metadata": {}
        },
        {
          "output_type": "stream",
          "name": "stdout",
          "text": [
            "The Omaga now is:  391\n"
          ]
        },
        {
          "output_type": "display_data",
          "data": {
            "text/plain": [
              "(0.3*u + 1.2)*exp(1.0*I*teta*(0.6*u - 0.25*v + 2.15))*sin(pi*(0.15*u + 0.125*v + 1.475))"
            ],
            "text/latex": "$\\displaystyle \\left(0.3 u + 1.2\\right) e^{1.0 i teta \\left(0.6 u - 0.25 v + 2.15\\right)} \\sin{\\left(\\pi \\left(0.15 u + 0.125 v + 1.475\\right) \\right)}$"
          },
          "metadata": {}
        },
        {
          "output_type": "display_data",
          "data": {
            "text/plain": [
              "(x - 0.5)*exp(1.0*I*teta*(2*x - y))*sin(pi*(x/2 + y/2))"
            ],
            "text/latex": "$\\displaystyle \\left(x - 0.5\\right) e^{1.0 i teta \\left(2 x - y\\right)} \\sin{\\left(\\pi \\left(\\frac{x}{2} + \\frac{y}{2}\\right) \\right)}$"
          },
          "metadata": {}
        },
        {
          "output_type": "stream",
          "name": "stdout",
          "text": [
            "The Omaga now is:  396\n"
          ]
        },
        {
          "output_type": "display_data",
          "data": {
            "text/plain": [
              "(0.3*u + 1.2)*exp(1.0*I*teta*(0.6*u - 0.25*v + 2.15))*sin(pi*(0.15*u + 0.125*v + 1.475))"
            ],
            "text/latex": "$\\displaystyle \\left(0.3 u + 1.2\\right) e^{1.0 i teta \\left(0.6 u - 0.25 v + 2.15\\right)} \\sin{\\left(\\pi \\left(0.15 u + 0.125 v + 1.475\\right) \\right)}$"
          },
          "metadata": {}
        },
        {
          "output_type": "display_data",
          "data": {
            "text/plain": [
              "(x - 0.5)*exp(1.0*I*teta*(2*x - y))*sin(pi*(x/2 + y/2))"
            ],
            "text/latex": "$\\displaystyle \\left(x - 0.5\\right) e^{1.0 i teta \\left(2 x - y\\right)} \\sin{\\left(\\pi \\left(\\frac{x}{2} + \\frac{y}{2}\\right) \\right)}$"
          },
          "metadata": {}
        },
        {
          "output_type": "stream",
          "name": "stdout",
          "text": [
            "The Omaga now is:  401\n"
          ]
        },
        {
          "output_type": "display_data",
          "data": {
            "text/plain": [
              "(0.3*u + 1.2)*exp(1.0*I*teta*(0.6*u - 0.25*v + 2.15))*sin(pi*(0.15*u + 0.125*v + 1.475))"
            ],
            "text/latex": "$\\displaystyle \\left(0.3 u + 1.2\\right) e^{1.0 i teta \\left(0.6 u - 0.25 v + 2.15\\right)} \\sin{\\left(\\pi \\left(0.15 u + 0.125 v + 1.475\\right) \\right)}$"
          },
          "metadata": {}
        },
        {
          "output_type": "display_data",
          "data": {
            "text/plain": [
              "(x - 0.5)*exp(1.0*I*teta*(2*x - y))*sin(pi*(x/2 + y/2))"
            ],
            "text/latex": "$\\displaystyle \\left(x - 0.5\\right) e^{1.0 i teta \\left(2 x - y\\right)} \\sin{\\left(\\pi \\left(\\frac{x}{2} + \\frac{y}{2}\\right) \\right)}$"
          },
          "metadata": {}
        },
        {
          "output_type": "stream",
          "name": "stdout",
          "text": [
            "The Omaga now is:  406\n"
          ]
        },
        {
          "output_type": "display_data",
          "data": {
            "text/plain": [
              "(0.3*u + 1.2)*exp(1.0*I*teta*(0.6*u - 0.25*v + 2.15))*sin(pi*(0.15*u + 0.125*v + 1.475))"
            ],
            "text/latex": "$\\displaystyle \\left(0.3 u + 1.2\\right) e^{1.0 i teta \\left(0.6 u - 0.25 v + 2.15\\right)} \\sin{\\left(\\pi \\left(0.15 u + 0.125 v + 1.475\\right) \\right)}$"
          },
          "metadata": {}
        },
        {
          "output_type": "display_data",
          "data": {
            "text/plain": [
              "(x - 0.5)*exp(1.0*I*teta*(2*x - y))*sin(pi*(x/2 + y/2))"
            ],
            "text/latex": "$\\displaystyle \\left(x - 0.5\\right) e^{1.0 i teta \\left(2 x - y\\right)} \\sin{\\left(\\pi \\left(\\frac{x}{2} + \\frac{y}{2}\\right) \\right)}$"
          },
          "metadata": {}
        },
        {
          "output_type": "stream",
          "name": "stdout",
          "text": [
            "The Omaga now is:  411\n"
          ]
        },
        {
          "output_type": "display_data",
          "data": {
            "text/plain": [
              "(0.3*u + 1.2)*exp(1.0*I*teta*(0.6*u - 0.25*v + 2.15))*sin(pi*(0.15*u + 0.125*v + 1.475))"
            ],
            "text/latex": "$\\displaystyle \\left(0.3 u + 1.2\\right) e^{1.0 i teta \\left(0.6 u - 0.25 v + 2.15\\right)} \\sin{\\left(\\pi \\left(0.15 u + 0.125 v + 1.475\\right) \\right)}$"
          },
          "metadata": {}
        },
        {
          "output_type": "display_data",
          "data": {
            "text/plain": [
              "(x - 0.5)*exp(1.0*I*teta*(2*x - y))*sin(pi*(x/2 + y/2))"
            ],
            "text/latex": "$\\displaystyle \\left(x - 0.5\\right) e^{1.0 i teta \\left(2 x - y\\right)} \\sin{\\left(\\pi \\left(\\frac{x}{2} + \\frac{y}{2}\\right) \\right)}$"
          },
          "metadata": {}
        },
        {
          "output_type": "stream",
          "name": "stdout",
          "text": [
            "The Omaga now is:  416\n"
          ]
        },
        {
          "output_type": "display_data",
          "data": {
            "text/plain": [
              "(0.3*u + 1.2)*exp(1.0*I*teta*(0.6*u - 0.25*v + 2.15))*sin(pi*(0.15*u + 0.125*v + 1.475))"
            ],
            "text/latex": "$\\displaystyle \\left(0.3 u + 1.2\\right) e^{1.0 i teta \\left(0.6 u - 0.25 v + 2.15\\right)} \\sin{\\left(\\pi \\left(0.15 u + 0.125 v + 1.475\\right) \\right)}$"
          },
          "metadata": {}
        },
        {
          "output_type": "display_data",
          "data": {
            "text/plain": [
              "(x - 0.5)*exp(1.0*I*teta*(2*x - y))*sin(pi*(x/2 + y/2))"
            ],
            "text/latex": "$\\displaystyle \\left(x - 0.5\\right) e^{1.0 i teta \\left(2 x - y\\right)} \\sin{\\left(\\pi \\left(\\frac{x}{2} + \\frac{y}{2}\\right) \\right)}$"
          },
          "metadata": {}
        },
        {
          "output_type": "stream",
          "name": "stdout",
          "text": [
            "The Omaga now is:  421\n"
          ]
        },
        {
          "output_type": "display_data",
          "data": {
            "text/plain": [
              "(0.3*u + 1.2)*exp(1.0*I*teta*(0.6*u - 0.25*v + 2.15))*sin(pi*(0.15*u + 0.125*v + 1.475))"
            ],
            "text/latex": "$\\displaystyle \\left(0.3 u + 1.2\\right) e^{1.0 i teta \\left(0.6 u - 0.25 v + 2.15\\right)} \\sin{\\left(\\pi \\left(0.15 u + 0.125 v + 1.475\\right) \\right)}$"
          },
          "metadata": {}
        },
        {
          "output_type": "display_data",
          "data": {
            "text/plain": [
              "(x - 0.5)*exp(1.0*I*teta*(2*x - y))*sin(pi*(x/2 + y/2))"
            ],
            "text/latex": "$\\displaystyle \\left(x - 0.5\\right) e^{1.0 i teta \\left(2 x - y\\right)} \\sin{\\left(\\pi \\left(\\frac{x}{2} + \\frac{y}{2}\\right) \\right)}$"
          },
          "metadata": {}
        },
        {
          "output_type": "stream",
          "name": "stdout",
          "text": [
            "The Omaga now is:  426\n"
          ]
        },
        {
          "output_type": "display_data",
          "data": {
            "text/plain": [
              "(0.3*u + 1.2)*exp(1.0*I*teta*(0.6*u - 0.25*v + 2.15))*sin(pi*(0.15*u + 0.125*v + 1.475))"
            ],
            "text/latex": "$\\displaystyle \\left(0.3 u + 1.2\\right) e^{1.0 i teta \\left(0.6 u - 0.25 v + 2.15\\right)} \\sin{\\left(\\pi \\left(0.15 u + 0.125 v + 1.475\\right) \\right)}$"
          },
          "metadata": {}
        },
        {
          "output_type": "display_data",
          "data": {
            "text/plain": [
              "(x - 0.5)*exp(1.0*I*teta*(2*x - y))*sin(pi*(x/2 + y/2))"
            ],
            "text/latex": "$\\displaystyle \\left(x - 0.5\\right) e^{1.0 i teta \\left(2 x - y\\right)} \\sin{\\left(\\pi \\left(\\frac{x}{2} + \\frac{y}{2}\\right) \\right)}$"
          },
          "metadata": {}
        },
        {
          "output_type": "stream",
          "name": "stdout",
          "text": [
            "The Omaga now is:  431\n"
          ]
        },
        {
          "output_type": "display_data",
          "data": {
            "text/plain": [
              "(0.3*u + 1.2)*exp(1.0*I*teta*(0.6*u - 0.25*v + 2.15))*sin(pi*(0.15*u + 0.125*v + 1.475))"
            ],
            "text/latex": "$\\displaystyle \\left(0.3 u + 1.2\\right) e^{1.0 i teta \\left(0.6 u - 0.25 v + 2.15\\right)} \\sin{\\left(\\pi \\left(0.15 u + 0.125 v + 1.475\\right) \\right)}$"
          },
          "metadata": {}
        },
        {
          "output_type": "display_data",
          "data": {
            "text/plain": [
              "(x - 0.5)*exp(1.0*I*teta*(2*x - y))*sin(pi*(x/2 + y/2))"
            ],
            "text/latex": "$\\displaystyle \\left(x - 0.5\\right) e^{1.0 i teta \\left(2 x - y\\right)} \\sin{\\left(\\pi \\left(\\frac{x}{2} + \\frac{y}{2}\\right) \\right)}$"
          },
          "metadata": {}
        },
        {
          "output_type": "stream",
          "name": "stdout",
          "text": [
            "The Omaga now is:  436\n"
          ]
        },
        {
          "output_type": "display_data",
          "data": {
            "text/plain": [
              "(0.3*u + 1.2)*exp(1.0*I*teta*(0.6*u - 0.25*v + 2.15))*sin(pi*(0.15*u + 0.125*v + 1.475))"
            ],
            "text/latex": "$\\displaystyle \\left(0.3 u + 1.2\\right) e^{1.0 i teta \\left(0.6 u - 0.25 v + 2.15\\right)} \\sin{\\left(\\pi \\left(0.15 u + 0.125 v + 1.475\\right) \\right)}$"
          },
          "metadata": {}
        },
        {
          "output_type": "display_data",
          "data": {
            "text/plain": [
              "(x - 0.5)*exp(1.0*I*teta*(2*x - y))*sin(pi*(x/2 + y/2))"
            ],
            "text/latex": "$\\displaystyle \\left(x - 0.5\\right) e^{1.0 i teta \\left(2 x - y\\right)} \\sin{\\left(\\pi \\left(\\frac{x}{2} + \\frac{y}{2}\\right) \\right)}$"
          },
          "metadata": {}
        },
        {
          "output_type": "stream",
          "name": "stdout",
          "text": [
            "The Omaga now is:  441\n"
          ]
        },
        {
          "output_type": "display_data",
          "data": {
            "text/plain": [
              "(0.3*u + 1.2)*exp(1.0*I*teta*(0.6*u - 0.25*v + 2.15))*sin(pi*(0.15*u + 0.125*v + 1.475))"
            ],
            "text/latex": "$\\displaystyle \\left(0.3 u + 1.2\\right) e^{1.0 i teta \\left(0.6 u - 0.25 v + 2.15\\right)} \\sin{\\left(\\pi \\left(0.15 u + 0.125 v + 1.475\\right) \\right)}$"
          },
          "metadata": {}
        },
        {
          "output_type": "display_data",
          "data": {
            "text/plain": [
              "(x - 0.5)*exp(1.0*I*teta*(2*x - y))*sin(pi*(x/2 + y/2))"
            ],
            "text/latex": "$\\displaystyle \\left(x - 0.5\\right) e^{1.0 i teta \\left(2 x - y\\right)} \\sin{\\left(\\pi \\left(\\frac{x}{2} + \\frac{y}{2}\\right) \\right)}$"
          },
          "metadata": {}
        },
        {
          "output_type": "stream",
          "name": "stdout",
          "text": [
            "The Omaga now is:  446\n"
          ]
        },
        {
          "output_type": "display_data",
          "data": {
            "text/plain": [
              "(0.3*u + 1.2)*exp(1.0*I*teta*(0.6*u - 0.25*v + 2.15))*sin(pi*(0.15*u + 0.125*v + 1.475))"
            ],
            "text/latex": "$\\displaystyle \\left(0.3 u + 1.2\\right) e^{1.0 i teta \\left(0.6 u - 0.25 v + 2.15\\right)} \\sin{\\left(\\pi \\left(0.15 u + 0.125 v + 1.475\\right) \\right)}$"
          },
          "metadata": {}
        },
        {
          "output_type": "display_data",
          "data": {
            "text/plain": [
              "(x - 0.5)*exp(1.0*I*teta*(2*x - y))*sin(pi*(x/2 + y/2))"
            ],
            "text/latex": "$\\displaystyle \\left(x - 0.5\\right) e^{1.0 i teta \\left(2 x - y\\right)} \\sin{\\left(\\pi \\left(\\frac{x}{2} + \\frac{y}{2}\\right) \\right)}$"
          },
          "metadata": {}
        },
        {
          "output_type": "stream",
          "name": "stdout",
          "text": [
            "The Omaga now is:  451\n"
          ]
        },
        {
          "output_type": "display_data",
          "data": {
            "text/plain": [
              "(0.3*u + 1.2)*exp(1.0*I*teta*(0.6*u - 0.25*v + 2.15))*sin(pi*(0.15*u + 0.125*v + 1.475))"
            ],
            "text/latex": "$\\displaystyle \\left(0.3 u + 1.2\\right) e^{1.0 i teta \\left(0.6 u - 0.25 v + 2.15\\right)} \\sin{\\left(\\pi \\left(0.15 u + 0.125 v + 1.475\\right) \\right)}$"
          },
          "metadata": {}
        },
        {
          "output_type": "display_data",
          "data": {
            "text/plain": [
              "(x - 0.5)*exp(1.0*I*teta*(2*x - y))*sin(pi*(x/2 + y/2))"
            ],
            "text/latex": "$\\displaystyle \\left(x - 0.5\\right) e^{1.0 i teta \\left(2 x - y\\right)} \\sin{\\left(\\pi \\left(\\frac{x}{2} + \\frac{y}{2}\\right) \\right)}$"
          },
          "metadata": {}
        },
        {
          "output_type": "stream",
          "name": "stdout",
          "text": [
            "The Omaga now is:  456\n"
          ]
        },
        {
          "output_type": "display_data",
          "data": {
            "text/plain": [
              "(0.3*u + 1.2)*exp(1.0*I*teta*(0.6*u - 0.25*v + 2.15))*sin(pi*(0.15*u + 0.125*v + 1.475))"
            ],
            "text/latex": "$\\displaystyle \\left(0.3 u + 1.2\\right) e^{1.0 i teta \\left(0.6 u - 0.25 v + 2.15\\right)} \\sin{\\left(\\pi \\left(0.15 u + 0.125 v + 1.475\\right) \\right)}$"
          },
          "metadata": {}
        },
        {
          "output_type": "display_data",
          "data": {
            "text/plain": [
              "(x - 0.5)*exp(1.0*I*teta*(2*x - y))*sin(pi*(x/2 + y/2))"
            ],
            "text/latex": "$\\displaystyle \\left(x - 0.5\\right) e^{1.0 i teta \\left(2 x - y\\right)} \\sin{\\left(\\pi \\left(\\frac{x}{2} + \\frac{y}{2}\\right) \\right)}$"
          },
          "metadata": {}
        },
        {
          "output_type": "stream",
          "name": "stdout",
          "text": [
            "The Omaga now is:  461\n"
          ]
        },
        {
          "output_type": "display_data",
          "data": {
            "text/plain": [
              "(0.3*u + 1.2)*exp(1.0*I*teta*(0.6*u - 0.25*v + 2.15))*sin(pi*(0.15*u + 0.125*v + 1.475))"
            ],
            "text/latex": "$\\displaystyle \\left(0.3 u + 1.2\\right) e^{1.0 i teta \\left(0.6 u - 0.25 v + 2.15\\right)} \\sin{\\left(\\pi \\left(0.15 u + 0.125 v + 1.475\\right) \\right)}$"
          },
          "metadata": {}
        },
        {
          "output_type": "display_data",
          "data": {
            "text/plain": [
              "(x - 0.5)*exp(1.0*I*teta*(2*x - y))*sin(pi*(x/2 + y/2))"
            ],
            "text/latex": "$\\displaystyle \\left(x - 0.5\\right) e^{1.0 i teta \\left(2 x - y\\right)} \\sin{\\left(\\pi \\left(\\frac{x}{2} + \\frac{y}{2}\\right) \\right)}$"
          },
          "metadata": {}
        },
        {
          "output_type": "stream",
          "name": "stdout",
          "text": [
            "The Omaga now is:  466\n"
          ]
        },
        {
          "output_type": "display_data",
          "data": {
            "text/plain": [
              "(0.3*u + 1.2)*exp(1.0*I*teta*(0.6*u - 0.25*v + 2.15))*sin(pi*(0.15*u + 0.125*v + 1.475))"
            ],
            "text/latex": "$\\displaystyle \\left(0.3 u + 1.2\\right) e^{1.0 i teta \\left(0.6 u - 0.25 v + 2.15\\right)} \\sin{\\left(\\pi \\left(0.15 u + 0.125 v + 1.475\\right) \\right)}$"
          },
          "metadata": {}
        },
        {
          "output_type": "display_data",
          "data": {
            "text/plain": [
              "(x - 0.5)*exp(1.0*I*teta*(2*x - y))*sin(pi*(x/2 + y/2))"
            ],
            "text/latex": "$\\displaystyle \\left(x - 0.5\\right) e^{1.0 i teta \\left(2 x - y\\right)} \\sin{\\left(\\pi \\left(\\frac{x}{2} + \\frac{y}{2}\\right) \\right)}$"
          },
          "metadata": {}
        },
        {
          "output_type": "stream",
          "name": "stdout",
          "text": [
            "The Omaga now is:  471\n"
          ]
        },
        {
          "output_type": "display_data",
          "data": {
            "text/plain": [
              "(0.3*u + 1.2)*exp(1.0*I*teta*(0.6*u - 0.25*v + 2.15))*sin(pi*(0.15*u + 0.125*v + 1.475))"
            ],
            "text/latex": "$\\displaystyle \\left(0.3 u + 1.2\\right) e^{1.0 i teta \\left(0.6 u - 0.25 v + 2.15\\right)} \\sin{\\left(\\pi \\left(0.15 u + 0.125 v + 1.475\\right) \\right)}$"
          },
          "metadata": {}
        },
        {
          "output_type": "display_data",
          "data": {
            "text/plain": [
              "(x - 0.5)*exp(1.0*I*teta*(2*x - y))*sin(pi*(x/2 + y/2))"
            ],
            "text/latex": "$\\displaystyle \\left(x - 0.5\\right) e^{1.0 i teta \\left(2 x - y\\right)} \\sin{\\left(\\pi \\left(\\frac{x}{2} + \\frac{y}{2}\\right) \\right)}$"
          },
          "metadata": {}
        },
        {
          "output_type": "stream",
          "name": "stdout",
          "text": [
            "The Omaga now is:  476\n"
          ]
        },
        {
          "output_type": "display_data",
          "data": {
            "text/plain": [
              "(0.3*u + 1.2)*exp(1.0*I*teta*(0.6*u - 0.25*v + 2.15))*sin(pi*(0.15*u + 0.125*v + 1.475))"
            ],
            "text/latex": "$\\displaystyle \\left(0.3 u + 1.2\\right) e^{1.0 i teta \\left(0.6 u - 0.25 v + 2.15\\right)} \\sin{\\left(\\pi \\left(0.15 u + 0.125 v + 1.475\\right) \\right)}$"
          },
          "metadata": {}
        },
        {
          "output_type": "display_data",
          "data": {
            "text/plain": [
              "(x - 0.5)*exp(1.0*I*teta*(2*x - y))*sin(pi*(x/2 + y/2))"
            ],
            "text/latex": "$\\displaystyle \\left(x - 0.5\\right) e^{1.0 i teta \\left(2 x - y\\right)} \\sin{\\left(\\pi \\left(\\frac{x}{2} + \\frac{y}{2}\\right) \\right)}$"
          },
          "metadata": {}
        },
        {
          "output_type": "stream",
          "name": "stdout",
          "text": [
            "The Omaga now is:  481\n"
          ]
        },
        {
          "output_type": "display_data",
          "data": {
            "text/plain": [
              "(0.3*u + 1.2)*exp(1.0*I*teta*(0.6*u - 0.25*v + 2.15))*sin(pi*(0.15*u + 0.125*v + 1.475))"
            ],
            "text/latex": "$\\displaystyle \\left(0.3 u + 1.2\\right) e^{1.0 i teta \\left(0.6 u - 0.25 v + 2.15\\right)} \\sin{\\left(\\pi \\left(0.15 u + 0.125 v + 1.475\\right) \\right)}$"
          },
          "metadata": {}
        },
        {
          "output_type": "display_data",
          "data": {
            "text/plain": [
              "(x - 0.5)*exp(1.0*I*teta*(2*x - y))*sin(pi*(x/2 + y/2))"
            ],
            "text/latex": "$\\displaystyle \\left(x - 0.5\\right) e^{1.0 i teta \\left(2 x - y\\right)} \\sin{\\left(\\pi \\left(\\frac{x}{2} + \\frac{y}{2}\\right) \\right)}$"
          },
          "metadata": {}
        },
        {
          "output_type": "stream",
          "name": "stdout",
          "text": [
            "The Omaga now is:  486\n"
          ]
        },
        {
          "output_type": "display_data",
          "data": {
            "text/plain": [
              "(0.3*u + 1.2)*exp(1.0*I*teta*(0.6*u - 0.25*v + 2.15))*sin(pi*(0.15*u + 0.125*v + 1.475))"
            ],
            "text/latex": "$\\displaystyle \\left(0.3 u + 1.2\\right) e^{1.0 i teta \\left(0.6 u - 0.25 v + 2.15\\right)} \\sin{\\left(\\pi \\left(0.15 u + 0.125 v + 1.475\\right) \\right)}$"
          },
          "metadata": {}
        },
        {
          "output_type": "display_data",
          "data": {
            "text/plain": [
              "(x - 0.5)*exp(1.0*I*teta*(2*x - y))*sin(pi*(x/2 + y/2))"
            ],
            "text/latex": "$\\displaystyle \\left(x - 0.5\\right) e^{1.0 i teta \\left(2 x - y\\right)} \\sin{\\left(\\pi \\left(\\frac{x}{2} + \\frac{y}{2}\\right) \\right)}$"
          },
          "metadata": {}
        },
        {
          "output_type": "stream",
          "name": "stdout",
          "text": [
            "The Omaga now is:  491\n"
          ]
        },
        {
          "output_type": "display_data",
          "data": {
            "text/plain": [
              "(0.3*u + 1.2)*exp(1.0*I*teta*(0.6*u - 0.25*v + 2.15))*sin(pi*(0.15*u + 0.125*v + 1.475))"
            ],
            "text/latex": "$\\displaystyle \\left(0.3 u + 1.2\\right) e^{1.0 i teta \\left(0.6 u - 0.25 v + 2.15\\right)} \\sin{\\left(\\pi \\left(0.15 u + 0.125 v + 1.475\\right) \\right)}$"
          },
          "metadata": {}
        },
        {
          "output_type": "display_data",
          "data": {
            "text/plain": [
              "(x - 0.5)*exp(1.0*I*teta*(2*x - y))*sin(pi*(x/2 + y/2))"
            ],
            "text/latex": "$\\displaystyle \\left(x - 0.5\\right) e^{1.0 i teta \\left(2 x - y\\right)} \\sin{\\left(\\pi \\left(\\frac{x}{2} + \\frac{y}{2}\\right) \\right)}$"
          },
          "metadata": {}
        },
        {
          "output_type": "stream",
          "name": "stdout",
          "text": [
            "The Omaga now is:  496\n"
          ]
        },
        {
          "output_type": "display_data",
          "data": {
            "text/plain": [
              "(0.3*u + 1.2)*exp(1.0*I*teta*(0.6*u - 0.25*v + 2.15))*sin(pi*(0.15*u + 0.125*v + 1.475))"
            ],
            "text/latex": "$\\displaystyle \\left(0.3 u + 1.2\\right) e^{1.0 i teta \\left(0.6 u - 0.25 v + 2.15\\right)} \\sin{\\left(\\pi \\left(0.15 u + 0.125 v + 1.475\\right) \\right)}$"
          },
          "metadata": {}
        },
        {
          "output_type": "display_data",
          "data": {
            "text/plain": [
              "(x - 0.5)*exp(1.0*I*teta*(2*x - y))*sin(pi*(x/2 + y/2))"
            ],
            "text/latex": "$\\displaystyle \\left(x - 0.5\\right) e^{1.0 i teta \\left(2 x - y\\right)} \\sin{\\left(\\pi \\left(\\frac{x}{2} + \\frac{y}{2}\\right) \\right)}$"
          },
          "metadata": {}
        },
        {
          "output_type": "stream",
          "name": "stdout",
          "text": [
            "The Omaga now is:  501\n"
          ]
        },
        {
          "output_type": "display_data",
          "data": {
            "text/plain": [
              "(0.3*u + 1.2)*exp(1.0*I*teta*(0.6*u - 0.25*v + 2.15))*sin(pi*(0.15*u + 0.125*v + 1.475))"
            ],
            "text/latex": "$\\displaystyle \\left(0.3 u + 1.2\\right) e^{1.0 i teta \\left(0.6 u - 0.25 v + 2.15\\right)} \\sin{\\left(\\pi \\left(0.15 u + 0.125 v + 1.475\\right) \\right)}$"
          },
          "metadata": {}
        },
        {
          "output_type": "display_data",
          "data": {
            "text/plain": [
              "(x - 0.5)*exp(1.0*I*teta*(2*x - y))*sin(pi*(x/2 + y/2))"
            ],
            "text/latex": "$\\displaystyle \\left(x - 0.5\\right) e^{1.0 i teta \\left(2 x - y\\right)} \\sin{\\left(\\pi \\left(\\frac{x}{2} + \\frac{y}{2}\\right) \\right)}$"
          },
          "metadata": {}
        },
        {
          "output_type": "stream",
          "name": "stdout",
          "text": [
            "The Omaga now is:  506\n"
          ]
        },
        {
          "output_type": "display_data",
          "data": {
            "text/plain": [
              "(0.3*u + 1.2)*exp(1.0*I*teta*(0.6*u - 0.25*v + 2.15))*sin(pi*(0.15*u + 0.125*v + 1.475))"
            ],
            "text/latex": "$\\displaystyle \\left(0.3 u + 1.2\\right) e^{1.0 i teta \\left(0.6 u - 0.25 v + 2.15\\right)} \\sin{\\left(\\pi \\left(0.15 u + 0.125 v + 1.475\\right) \\right)}$"
          },
          "metadata": {}
        },
        {
          "output_type": "display_data",
          "data": {
            "text/plain": [
              "(x - 0.5)*exp(1.0*I*teta*(2*x - y))*sin(pi*(x/2 + y/2))"
            ],
            "text/latex": "$\\displaystyle \\left(x - 0.5\\right) e^{1.0 i teta \\left(2 x - y\\right)} \\sin{\\left(\\pi \\left(\\frac{x}{2} + \\frac{y}{2}\\right) \\right)}$"
          },
          "metadata": {}
        },
        {
          "output_type": "stream",
          "name": "stdout",
          "text": [
            "The Omaga now is:  511\n"
          ]
        },
        {
          "output_type": "display_data",
          "data": {
            "text/plain": [
              "(0.3*u + 1.2)*exp(1.0*I*teta*(0.6*u - 0.25*v + 2.15))*sin(pi*(0.15*u + 0.125*v + 1.475))"
            ],
            "text/latex": "$\\displaystyle \\left(0.3 u + 1.2\\right) e^{1.0 i teta \\left(0.6 u - 0.25 v + 2.15\\right)} \\sin{\\left(\\pi \\left(0.15 u + 0.125 v + 1.475\\right) \\right)}$"
          },
          "metadata": {}
        },
        {
          "output_type": "display_data",
          "data": {
            "text/plain": [
              "(x - 0.5)*exp(1.0*I*teta*(2*x - y))*sin(pi*(x/2 + y/2))"
            ],
            "text/latex": "$\\displaystyle \\left(x - 0.5\\right) e^{1.0 i teta \\left(2 x - y\\right)} \\sin{\\left(\\pi \\left(\\frac{x}{2} + \\frac{y}{2}\\right) \\right)}$"
          },
          "metadata": {}
        },
        {
          "output_type": "stream",
          "name": "stdout",
          "text": [
            "The Omaga now is:  516\n"
          ]
        },
        {
          "output_type": "display_data",
          "data": {
            "text/plain": [
              "(0.3*u + 1.2)*exp(1.0*I*teta*(0.6*u - 0.25*v + 2.15))*sin(pi*(0.15*u + 0.125*v + 1.475))"
            ],
            "text/latex": "$\\displaystyle \\left(0.3 u + 1.2\\right) e^{1.0 i teta \\left(0.6 u - 0.25 v + 2.15\\right)} \\sin{\\left(\\pi \\left(0.15 u + 0.125 v + 1.475\\right) \\right)}$"
          },
          "metadata": {}
        },
        {
          "output_type": "display_data",
          "data": {
            "text/plain": [
              "(x - 0.5)*exp(1.0*I*teta*(2*x - y))*sin(pi*(x/2 + y/2))"
            ],
            "text/latex": "$\\displaystyle \\left(x - 0.5\\right) e^{1.0 i teta \\left(2 x - y\\right)} \\sin{\\left(\\pi \\left(\\frac{x}{2} + \\frac{y}{2}\\right) \\right)}$"
          },
          "metadata": {}
        },
        {
          "output_type": "stream",
          "name": "stdout",
          "text": [
            "The Omaga now is:  521\n"
          ]
        },
        {
          "output_type": "display_data",
          "data": {
            "text/plain": [
              "(0.3*u + 1.2)*exp(1.0*I*teta*(0.6*u - 0.25*v + 2.15))*sin(pi*(0.15*u + 0.125*v + 1.475))"
            ],
            "text/latex": "$\\displaystyle \\left(0.3 u + 1.2\\right) e^{1.0 i teta \\left(0.6 u - 0.25 v + 2.15\\right)} \\sin{\\left(\\pi \\left(0.15 u + 0.125 v + 1.475\\right) \\right)}$"
          },
          "metadata": {}
        },
        {
          "output_type": "display_data",
          "data": {
            "text/plain": [
              "(x - 0.5)*exp(1.0*I*teta*(2*x - y))*sin(pi*(x/2 + y/2))"
            ],
            "text/latex": "$\\displaystyle \\left(x - 0.5\\right) e^{1.0 i teta \\left(2 x - y\\right)} \\sin{\\left(\\pi \\left(\\frac{x}{2} + \\frac{y}{2}\\right) \\right)}$"
          },
          "metadata": {}
        },
        {
          "output_type": "stream",
          "name": "stdout",
          "text": [
            "The Omaga now is:  526\n"
          ]
        },
        {
          "output_type": "display_data",
          "data": {
            "text/plain": [
              "(0.3*u + 1.2)*exp(1.0*I*teta*(0.6*u - 0.25*v + 2.15))*sin(pi*(0.15*u + 0.125*v + 1.475))"
            ],
            "text/latex": "$\\displaystyle \\left(0.3 u + 1.2\\right) e^{1.0 i teta \\left(0.6 u - 0.25 v + 2.15\\right)} \\sin{\\left(\\pi \\left(0.15 u + 0.125 v + 1.475\\right) \\right)}$"
          },
          "metadata": {}
        },
        {
          "output_type": "display_data",
          "data": {
            "text/plain": [
              "(x - 0.5)*exp(1.0*I*teta*(2*x - y))*sin(pi*(x/2 + y/2))"
            ],
            "text/latex": "$\\displaystyle \\left(x - 0.5\\right) e^{1.0 i teta \\left(2 x - y\\right)} \\sin{\\left(\\pi \\left(\\frac{x}{2} + \\frac{y}{2}\\right) \\right)}$"
          },
          "metadata": {}
        },
        {
          "output_type": "stream",
          "name": "stdout",
          "text": [
            "The Omaga now is:  531\n"
          ]
        },
        {
          "output_type": "display_data",
          "data": {
            "text/plain": [
              "(0.3*u + 1.2)*exp(1.0*I*teta*(0.6*u - 0.25*v + 2.15))*sin(pi*(0.15*u + 0.125*v + 1.475))"
            ],
            "text/latex": "$\\displaystyle \\left(0.3 u + 1.2\\right) e^{1.0 i teta \\left(0.6 u - 0.25 v + 2.15\\right)} \\sin{\\left(\\pi \\left(0.15 u + 0.125 v + 1.475\\right) \\right)}$"
          },
          "metadata": {}
        },
        {
          "output_type": "display_data",
          "data": {
            "text/plain": [
              "(x - 0.5)*exp(1.0*I*teta*(2*x - y))*sin(pi*(x/2 + y/2))"
            ],
            "text/latex": "$\\displaystyle \\left(x - 0.5\\right) e^{1.0 i teta \\left(2 x - y\\right)} \\sin{\\left(\\pi \\left(\\frac{x}{2} + \\frac{y}{2}\\right) \\right)}$"
          },
          "metadata": {}
        },
        {
          "output_type": "stream",
          "name": "stdout",
          "text": [
            "The Omaga now is:  536\n"
          ]
        },
        {
          "output_type": "display_data",
          "data": {
            "text/plain": [
              "(0.3*u + 1.2)*exp(1.0*I*teta*(0.6*u - 0.25*v + 2.15))*sin(pi*(0.15*u + 0.125*v + 1.475))"
            ],
            "text/latex": "$\\displaystyle \\left(0.3 u + 1.2\\right) e^{1.0 i teta \\left(0.6 u - 0.25 v + 2.15\\right)} \\sin{\\left(\\pi \\left(0.15 u + 0.125 v + 1.475\\right) \\right)}$"
          },
          "metadata": {}
        },
        {
          "output_type": "display_data",
          "data": {
            "text/plain": [
              "(x - 0.5)*exp(1.0*I*teta*(2*x - y))*sin(pi*(x/2 + y/2))"
            ],
            "text/latex": "$\\displaystyle \\left(x - 0.5\\right) e^{1.0 i teta \\left(2 x - y\\right)} \\sin{\\left(\\pi \\left(\\frac{x}{2} + \\frac{y}{2}\\right) \\right)}$"
          },
          "metadata": {}
        },
        {
          "output_type": "stream",
          "name": "stdout",
          "text": [
            "The Omaga now is:  541\n"
          ]
        },
        {
          "output_type": "display_data",
          "data": {
            "text/plain": [
              "(0.3*u + 1.2)*exp(1.0*I*teta*(0.6*u - 0.25*v + 2.15))*sin(pi*(0.15*u + 0.125*v + 1.475))"
            ],
            "text/latex": "$\\displaystyle \\left(0.3 u + 1.2\\right) e^{1.0 i teta \\left(0.6 u - 0.25 v + 2.15\\right)} \\sin{\\left(\\pi \\left(0.15 u + 0.125 v + 1.475\\right) \\right)}$"
          },
          "metadata": {}
        },
        {
          "output_type": "display_data",
          "data": {
            "text/plain": [
              "(x - 0.5)*exp(1.0*I*teta*(2*x - y))*sin(pi*(x/2 + y/2))"
            ],
            "text/latex": "$\\displaystyle \\left(x - 0.5\\right) e^{1.0 i teta \\left(2 x - y\\right)} \\sin{\\left(\\pi \\left(\\frac{x}{2} + \\frac{y}{2}\\right) \\right)}$"
          },
          "metadata": {}
        },
        {
          "output_type": "stream",
          "name": "stdout",
          "text": [
            "The Omaga now is:  546\n"
          ]
        },
        {
          "output_type": "display_data",
          "data": {
            "text/plain": [
              "(0.3*u + 1.2)*exp(1.0*I*teta*(0.6*u - 0.25*v + 2.15))*sin(pi*(0.15*u + 0.125*v + 1.475))"
            ],
            "text/latex": "$\\displaystyle \\left(0.3 u + 1.2\\right) e^{1.0 i teta \\left(0.6 u - 0.25 v + 2.15\\right)} \\sin{\\left(\\pi \\left(0.15 u + 0.125 v + 1.475\\right) \\right)}$"
          },
          "metadata": {}
        },
        {
          "output_type": "display_data",
          "data": {
            "text/plain": [
              "(x - 0.5)*exp(1.0*I*teta*(2*x - y))*sin(pi*(x/2 + y/2))"
            ],
            "text/latex": "$\\displaystyle \\left(x - 0.5\\right) e^{1.0 i teta \\left(2 x - y\\right)} \\sin{\\left(\\pi \\left(\\frac{x}{2} + \\frac{y}{2}\\right) \\right)}$"
          },
          "metadata": {}
        },
        {
          "output_type": "stream",
          "name": "stdout",
          "text": [
            "The Omaga now is:  551\n"
          ]
        },
        {
          "output_type": "display_data",
          "data": {
            "text/plain": [
              "(0.3*u + 1.2)*exp(1.0*I*teta*(0.6*u - 0.25*v + 2.15))*sin(pi*(0.15*u + 0.125*v + 1.475))"
            ],
            "text/latex": "$\\displaystyle \\left(0.3 u + 1.2\\right) e^{1.0 i teta \\left(0.6 u - 0.25 v + 2.15\\right)} \\sin{\\left(\\pi \\left(0.15 u + 0.125 v + 1.475\\right) \\right)}$"
          },
          "metadata": {}
        },
        {
          "output_type": "display_data",
          "data": {
            "text/plain": [
              "(x - 0.5)*exp(1.0*I*teta*(2*x - y))*sin(pi*(x/2 + y/2))"
            ],
            "text/latex": "$\\displaystyle \\left(x - 0.5\\right) e^{1.0 i teta \\left(2 x - y\\right)} \\sin{\\left(\\pi \\left(\\frac{x}{2} + \\frac{y}{2}\\right) \\right)}$"
          },
          "metadata": {}
        },
        {
          "output_type": "stream",
          "name": "stdout",
          "text": [
            "The Omaga now is:  556\n"
          ]
        },
        {
          "output_type": "display_data",
          "data": {
            "text/plain": [
              "(0.3*u + 1.2)*exp(1.0*I*teta*(0.6*u - 0.25*v + 2.15))*sin(pi*(0.15*u + 0.125*v + 1.475))"
            ],
            "text/latex": "$\\displaystyle \\left(0.3 u + 1.2\\right) e^{1.0 i teta \\left(0.6 u - 0.25 v + 2.15\\right)} \\sin{\\left(\\pi \\left(0.15 u + 0.125 v + 1.475\\right) \\right)}$"
          },
          "metadata": {}
        },
        {
          "output_type": "display_data",
          "data": {
            "text/plain": [
              "(x - 0.5)*exp(1.0*I*teta*(2*x - y))*sin(pi*(x/2 + y/2))"
            ],
            "text/latex": "$\\displaystyle \\left(x - 0.5\\right) e^{1.0 i teta \\left(2 x - y\\right)} \\sin{\\left(\\pi \\left(\\frac{x}{2} + \\frac{y}{2}\\right) \\right)}$"
          },
          "metadata": {}
        },
        {
          "output_type": "stream",
          "name": "stdout",
          "text": [
            "The Omaga now is:  561\n"
          ]
        },
        {
          "output_type": "display_data",
          "data": {
            "text/plain": [
              "(0.3*u + 1.2)*exp(1.0*I*teta*(0.6*u - 0.25*v + 2.15))*sin(pi*(0.15*u + 0.125*v + 1.475))"
            ],
            "text/latex": "$\\displaystyle \\left(0.3 u + 1.2\\right) e^{1.0 i teta \\left(0.6 u - 0.25 v + 2.15\\right)} \\sin{\\left(\\pi \\left(0.15 u + 0.125 v + 1.475\\right) \\right)}$"
          },
          "metadata": {}
        },
        {
          "output_type": "display_data",
          "data": {
            "text/plain": [
              "(x - 0.5)*exp(1.0*I*teta*(2*x - y))*sin(pi*(x/2 + y/2))"
            ],
            "text/latex": "$\\displaystyle \\left(x - 0.5\\right) e^{1.0 i teta \\left(2 x - y\\right)} \\sin{\\left(\\pi \\left(\\frac{x}{2} + \\frac{y}{2}\\right) \\right)}$"
          },
          "metadata": {}
        },
        {
          "output_type": "stream",
          "name": "stdout",
          "text": [
            "The Omaga now is:  566\n"
          ]
        },
        {
          "output_type": "display_data",
          "data": {
            "text/plain": [
              "(0.3*u + 1.2)*exp(1.0*I*teta*(0.6*u - 0.25*v + 2.15))*sin(pi*(0.15*u + 0.125*v + 1.475))"
            ],
            "text/latex": "$\\displaystyle \\left(0.3 u + 1.2\\right) e^{1.0 i teta \\left(0.6 u - 0.25 v + 2.15\\right)} \\sin{\\left(\\pi \\left(0.15 u + 0.125 v + 1.475\\right) \\right)}$"
          },
          "metadata": {}
        },
        {
          "output_type": "display_data",
          "data": {
            "text/plain": [
              "(x - 0.5)*exp(1.0*I*teta*(2*x - y))*sin(pi*(x/2 + y/2))"
            ],
            "text/latex": "$\\displaystyle \\left(x - 0.5\\right) e^{1.0 i teta \\left(2 x - y\\right)} \\sin{\\left(\\pi \\left(\\frac{x}{2} + \\frac{y}{2}\\right) \\right)}$"
          },
          "metadata": {}
        },
        {
          "output_type": "stream",
          "name": "stdout",
          "text": [
            "The Omaga now is:  571\n"
          ]
        },
        {
          "output_type": "display_data",
          "data": {
            "text/plain": [
              "(0.3*u + 1.2)*exp(1.0*I*teta*(0.6*u - 0.25*v + 2.15))*sin(pi*(0.15*u + 0.125*v + 1.475))"
            ],
            "text/latex": "$\\displaystyle \\left(0.3 u + 1.2\\right) e^{1.0 i teta \\left(0.6 u - 0.25 v + 2.15\\right)} \\sin{\\left(\\pi \\left(0.15 u + 0.125 v + 1.475\\right) \\right)}$"
          },
          "metadata": {}
        },
        {
          "output_type": "display_data",
          "data": {
            "text/plain": [
              "(x - 0.5)*exp(1.0*I*teta*(2*x - y))*sin(pi*(x/2 + y/2))"
            ],
            "text/latex": "$\\displaystyle \\left(x - 0.5\\right) e^{1.0 i teta \\left(2 x - y\\right)} \\sin{\\left(\\pi \\left(\\frac{x}{2} + \\frac{y}{2}\\right) \\right)}$"
          },
          "metadata": {}
        },
        {
          "output_type": "stream",
          "name": "stdout",
          "text": [
            "The Omaga now is:  576\n"
          ]
        },
        {
          "output_type": "display_data",
          "data": {
            "text/plain": [
              "(0.3*u + 1.2)*exp(1.0*I*teta*(0.6*u - 0.25*v + 2.15))*sin(pi*(0.15*u + 0.125*v + 1.475))"
            ],
            "text/latex": "$\\displaystyle \\left(0.3 u + 1.2\\right) e^{1.0 i teta \\left(0.6 u - 0.25 v + 2.15\\right)} \\sin{\\left(\\pi \\left(0.15 u + 0.125 v + 1.475\\right) \\right)}$"
          },
          "metadata": {}
        },
        {
          "output_type": "display_data",
          "data": {
            "text/plain": [
              "(x - 0.5)*exp(1.0*I*teta*(2*x - y))*sin(pi*(x/2 + y/2))"
            ],
            "text/latex": "$\\displaystyle \\left(x - 0.5\\right) e^{1.0 i teta \\left(2 x - y\\right)} \\sin{\\left(\\pi \\left(\\frac{x}{2} + \\frac{y}{2}\\right) \\right)}$"
          },
          "metadata": {}
        },
        {
          "output_type": "stream",
          "name": "stdout",
          "text": [
            "The Omaga now is:  581\n"
          ]
        },
        {
          "output_type": "display_data",
          "data": {
            "text/plain": [
              "(0.3*u + 1.2)*exp(1.0*I*teta*(0.6*u - 0.25*v + 2.15))*sin(pi*(0.15*u + 0.125*v + 1.475))"
            ],
            "text/latex": "$\\displaystyle \\left(0.3 u + 1.2\\right) e^{1.0 i teta \\left(0.6 u - 0.25 v + 2.15\\right)} \\sin{\\left(\\pi \\left(0.15 u + 0.125 v + 1.475\\right) \\right)}$"
          },
          "metadata": {}
        },
        {
          "output_type": "display_data",
          "data": {
            "text/plain": [
              "(x - 0.5)*exp(1.0*I*teta*(2*x - y))*sin(pi*(x/2 + y/2))"
            ],
            "text/latex": "$\\displaystyle \\left(x - 0.5\\right) e^{1.0 i teta \\left(2 x - y\\right)} \\sin{\\left(\\pi \\left(\\frac{x}{2} + \\frac{y}{2}\\right) \\right)}$"
          },
          "metadata": {}
        },
        {
          "output_type": "stream",
          "name": "stdout",
          "text": [
            "The Omaga now is:  586\n"
          ]
        },
        {
          "output_type": "display_data",
          "data": {
            "text/plain": [
              "(0.3*u + 1.2)*exp(1.0*I*teta*(0.6*u - 0.25*v + 2.15))*sin(pi*(0.15*u + 0.125*v + 1.475))"
            ],
            "text/latex": "$\\displaystyle \\left(0.3 u + 1.2\\right) e^{1.0 i teta \\left(0.6 u - 0.25 v + 2.15\\right)} \\sin{\\left(\\pi \\left(0.15 u + 0.125 v + 1.475\\right) \\right)}$"
          },
          "metadata": {}
        },
        {
          "output_type": "display_data",
          "data": {
            "text/plain": [
              "(x - 0.5)*exp(1.0*I*teta*(2*x - y))*sin(pi*(x/2 + y/2))"
            ],
            "text/latex": "$\\displaystyle \\left(x - 0.5\\right) e^{1.0 i teta \\left(2 x - y\\right)} \\sin{\\left(\\pi \\left(\\frac{x}{2} + \\frac{y}{2}\\right) \\right)}$"
          },
          "metadata": {}
        },
        {
          "output_type": "stream",
          "name": "stdout",
          "text": [
            "The Omaga now is:  591\n"
          ]
        },
        {
          "output_type": "display_data",
          "data": {
            "text/plain": [
              "(0.3*u + 1.2)*exp(1.0*I*teta*(0.6*u - 0.25*v + 2.15))*sin(pi*(0.15*u + 0.125*v + 1.475))"
            ],
            "text/latex": "$\\displaystyle \\left(0.3 u + 1.2\\right) e^{1.0 i teta \\left(0.6 u - 0.25 v + 2.15\\right)} \\sin{\\left(\\pi \\left(0.15 u + 0.125 v + 1.475\\right) \\right)}$"
          },
          "metadata": {}
        },
        {
          "output_type": "display_data",
          "data": {
            "text/plain": [
              "(x - 0.5)*exp(1.0*I*teta*(2*x - y))*sin(pi*(x/2 + y/2))"
            ],
            "text/latex": "$\\displaystyle \\left(x - 0.5\\right) e^{1.0 i teta \\left(2 x - y\\right)} \\sin{\\left(\\pi \\left(\\frac{x}{2} + \\frac{y}{2}\\right) \\right)}$"
          },
          "metadata": {}
        },
        {
          "output_type": "stream",
          "name": "stdout",
          "text": [
            "The Omaga now is:  596\n"
          ]
        },
        {
          "output_type": "display_data",
          "data": {
            "text/plain": [
              "(0.3*u + 1.2)*exp(1.0*I*teta*(0.6*u - 0.25*v + 2.15))*sin(pi*(0.15*u + 0.125*v + 1.475))"
            ],
            "text/latex": "$\\displaystyle \\left(0.3 u + 1.2\\right) e^{1.0 i teta \\left(0.6 u - 0.25 v + 2.15\\right)} \\sin{\\left(\\pi \\left(0.15 u + 0.125 v + 1.475\\right) \\right)}$"
          },
          "metadata": {}
        },
        {
          "output_type": "display_data",
          "data": {
            "text/plain": [
              "(x - 0.5)*exp(1.0*I*teta*(2*x - y))*sin(pi*(x/2 + y/2))"
            ],
            "text/latex": "$\\displaystyle \\left(x - 0.5\\right) e^{1.0 i teta \\left(2 x - y\\right)} \\sin{\\left(\\pi \\left(\\frac{x}{2} + \\frac{y}{2}\\right) \\right)}$"
          },
          "metadata": {}
        },
        {
          "output_type": "stream",
          "name": "stdout",
          "text": [
            "The Omaga now is:  601\n"
          ]
        },
        {
          "output_type": "display_data",
          "data": {
            "text/plain": [
              "(0.3*u + 1.2)*exp(1.0*I*teta*(0.6*u - 0.25*v + 2.15))*sin(pi*(0.15*u + 0.125*v + 1.475))"
            ],
            "text/latex": "$\\displaystyle \\left(0.3 u + 1.2\\right) e^{1.0 i teta \\left(0.6 u - 0.25 v + 2.15\\right)} \\sin{\\left(\\pi \\left(0.15 u + 0.125 v + 1.475\\right) \\right)}$"
          },
          "metadata": {}
        },
        {
          "output_type": "display_data",
          "data": {
            "text/plain": [
              "(x - 0.5)*exp(1.0*I*teta*(2*x - y))*sin(pi*(x/2 + y/2))"
            ],
            "text/latex": "$\\displaystyle \\left(x - 0.5\\right) e^{1.0 i teta \\left(2 x - y\\right)} \\sin{\\left(\\pi \\left(\\frac{x}{2} + \\frac{y}{2}\\right) \\right)}$"
          },
          "metadata": {}
        },
        {
          "output_type": "stream",
          "name": "stdout",
          "text": [
            "The Omaga now is:  606\n"
          ]
        },
        {
          "output_type": "display_data",
          "data": {
            "text/plain": [
              "(0.3*u + 1.2)*exp(1.0*I*teta*(0.6*u - 0.25*v + 2.15))*sin(pi*(0.15*u + 0.125*v + 1.475))"
            ],
            "text/latex": "$\\displaystyle \\left(0.3 u + 1.2\\right) e^{1.0 i teta \\left(0.6 u - 0.25 v + 2.15\\right)} \\sin{\\left(\\pi \\left(0.15 u + 0.125 v + 1.475\\right) \\right)}$"
          },
          "metadata": {}
        },
        {
          "output_type": "display_data",
          "data": {
            "text/plain": [
              "(x - 0.5)*exp(1.0*I*teta*(2*x - y))*sin(pi*(x/2 + y/2))"
            ],
            "text/latex": "$\\displaystyle \\left(x - 0.5\\right) e^{1.0 i teta \\left(2 x - y\\right)} \\sin{\\left(\\pi \\left(\\frac{x}{2} + \\frac{y}{2}\\right) \\right)}$"
          },
          "metadata": {}
        },
        {
          "output_type": "stream",
          "name": "stdout",
          "text": [
            "The Omaga now is:  611\n"
          ]
        },
        {
          "output_type": "display_data",
          "data": {
            "text/plain": [
              "(0.3*u + 1.2)*exp(1.0*I*teta*(0.6*u - 0.25*v + 2.15))*sin(pi*(0.15*u + 0.125*v + 1.475))"
            ],
            "text/latex": "$\\displaystyle \\left(0.3 u + 1.2\\right) e^{1.0 i teta \\left(0.6 u - 0.25 v + 2.15\\right)} \\sin{\\left(\\pi \\left(0.15 u + 0.125 v + 1.475\\right) \\right)}$"
          },
          "metadata": {}
        },
        {
          "output_type": "display_data",
          "data": {
            "text/plain": [
              "(x - 0.5)*exp(1.0*I*teta*(2*x - y))*sin(pi*(x/2 + y/2))"
            ],
            "text/latex": "$\\displaystyle \\left(x - 0.5\\right) e^{1.0 i teta \\left(2 x - y\\right)} \\sin{\\left(\\pi \\left(\\frac{x}{2} + \\frac{y}{2}\\right) \\right)}$"
          },
          "metadata": {}
        },
        {
          "output_type": "stream",
          "name": "stdout",
          "text": [
            "The Omaga now is:  616\n"
          ]
        },
        {
          "output_type": "display_data",
          "data": {
            "text/plain": [
              "(0.3*u + 1.2)*exp(1.0*I*teta*(0.6*u - 0.25*v + 2.15))*sin(pi*(0.15*u + 0.125*v + 1.475))"
            ],
            "text/latex": "$\\displaystyle \\left(0.3 u + 1.2\\right) e^{1.0 i teta \\left(0.6 u - 0.25 v + 2.15\\right)} \\sin{\\left(\\pi \\left(0.15 u + 0.125 v + 1.475\\right) \\right)}$"
          },
          "metadata": {}
        },
        {
          "output_type": "display_data",
          "data": {
            "text/plain": [
              "(x - 0.5)*exp(1.0*I*teta*(2*x - y))*sin(pi*(x/2 + y/2))"
            ],
            "text/latex": "$\\displaystyle \\left(x - 0.5\\right) e^{1.0 i teta \\left(2 x - y\\right)} \\sin{\\left(\\pi \\left(\\frac{x}{2} + \\frac{y}{2}\\right) \\right)}$"
          },
          "metadata": {}
        },
        {
          "output_type": "stream",
          "name": "stdout",
          "text": [
            "The Omaga now is:  621\n"
          ]
        },
        {
          "output_type": "display_data",
          "data": {
            "text/plain": [
              "(0.3*u + 1.2)*exp(1.0*I*teta*(0.6*u - 0.25*v + 2.15))*sin(pi*(0.15*u + 0.125*v + 1.475))"
            ],
            "text/latex": "$\\displaystyle \\left(0.3 u + 1.2\\right) e^{1.0 i teta \\left(0.6 u - 0.25 v + 2.15\\right)} \\sin{\\left(\\pi \\left(0.15 u + 0.125 v + 1.475\\right) \\right)}$"
          },
          "metadata": {}
        },
        {
          "output_type": "display_data",
          "data": {
            "text/plain": [
              "(x - 0.5)*exp(1.0*I*teta*(2*x - y))*sin(pi*(x/2 + y/2))"
            ],
            "text/latex": "$\\displaystyle \\left(x - 0.5\\right) e^{1.0 i teta \\left(2 x - y\\right)} \\sin{\\left(\\pi \\left(\\frac{x}{2} + \\frac{y}{2}\\right) \\right)}$"
          },
          "metadata": {}
        },
        {
          "output_type": "stream",
          "name": "stdout",
          "text": [
            "The Omaga now is:  626\n"
          ]
        },
        {
          "output_type": "display_data",
          "data": {
            "text/plain": [
              "(0.3*u + 1.2)*exp(1.0*I*teta*(0.6*u - 0.25*v + 2.15))*sin(pi*(0.15*u + 0.125*v + 1.475))"
            ],
            "text/latex": "$\\displaystyle \\left(0.3 u + 1.2\\right) e^{1.0 i teta \\left(0.6 u - 0.25 v + 2.15\\right)} \\sin{\\left(\\pi \\left(0.15 u + 0.125 v + 1.475\\right) \\right)}$"
          },
          "metadata": {}
        },
        {
          "output_type": "display_data",
          "data": {
            "text/plain": [
              "(x - 0.5)*exp(1.0*I*teta*(2*x - y))*sin(pi*(x/2 + y/2))"
            ],
            "text/latex": "$\\displaystyle \\left(x - 0.5\\right) e^{1.0 i teta \\left(2 x - y\\right)} \\sin{\\left(\\pi \\left(\\frac{x}{2} + \\frac{y}{2}\\right) \\right)}$"
          },
          "metadata": {}
        },
        {
          "output_type": "stream",
          "name": "stdout",
          "text": [
            "The Omaga now is:  631\n"
          ]
        },
        {
          "output_type": "display_data",
          "data": {
            "text/plain": [
              "(0.3*u + 1.2)*exp(1.0*I*teta*(0.6*u - 0.25*v + 2.15))*sin(pi*(0.15*u + 0.125*v + 1.475))"
            ],
            "text/latex": "$\\displaystyle \\left(0.3 u + 1.2\\right) e^{1.0 i teta \\left(0.6 u - 0.25 v + 2.15\\right)} \\sin{\\left(\\pi \\left(0.15 u + 0.125 v + 1.475\\right) \\right)}$"
          },
          "metadata": {}
        },
        {
          "output_type": "display_data",
          "data": {
            "text/plain": [
              "(x - 0.5)*exp(1.0*I*teta*(2*x - y))*sin(pi*(x/2 + y/2))"
            ],
            "text/latex": "$\\displaystyle \\left(x - 0.5\\right) e^{1.0 i teta \\left(2 x - y\\right)} \\sin{\\left(\\pi \\left(\\frac{x}{2} + \\frac{y}{2}\\right) \\right)}$"
          },
          "metadata": {}
        },
        {
          "output_type": "stream",
          "name": "stdout",
          "text": [
            "The Omaga now is:  636\n"
          ]
        },
        {
          "output_type": "display_data",
          "data": {
            "text/plain": [
              "(0.3*u + 1.2)*exp(1.0*I*teta*(0.6*u - 0.25*v + 2.15))*sin(pi*(0.15*u + 0.125*v + 1.475))"
            ],
            "text/latex": "$\\displaystyle \\left(0.3 u + 1.2\\right) e^{1.0 i teta \\left(0.6 u - 0.25 v + 2.15\\right)} \\sin{\\left(\\pi \\left(0.15 u + 0.125 v + 1.475\\right) \\right)}$"
          },
          "metadata": {}
        },
        {
          "output_type": "display_data",
          "data": {
            "text/plain": [
              "(x - 0.5)*exp(1.0*I*teta*(2*x - y))*sin(pi*(x/2 + y/2))"
            ],
            "text/latex": "$\\displaystyle \\left(x - 0.5\\right) e^{1.0 i teta \\left(2 x - y\\right)} \\sin{\\left(\\pi \\left(\\frac{x}{2} + \\frac{y}{2}\\right) \\right)}$"
          },
          "metadata": {}
        },
        {
          "output_type": "stream",
          "name": "stdout",
          "text": [
            "The Omaga now is:  641\n"
          ]
        },
        {
          "output_type": "display_data",
          "data": {
            "text/plain": [
              "(0.3*u + 1.2)*exp(1.0*I*teta*(0.6*u - 0.25*v + 2.15))*sin(pi*(0.15*u + 0.125*v + 1.475))"
            ],
            "text/latex": "$\\displaystyle \\left(0.3 u + 1.2\\right) e^{1.0 i teta \\left(0.6 u - 0.25 v + 2.15\\right)} \\sin{\\left(\\pi \\left(0.15 u + 0.125 v + 1.475\\right) \\right)}$"
          },
          "metadata": {}
        },
        {
          "output_type": "display_data",
          "data": {
            "text/plain": [
              "(x - 0.5)*exp(1.0*I*teta*(2*x - y))*sin(pi*(x/2 + y/2))"
            ],
            "text/latex": "$\\displaystyle \\left(x - 0.5\\right) e^{1.0 i teta \\left(2 x - y\\right)} \\sin{\\left(\\pi \\left(\\frac{x}{2} + \\frac{y}{2}\\right) \\right)}$"
          },
          "metadata": {}
        },
        {
          "output_type": "stream",
          "name": "stdout",
          "text": [
            "The Omaga now is:  646\n"
          ]
        },
        {
          "output_type": "display_data",
          "data": {
            "text/plain": [
              "(0.3*u + 1.2)*exp(1.0*I*teta*(0.6*u - 0.25*v + 2.15))*sin(pi*(0.15*u + 0.125*v + 1.475))"
            ],
            "text/latex": "$\\displaystyle \\left(0.3 u + 1.2\\right) e^{1.0 i teta \\left(0.6 u - 0.25 v + 2.15\\right)} \\sin{\\left(\\pi \\left(0.15 u + 0.125 v + 1.475\\right) \\right)}$"
          },
          "metadata": {}
        },
        {
          "output_type": "display_data",
          "data": {
            "text/plain": [
              "(x - 0.5)*exp(1.0*I*teta*(2*x - y))*sin(pi*(x/2 + y/2))"
            ],
            "text/latex": "$\\displaystyle \\left(x - 0.5\\right) e^{1.0 i teta \\left(2 x - y\\right)} \\sin{\\left(\\pi \\left(\\frac{x}{2} + \\frac{y}{2}\\right) \\right)}$"
          },
          "metadata": {}
        },
        {
          "output_type": "stream",
          "name": "stdout",
          "text": [
            "The Omaga now is:  651\n"
          ]
        },
        {
          "output_type": "display_data",
          "data": {
            "text/plain": [
              "(0.3*u + 1.2)*exp(1.0*I*teta*(0.6*u - 0.25*v + 2.15))*sin(pi*(0.15*u + 0.125*v + 1.475))"
            ],
            "text/latex": "$\\displaystyle \\left(0.3 u + 1.2\\right) e^{1.0 i teta \\left(0.6 u - 0.25 v + 2.15\\right)} \\sin{\\left(\\pi \\left(0.15 u + 0.125 v + 1.475\\right) \\right)}$"
          },
          "metadata": {}
        },
        {
          "output_type": "display_data",
          "data": {
            "text/plain": [
              "(x - 0.5)*exp(1.0*I*teta*(2*x - y))*sin(pi*(x/2 + y/2))"
            ],
            "text/latex": "$\\displaystyle \\left(x - 0.5\\right) e^{1.0 i teta \\left(2 x - y\\right)} \\sin{\\left(\\pi \\left(\\frac{x}{2} + \\frac{y}{2}\\right) \\right)}$"
          },
          "metadata": {}
        },
        {
          "output_type": "stream",
          "name": "stdout",
          "text": [
            "The Omaga now is:  656\n"
          ]
        },
        {
          "output_type": "display_data",
          "data": {
            "text/plain": [
              "(0.3*u + 1.2)*exp(1.0*I*teta*(0.6*u - 0.25*v + 2.15))*sin(pi*(0.15*u + 0.125*v + 1.475))"
            ],
            "text/latex": "$\\displaystyle \\left(0.3 u + 1.2\\right) e^{1.0 i teta \\left(0.6 u - 0.25 v + 2.15\\right)} \\sin{\\left(\\pi \\left(0.15 u + 0.125 v + 1.475\\right) \\right)}$"
          },
          "metadata": {}
        },
        {
          "output_type": "display_data",
          "data": {
            "text/plain": [
              "(x - 0.5)*exp(1.0*I*teta*(2*x - y))*sin(pi*(x/2 + y/2))"
            ],
            "text/latex": "$\\displaystyle \\left(x - 0.5\\right) e^{1.0 i teta \\left(2 x - y\\right)} \\sin{\\left(\\pi \\left(\\frac{x}{2} + \\frac{y}{2}\\right) \\right)}$"
          },
          "metadata": {}
        },
        {
          "output_type": "stream",
          "name": "stdout",
          "text": [
            "The Omaga now is:  661\n"
          ]
        },
        {
          "output_type": "display_data",
          "data": {
            "text/plain": [
              "(0.3*u + 1.2)*exp(1.0*I*teta*(0.6*u - 0.25*v + 2.15))*sin(pi*(0.15*u + 0.125*v + 1.475))"
            ],
            "text/latex": "$\\displaystyle \\left(0.3 u + 1.2\\right) e^{1.0 i teta \\left(0.6 u - 0.25 v + 2.15\\right)} \\sin{\\left(\\pi \\left(0.15 u + 0.125 v + 1.475\\right) \\right)}$"
          },
          "metadata": {}
        },
        {
          "output_type": "display_data",
          "data": {
            "text/plain": [
              "(x - 0.5)*exp(1.0*I*teta*(2*x - y))*sin(pi*(x/2 + y/2))"
            ],
            "text/latex": "$\\displaystyle \\left(x - 0.5\\right) e^{1.0 i teta \\left(2 x - y\\right)} \\sin{\\left(\\pi \\left(\\frac{x}{2} + \\frac{y}{2}\\right) \\right)}$"
          },
          "metadata": {}
        },
        {
          "output_type": "stream",
          "name": "stdout",
          "text": [
            "The Omaga now is:  666\n"
          ]
        },
        {
          "output_type": "display_data",
          "data": {
            "text/plain": [
              "(0.3*u + 1.2)*exp(1.0*I*teta*(0.6*u - 0.25*v + 2.15))*sin(pi*(0.15*u + 0.125*v + 1.475))"
            ],
            "text/latex": "$\\displaystyle \\left(0.3 u + 1.2\\right) e^{1.0 i teta \\left(0.6 u - 0.25 v + 2.15\\right)} \\sin{\\left(\\pi \\left(0.15 u + 0.125 v + 1.475\\right) \\right)}$"
          },
          "metadata": {}
        },
        {
          "output_type": "display_data",
          "data": {
            "text/plain": [
              "(x - 0.5)*exp(1.0*I*teta*(2*x - y))*sin(pi*(x/2 + y/2))"
            ],
            "text/latex": "$\\displaystyle \\left(x - 0.5\\right) e^{1.0 i teta \\left(2 x - y\\right)} \\sin{\\left(\\pi \\left(\\frac{x}{2} + \\frac{y}{2}\\right) \\right)}$"
          },
          "metadata": {}
        },
        {
          "output_type": "stream",
          "name": "stdout",
          "text": [
            "The Omaga now is:  671\n"
          ]
        },
        {
          "output_type": "display_data",
          "data": {
            "text/plain": [
              "(0.3*u + 1.2)*exp(1.0*I*teta*(0.6*u - 0.25*v + 2.15))*sin(pi*(0.15*u + 0.125*v + 1.475))"
            ],
            "text/latex": "$\\displaystyle \\left(0.3 u + 1.2\\right) e^{1.0 i teta \\left(0.6 u - 0.25 v + 2.15\\right)} \\sin{\\left(\\pi \\left(0.15 u + 0.125 v + 1.475\\right) \\right)}$"
          },
          "metadata": {}
        },
        {
          "output_type": "display_data",
          "data": {
            "text/plain": [
              "(x - 0.5)*exp(1.0*I*teta*(2*x - y))*sin(pi*(x/2 + y/2))"
            ],
            "text/latex": "$\\displaystyle \\left(x - 0.5\\right) e^{1.0 i teta \\left(2 x - y\\right)} \\sin{\\left(\\pi \\left(\\frac{x}{2} + \\frac{y}{2}\\right) \\right)}$"
          },
          "metadata": {}
        },
        {
          "output_type": "stream",
          "name": "stdout",
          "text": [
            "The Omaga now is:  676\n"
          ]
        },
        {
          "output_type": "display_data",
          "data": {
            "text/plain": [
              "(0.3*u + 1.2)*exp(1.0*I*teta*(0.6*u - 0.25*v + 2.15))*sin(pi*(0.15*u + 0.125*v + 1.475))"
            ],
            "text/latex": "$\\displaystyle \\left(0.3 u + 1.2\\right) e^{1.0 i teta \\left(0.6 u - 0.25 v + 2.15\\right)} \\sin{\\left(\\pi \\left(0.15 u + 0.125 v + 1.475\\right) \\right)}$"
          },
          "metadata": {}
        },
        {
          "output_type": "display_data",
          "data": {
            "text/plain": [
              "(x - 0.5)*exp(1.0*I*teta*(2*x - y))*sin(pi*(x/2 + y/2))"
            ],
            "text/latex": "$\\displaystyle \\left(x - 0.5\\right) e^{1.0 i teta \\left(2 x - y\\right)} \\sin{\\left(\\pi \\left(\\frac{x}{2} + \\frac{y}{2}\\right) \\right)}$"
          },
          "metadata": {}
        },
        {
          "output_type": "stream",
          "name": "stdout",
          "text": [
            "The Omaga now is:  681\n"
          ]
        },
        {
          "output_type": "display_data",
          "data": {
            "text/plain": [
              "(0.3*u + 1.2)*exp(1.0*I*teta*(0.6*u - 0.25*v + 2.15))*sin(pi*(0.15*u + 0.125*v + 1.475))"
            ],
            "text/latex": "$\\displaystyle \\left(0.3 u + 1.2\\right) e^{1.0 i teta \\left(0.6 u - 0.25 v + 2.15\\right)} \\sin{\\left(\\pi \\left(0.15 u + 0.125 v + 1.475\\right) \\right)}$"
          },
          "metadata": {}
        },
        {
          "output_type": "display_data",
          "data": {
            "text/plain": [
              "(x - 0.5)*exp(1.0*I*teta*(2*x - y))*sin(pi*(x/2 + y/2))"
            ],
            "text/latex": "$\\displaystyle \\left(x - 0.5\\right) e^{1.0 i teta \\left(2 x - y\\right)} \\sin{\\left(\\pi \\left(\\frac{x}{2} + \\frac{y}{2}\\right) \\right)}$"
          },
          "metadata": {}
        },
        {
          "output_type": "stream",
          "name": "stdout",
          "text": [
            "The Omaga now is:  686\n"
          ]
        },
        {
          "output_type": "display_data",
          "data": {
            "text/plain": [
              "(0.3*u + 1.2)*exp(1.0*I*teta*(0.6*u - 0.25*v + 2.15))*sin(pi*(0.15*u + 0.125*v + 1.475))"
            ],
            "text/latex": "$\\displaystyle \\left(0.3 u + 1.2\\right) e^{1.0 i teta \\left(0.6 u - 0.25 v + 2.15\\right)} \\sin{\\left(\\pi \\left(0.15 u + 0.125 v + 1.475\\right) \\right)}$"
          },
          "metadata": {}
        },
        {
          "output_type": "display_data",
          "data": {
            "text/plain": [
              "(x - 0.5)*exp(1.0*I*teta*(2*x - y))*sin(pi*(x/2 + y/2))"
            ],
            "text/latex": "$\\displaystyle \\left(x - 0.5\\right) e^{1.0 i teta \\left(2 x - y\\right)} \\sin{\\left(\\pi \\left(\\frac{x}{2} + \\frac{y}{2}\\right) \\right)}$"
          },
          "metadata": {}
        },
        {
          "output_type": "stream",
          "name": "stdout",
          "text": [
            "The Omaga now is:  691\n"
          ]
        },
        {
          "output_type": "display_data",
          "data": {
            "text/plain": [
              "(0.3*u + 1.2)*exp(1.0*I*teta*(0.6*u - 0.25*v + 2.15))*sin(pi*(0.15*u + 0.125*v + 1.475))"
            ],
            "text/latex": "$\\displaystyle \\left(0.3 u + 1.2\\right) e^{1.0 i teta \\left(0.6 u - 0.25 v + 2.15\\right)} \\sin{\\left(\\pi \\left(0.15 u + 0.125 v + 1.475\\right) \\right)}$"
          },
          "metadata": {}
        },
        {
          "output_type": "display_data",
          "data": {
            "text/plain": [
              "(x - 0.5)*exp(1.0*I*teta*(2*x - y))*sin(pi*(x/2 + y/2))"
            ],
            "text/latex": "$\\displaystyle \\left(x - 0.5\\right) e^{1.0 i teta \\left(2 x - y\\right)} \\sin{\\left(\\pi \\left(\\frac{x}{2} + \\frac{y}{2}\\right) \\right)}$"
          },
          "metadata": {}
        },
        {
          "output_type": "stream",
          "name": "stdout",
          "text": [
            "The Omaga now is:  696\n"
          ]
        },
        {
          "output_type": "display_data",
          "data": {
            "text/plain": [
              "(0.3*u + 1.2)*exp(1.0*I*teta*(0.6*u - 0.25*v + 2.15))*sin(pi*(0.15*u + 0.125*v + 1.475))"
            ],
            "text/latex": "$\\displaystyle \\left(0.3 u + 1.2\\right) e^{1.0 i teta \\left(0.6 u - 0.25 v + 2.15\\right)} \\sin{\\left(\\pi \\left(0.15 u + 0.125 v + 1.475\\right) \\right)}$"
          },
          "metadata": {}
        },
        {
          "output_type": "display_data",
          "data": {
            "text/plain": [
              "(x - 0.5)*exp(1.0*I*teta*(2*x - y))*sin(pi*(x/2 + y/2))"
            ],
            "text/latex": "$\\displaystyle \\left(x - 0.5\\right) e^{1.0 i teta \\left(2 x - y\\right)} \\sin{\\left(\\pi \\left(\\frac{x}{2} + \\frac{y}{2}\\right) \\right)}$"
          },
          "metadata": {}
        },
        {
          "output_type": "stream",
          "name": "stdout",
          "text": [
            "The Omaga now is:  701\n"
          ]
        },
        {
          "output_type": "display_data",
          "data": {
            "text/plain": [
              "(0.3*u + 1.2)*exp(1.0*I*teta*(0.6*u - 0.25*v + 2.15))*sin(pi*(0.15*u + 0.125*v + 1.475))"
            ],
            "text/latex": "$\\displaystyle \\left(0.3 u + 1.2\\right) e^{1.0 i teta \\left(0.6 u - 0.25 v + 2.15\\right)} \\sin{\\left(\\pi \\left(0.15 u + 0.125 v + 1.475\\right) \\right)}$"
          },
          "metadata": {}
        },
        {
          "output_type": "display_data",
          "data": {
            "text/plain": [
              "(x - 0.5)*exp(1.0*I*teta*(2*x - y))*sin(pi*(x/2 + y/2))"
            ],
            "text/latex": "$\\displaystyle \\left(x - 0.5\\right) e^{1.0 i teta \\left(2 x - y\\right)} \\sin{\\left(\\pi \\left(\\frac{x}{2} + \\frac{y}{2}\\right) \\right)}$"
          },
          "metadata": {}
        },
        {
          "output_type": "stream",
          "name": "stdout",
          "text": [
            "The Omaga now is:  706\n"
          ]
        },
        {
          "output_type": "display_data",
          "data": {
            "text/plain": [
              "(0.3*u + 1.2)*exp(1.0*I*teta*(0.6*u - 0.25*v + 2.15))*sin(pi*(0.15*u + 0.125*v + 1.475))"
            ],
            "text/latex": "$\\displaystyle \\left(0.3 u + 1.2\\right) e^{1.0 i teta \\left(0.6 u - 0.25 v + 2.15\\right)} \\sin{\\left(\\pi \\left(0.15 u + 0.125 v + 1.475\\right) \\right)}$"
          },
          "metadata": {}
        },
        {
          "output_type": "display_data",
          "data": {
            "text/plain": [
              "(x - 0.5)*exp(1.0*I*teta*(2*x - y))*sin(pi*(x/2 + y/2))"
            ],
            "text/latex": "$\\displaystyle \\left(x - 0.5\\right) e^{1.0 i teta \\left(2 x - y\\right)} \\sin{\\left(\\pi \\left(\\frac{x}{2} + \\frac{y}{2}\\right) \\right)}$"
          },
          "metadata": {}
        },
        {
          "output_type": "stream",
          "name": "stdout",
          "text": [
            "The Omaga now is:  711\n"
          ]
        },
        {
          "output_type": "display_data",
          "data": {
            "text/plain": [
              "(0.3*u + 1.2)*exp(1.0*I*teta*(0.6*u - 0.25*v + 2.15))*sin(pi*(0.15*u + 0.125*v + 1.475))"
            ],
            "text/latex": "$\\displaystyle \\left(0.3 u + 1.2\\right) e^{1.0 i teta \\left(0.6 u - 0.25 v + 2.15\\right)} \\sin{\\left(\\pi \\left(0.15 u + 0.125 v + 1.475\\right) \\right)}$"
          },
          "metadata": {}
        },
        {
          "output_type": "display_data",
          "data": {
            "text/plain": [
              "(x - 0.5)*exp(1.0*I*teta*(2*x - y))*sin(pi*(x/2 + y/2))"
            ],
            "text/latex": "$\\displaystyle \\left(x - 0.5\\right) e^{1.0 i teta \\left(2 x - y\\right)} \\sin{\\left(\\pi \\left(\\frac{x}{2} + \\frac{y}{2}\\right) \\right)}$"
          },
          "metadata": {}
        },
        {
          "output_type": "stream",
          "name": "stdout",
          "text": [
            "The Omaga now is:  716\n"
          ]
        },
        {
          "output_type": "display_data",
          "data": {
            "text/plain": [
              "(0.3*u + 1.2)*exp(1.0*I*teta*(0.6*u - 0.25*v + 2.15))*sin(pi*(0.15*u + 0.125*v + 1.475))"
            ],
            "text/latex": "$\\displaystyle \\left(0.3 u + 1.2\\right) e^{1.0 i teta \\left(0.6 u - 0.25 v + 2.15\\right)} \\sin{\\left(\\pi \\left(0.15 u + 0.125 v + 1.475\\right) \\right)}$"
          },
          "metadata": {}
        },
        {
          "output_type": "display_data",
          "data": {
            "text/plain": [
              "(x - 0.5)*exp(1.0*I*teta*(2*x - y))*sin(pi*(x/2 + y/2))"
            ],
            "text/latex": "$\\displaystyle \\left(x - 0.5\\right) e^{1.0 i teta \\left(2 x - y\\right)} \\sin{\\left(\\pi \\left(\\frac{x}{2} + \\frac{y}{2}\\right) \\right)}$"
          },
          "metadata": {}
        },
        {
          "output_type": "stream",
          "name": "stdout",
          "text": [
            "The Omaga now is:  721\n"
          ]
        },
        {
          "output_type": "display_data",
          "data": {
            "text/plain": [
              "(0.3*u + 1.2)*exp(1.0*I*teta*(0.6*u - 0.25*v + 2.15))*sin(pi*(0.15*u + 0.125*v + 1.475))"
            ],
            "text/latex": "$\\displaystyle \\left(0.3 u + 1.2\\right) e^{1.0 i teta \\left(0.6 u - 0.25 v + 2.15\\right)} \\sin{\\left(\\pi \\left(0.15 u + 0.125 v + 1.475\\right) \\right)}$"
          },
          "metadata": {}
        },
        {
          "output_type": "display_data",
          "data": {
            "text/plain": [
              "(x - 0.5)*exp(1.0*I*teta*(2*x - y))*sin(pi*(x/2 + y/2))"
            ],
            "text/latex": "$\\displaystyle \\left(x - 0.5\\right) e^{1.0 i teta \\left(2 x - y\\right)} \\sin{\\left(\\pi \\left(\\frac{x}{2} + \\frac{y}{2}\\right) \\right)}$"
          },
          "metadata": {}
        },
        {
          "output_type": "stream",
          "name": "stdout",
          "text": [
            "The Omaga now is:  726\n"
          ]
        },
        {
          "output_type": "display_data",
          "data": {
            "text/plain": [
              "(0.3*u + 1.2)*exp(1.0*I*teta*(0.6*u - 0.25*v + 2.15))*sin(pi*(0.15*u + 0.125*v + 1.475))"
            ],
            "text/latex": "$\\displaystyle \\left(0.3 u + 1.2\\right) e^{1.0 i teta \\left(0.6 u - 0.25 v + 2.15\\right)} \\sin{\\left(\\pi \\left(0.15 u + 0.125 v + 1.475\\right) \\right)}$"
          },
          "metadata": {}
        },
        {
          "output_type": "display_data",
          "data": {
            "text/plain": [
              "(x - 0.5)*exp(1.0*I*teta*(2*x - y))*sin(pi*(x/2 + y/2))"
            ],
            "text/latex": "$\\displaystyle \\left(x - 0.5\\right) e^{1.0 i teta \\left(2 x - y\\right)} \\sin{\\left(\\pi \\left(\\frac{x}{2} + \\frac{y}{2}\\right) \\right)}$"
          },
          "metadata": {}
        },
        {
          "output_type": "stream",
          "name": "stdout",
          "text": [
            "The Omaga now is:  731\n"
          ]
        },
        {
          "output_type": "display_data",
          "data": {
            "text/plain": [
              "(0.3*u + 1.2)*exp(1.0*I*teta*(0.6*u - 0.25*v + 2.15))*sin(pi*(0.15*u + 0.125*v + 1.475))"
            ],
            "text/latex": "$\\displaystyle \\left(0.3 u + 1.2\\right) e^{1.0 i teta \\left(0.6 u - 0.25 v + 2.15\\right)} \\sin{\\left(\\pi \\left(0.15 u + 0.125 v + 1.475\\right) \\right)}$"
          },
          "metadata": {}
        },
        {
          "output_type": "display_data",
          "data": {
            "text/plain": [
              "(x - 0.5)*exp(1.0*I*teta*(2*x - y))*sin(pi*(x/2 + y/2))"
            ],
            "text/latex": "$\\displaystyle \\left(x - 0.5\\right) e^{1.0 i teta \\left(2 x - y\\right)} \\sin{\\left(\\pi \\left(\\frac{x}{2} + \\frac{y}{2}\\right) \\right)}$"
          },
          "metadata": {}
        },
        {
          "output_type": "stream",
          "name": "stdout",
          "text": [
            "The Omaga now is:  736\n"
          ]
        },
        {
          "output_type": "display_data",
          "data": {
            "text/plain": [
              "(0.3*u + 1.2)*exp(1.0*I*teta*(0.6*u - 0.25*v + 2.15))*sin(pi*(0.15*u + 0.125*v + 1.475))"
            ],
            "text/latex": "$\\displaystyle \\left(0.3 u + 1.2\\right) e^{1.0 i teta \\left(0.6 u - 0.25 v + 2.15\\right)} \\sin{\\left(\\pi \\left(0.15 u + 0.125 v + 1.475\\right) \\right)}$"
          },
          "metadata": {}
        },
        {
          "output_type": "display_data",
          "data": {
            "text/plain": [
              "(x - 0.5)*exp(1.0*I*teta*(2*x - y))*sin(pi*(x/2 + y/2))"
            ],
            "text/latex": "$\\displaystyle \\left(x - 0.5\\right) e^{1.0 i teta \\left(2 x - y\\right)} \\sin{\\left(\\pi \\left(\\frac{x}{2} + \\frac{y}{2}\\right) \\right)}$"
          },
          "metadata": {}
        },
        {
          "output_type": "stream",
          "name": "stdout",
          "text": [
            "The Omaga now is:  741\n"
          ]
        },
        {
          "output_type": "display_data",
          "data": {
            "text/plain": [
              "(0.3*u + 1.2)*exp(1.0*I*teta*(0.6*u - 0.25*v + 2.15))*sin(pi*(0.15*u + 0.125*v + 1.475))"
            ],
            "text/latex": "$\\displaystyle \\left(0.3 u + 1.2\\right) e^{1.0 i teta \\left(0.6 u - 0.25 v + 2.15\\right)} \\sin{\\left(\\pi \\left(0.15 u + 0.125 v + 1.475\\right) \\right)}$"
          },
          "metadata": {}
        },
        {
          "output_type": "display_data",
          "data": {
            "text/plain": [
              "(x - 0.5)*exp(1.0*I*teta*(2*x - y))*sin(pi*(x/2 + y/2))"
            ],
            "text/latex": "$\\displaystyle \\left(x - 0.5\\right) e^{1.0 i teta \\left(2 x - y\\right)} \\sin{\\left(\\pi \\left(\\frac{x}{2} + \\frac{y}{2}\\right) \\right)}$"
          },
          "metadata": {}
        },
        {
          "output_type": "stream",
          "name": "stdout",
          "text": [
            "The Omaga now is:  746\n"
          ]
        },
        {
          "output_type": "display_data",
          "data": {
            "text/plain": [
              "(0.3*u + 1.2)*exp(1.0*I*teta*(0.6*u - 0.25*v + 2.15))*sin(pi*(0.15*u + 0.125*v + 1.475))"
            ],
            "text/latex": "$\\displaystyle \\left(0.3 u + 1.2\\right) e^{1.0 i teta \\left(0.6 u - 0.25 v + 2.15\\right)} \\sin{\\left(\\pi \\left(0.15 u + 0.125 v + 1.475\\right) \\right)}$"
          },
          "metadata": {}
        },
        {
          "output_type": "display_data",
          "data": {
            "text/plain": [
              "(x - 0.5)*exp(1.0*I*teta*(2*x - y))*sin(pi*(x/2 + y/2))"
            ],
            "text/latex": "$\\displaystyle \\left(x - 0.5\\right) e^{1.0 i teta \\left(2 x - y\\right)} \\sin{\\left(\\pi \\left(\\frac{x}{2} + \\frac{y}{2}\\right) \\right)}$"
          },
          "metadata": {}
        },
        {
          "output_type": "stream",
          "name": "stdout",
          "text": [
            "The Omaga now is:  751\n"
          ]
        },
        {
          "output_type": "display_data",
          "data": {
            "text/plain": [
              "(0.3*u + 1.2)*exp(1.0*I*teta*(0.6*u - 0.25*v + 2.15))*sin(pi*(0.15*u + 0.125*v + 1.475))"
            ],
            "text/latex": "$\\displaystyle \\left(0.3 u + 1.2\\right) e^{1.0 i teta \\left(0.6 u - 0.25 v + 2.15\\right)} \\sin{\\left(\\pi \\left(0.15 u + 0.125 v + 1.475\\right) \\right)}$"
          },
          "metadata": {}
        },
        {
          "output_type": "display_data",
          "data": {
            "text/plain": [
              "(x - 0.5)*exp(1.0*I*teta*(2*x - y))*sin(pi*(x/2 + y/2))"
            ],
            "text/latex": "$\\displaystyle \\left(x - 0.5\\right) e^{1.0 i teta \\left(2 x - y\\right)} \\sin{\\left(\\pi \\left(\\frac{x}{2} + \\frac{y}{2}\\right) \\right)}$"
          },
          "metadata": {}
        },
        {
          "output_type": "stream",
          "name": "stdout",
          "text": [
            "The Omaga now is:  756\n"
          ]
        },
        {
          "output_type": "display_data",
          "data": {
            "text/plain": [
              "(0.3*u + 1.2)*exp(1.0*I*teta*(0.6*u - 0.25*v + 2.15))*sin(pi*(0.15*u + 0.125*v + 1.475))"
            ],
            "text/latex": "$\\displaystyle \\left(0.3 u + 1.2\\right) e^{1.0 i teta \\left(0.6 u - 0.25 v + 2.15\\right)} \\sin{\\left(\\pi \\left(0.15 u + 0.125 v + 1.475\\right) \\right)}$"
          },
          "metadata": {}
        },
        {
          "output_type": "display_data",
          "data": {
            "text/plain": [
              "(x - 0.5)*exp(1.0*I*teta*(2*x - y))*sin(pi*(x/2 + y/2))"
            ],
            "text/latex": "$\\displaystyle \\left(x - 0.5\\right) e^{1.0 i teta \\left(2 x - y\\right)} \\sin{\\left(\\pi \\left(\\frac{x}{2} + \\frac{y}{2}\\right) \\right)}$"
          },
          "metadata": {}
        },
        {
          "output_type": "stream",
          "name": "stdout",
          "text": [
            "The Omaga now is:  761\n"
          ]
        },
        {
          "output_type": "display_data",
          "data": {
            "text/plain": [
              "(0.3*u + 1.2)*exp(1.0*I*teta*(0.6*u - 0.25*v + 2.15))*sin(pi*(0.15*u + 0.125*v + 1.475))"
            ],
            "text/latex": "$\\displaystyle \\left(0.3 u + 1.2\\right) e^{1.0 i teta \\left(0.6 u - 0.25 v + 2.15\\right)} \\sin{\\left(\\pi \\left(0.15 u + 0.125 v + 1.475\\right) \\right)}$"
          },
          "metadata": {}
        },
        {
          "output_type": "display_data",
          "data": {
            "text/plain": [
              "(x - 0.5)*exp(1.0*I*teta*(2*x - y))*sin(pi*(x/2 + y/2))"
            ],
            "text/latex": "$\\displaystyle \\left(x - 0.5\\right) e^{1.0 i teta \\left(2 x - y\\right)} \\sin{\\left(\\pi \\left(\\frac{x}{2} + \\frac{y}{2}\\right) \\right)}$"
          },
          "metadata": {}
        },
        {
          "output_type": "stream",
          "name": "stdout",
          "text": [
            "The Omaga now is:  766\n"
          ]
        },
        {
          "output_type": "display_data",
          "data": {
            "text/plain": [
              "(0.3*u + 1.2)*exp(1.0*I*teta*(0.6*u - 0.25*v + 2.15))*sin(pi*(0.15*u + 0.125*v + 1.475))"
            ],
            "text/latex": "$\\displaystyle \\left(0.3 u + 1.2\\right) e^{1.0 i teta \\left(0.6 u - 0.25 v + 2.15\\right)} \\sin{\\left(\\pi \\left(0.15 u + 0.125 v + 1.475\\right) \\right)}$"
          },
          "metadata": {}
        },
        {
          "output_type": "display_data",
          "data": {
            "text/plain": [
              "(x - 0.5)*exp(1.0*I*teta*(2*x - y))*sin(pi*(x/2 + y/2))"
            ],
            "text/latex": "$\\displaystyle \\left(x - 0.5\\right) e^{1.0 i teta \\left(2 x - y\\right)} \\sin{\\left(\\pi \\left(\\frac{x}{2} + \\frac{y}{2}\\right) \\right)}$"
          },
          "metadata": {}
        },
        {
          "output_type": "stream",
          "name": "stdout",
          "text": [
            "The Omaga now is:  771\n"
          ]
        },
        {
          "output_type": "display_data",
          "data": {
            "text/plain": [
              "(0.3*u + 1.2)*exp(1.0*I*teta*(0.6*u - 0.25*v + 2.15))*sin(pi*(0.15*u + 0.125*v + 1.475))"
            ],
            "text/latex": "$\\displaystyle \\left(0.3 u + 1.2\\right) e^{1.0 i teta \\left(0.6 u - 0.25 v + 2.15\\right)} \\sin{\\left(\\pi \\left(0.15 u + 0.125 v + 1.475\\right) \\right)}$"
          },
          "metadata": {}
        },
        {
          "output_type": "display_data",
          "data": {
            "text/plain": [
              "(x - 0.5)*exp(1.0*I*teta*(2*x - y))*sin(pi*(x/2 + y/2))"
            ],
            "text/latex": "$\\displaystyle \\left(x - 0.5\\right) e^{1.0 i teta \\left(2 x - y\\right)} \\sin{\\left(\\pi \\left(\\frac{x}{2} + \\frac{y}{2}\\right) \\right)}$"
          },
          "metadata": {}
        },
        {
          "output_type": "stream",
          "name": "stdout",
          "text": [
            "The Omaga now is:  776\n"
          ]
        },
        {
          "output_type": "display_data",
          "data": {
            "text/plain": [
              "(0.3*u + 1.2)*exp(1.0*I*teta*(0.6*u - 0.25*v + 2.15))*sin(pi*(0.15*u + 0.125*v + 1.475))"
            ],
            "text/latex": "$\\displaystyle \\left(0.3 u + 1.2\\right) e^{1.0 i teta \\left(0.6 u - 0.25 v + 2.15\\right)} \\sin{\\left(\\pi \\left(0.15 u + 0.125 v + 1.475\\right) \\right)}$"
          },
          "metadata": {}
        },
        {
          "output_type": "display_data",
          "data": {
            "text/plain": [
              "(x - 0.5)*exp(1.0*I*teta*(2*x - y))*sin(pi*(x/2 + y/2))"
            ],
            "text/latex": "$\\displaystyle \\left(x - 0.5\\right) e^{1.0 i teta \\left(2 x - y\\right)} \\sin{\\left(\\pi \\left(\\frac{x}{2} + \\frac{y}{2}\\right) \\right)}$"
          },
          "metadata": {}
        },
        {
          "output_type": "stream",
          "name": "stdout",
          "text": [
            "The Omaga now is:  781\n"
          ]
        },
        {
          "output_type": "display_data",
          "data": {
            "text/plain": [
              "(0.3*u + 1.2)*exp(1.0*I*teta*(0.6*u - 0.25*v + 2.15))*sin(pi*(0.15*u + 0.125*v + 1.475))"
            ],
            "text/latex": "$\\displaystyle \\left(0.3 u + 1.2\\right) e^{1.0 i teta \\left(0.6 u - 0.25 v + 2.15\\right)} \\sin{\\left(\\pi \\left(0.15 u + 0.125 v + 1.475\\right) \\right)}$"
          },
          "metadata": {}
        },
        {
          "output_type": "display_data",
          "data": {
            "text/plain": [
              "(x - 0.5)*exp(1.0*I*teta*(2*x - y))*sin(pi*(x/2 + y/2))"
            ],
            "text/latex": "$\\displaystyle \\left(x - 0.5\\right) e^{1.0 i teta \\left(2 x - y\\right)} \\sin{\\left(\\pi \\left(\\frac{x}{2} + \\frac{y}{2}\\right) \\right)}$"
          },
          "metadata": {}
        },
        {
          "output_type": "stream",
          "name": "stdout",
          "text": [
            "The Omaga now is:  786\n"
          ]
        },
        {
          "output_type": "display_data",
          "data": {
            "text/plain": [
              "(0.3*u + 1.2)*exp(1.0*I*teta*(0.6*u - 0.25*v + 2.15))*sin(pi*(0.15*u + 0.125*v + 1.475))"
            ],
            "text/latex": "$\\displaystyle \\left(0.3 u + 1.2\\right) e^{1.0 i teta \\left(0.6 u - 0.25 v + 2.15\\right)} \\sin{\\left(\\pi \\left(0.15 u + 0.125 v + 1.475\\right) \\right)}$"
          },
          "metadata": {}
        },
        {
          "output_type": "display_data",
          "data": {
            "text/plain": [
              "(x - 0.5)*exp(1.0*I*teta*(2*x - y))*sin(pi*(x/2 + y/2))"
            ],
            "text/latex": "$\\displaystyle \\left(x - 0.5\\right) e^{1.0 i teta \\left(2 x - y\\right)} \\sin{\\left(\\pi \\left(\\frac{x}{2} + \\frac{y}{2}\\right) \\right)}$"
          },
          "metadata": {}
        },
        {
          "output_type": "stream",
          "name": "stdout",
          "text": [
            "The Omaga now is:  791\n"
          ]
        },
        {
          "output_type": "display_data",
          "data": {
            "text/plain": [
              "(0.3*u + 1.2)*exp(1.0*I*teta*(0.6*u - 0.25*v + 2.15))*sin(pi*(0.15*u + 0.125*v + 1.475))"
            ],
            "text/latex": "$\\displaystyle \\left(0.3 u + 1.2\\right) e^{1.0 i teta \\left(0.6 u - 0.25 v + 2.15\\right)} \\sin{\\left(\\pi \\left(0.15 u + 0.125 v + 1.475\\right) \\right)}$"
          },
          "metadata": {}
        },
        {
          "output_type": "display_data",
          "data": {
            "text/plain": [
              "(x - 0.5)*exp(1.0*I*teta*(2*x - y))*sin(pi*(x/2 + y/2))"
            ],
            "text/latex": "$\\displaystyle \\left(x - 0.5\\right) e^{1.0 i teta \\left(2 x - y\\right)} \\sin{\\left(\\pi \\left(\\frac{x}{2} + \\frac{y}{2}\\right) \\right)}$"
          },
          "metadata": {}
        },
        {
          "output_type": "stream",
          "name": "stdout",
          "text": [
            "The Omaga now is:  796\n"
          ]
        },
        {
          "output_type": "display_data",
          "data": {
            "text/plain": [
              "(0.3*u + 1.2)*exp(1.0*I*teta*(0.6*u - 0.25*v + 2.15))*sin(pi*(0.15*u + 0.125*v + 1.475))"
            ],
            "text/latex": "$\\displaystyle \\left(0.3 u + 1.2\\right) e^{1.0 i teta \\left(0.6 u - 0.25 v + 2.15\\right)} \\sin{\\left(\\pi \\left(0.15 u + 0.125 v + 1.475\\right) \\right)}$"
          },
          "metadata": {}
        },
        {
          "output_type": "display_data",
          "data": {
            "text/plain": [
              "(x - 0.5)*exp(1.0*I*teta*(2*x - y))*sin(pi*(x/2 + y/2))"
            ],
            "text/latex": "$\\displaystyle \\left(x - 0.5\\right) e^{1.0 i teta \\left(2 x - y\\right)} \\sin{\\left(\\pi \\left(\\frac{x}{2} + \\frac{y}{2}\\right) \\right)}$"
          },
          "metadata": {}
        },
        {
          "output_type": "stream",
          "name": "stdout",
          "text": [
            "The Omaga now is:  801\n"
          ]
        },
        {
          "output_type": "display_data",
          "data": {
            "text/plain": [
              "(0.3*u + 1.2)*exp(1.0*I*teta*(0.6*u - 0.25*v + 2.15))*sin(pi*(0.15*u + 0.125*v + 1.475))"
            ],
            "text/latex": "$\\displaystyle \\left(0.3 u + 1.2\\right) e^{1.0 i teta \\left(0.6 u - 0.25 v + 2.15\\right)} \\sin{\\left(\\pi \\left(0.15 u + 0.125 v + 1.475\\right) \\right)}$"
          },
          "metadata": {}
        },
        {
          "output_type": "display_data",
          "data": {
            "text/plain": [
              "(x - 0.5)*exp(1.0*I*teta*(2*x - y))*sin(pi*(x/2 + y/2))"
            ],
            "text/latex": "$\\displaystyle \\left(x - 0.5\\right) e^{1.0 i teta \\left(2 x - y\\right)} \\sin{\\left(\\pi \\left(\\frac{x}{2} + \\frac{y}{2}\\right) \\right)}$"
          },
          "metadata": {}
        },
        {
          "output_type": "stream",
          "name": "stdout",
          "text": [
            "The Omaga now is:  806\n"
          ]
        },
        {
          "output_type": "display_data",
          "data": {
            "text/plain": [
              "(0.3*u + 1.2)*exp(1.0*I*teta*(0.6*u - 0.25*v + 2.15))*sin(pi*(0.15*u + 0.125*v + 1.475))"
            ],
            "text/latex": "$\\displaystyle \\left(0.3 u + 1.2\\right) e^{1.0 i teta \\left(0.6 u - 0.25 v + 2.15\\right)} \\sin{\\left(\\pi \\left(0.15 u + 0.125 v + 1.475\\right) \\right)}$"
          },
          "metadata": {}
        },
        {
          "output_type": "display_data",
          "data": {
            "text/plain": [
              "(x - 0.5)*exp(1.0*I*teta*(2*x - y))*sin(pi*(x/2 + y/2))"
            ],
            "text/latex": "$\\displaystyle \\left(x - 0.5\\right) e^{1.0 i teta \\left(2 x - y\\right)} \\sin{\\left(\\pi \\left(\\frac{x}{2} + \\frac{y}{2}\\right) \\right)}$"
          },
          "metadata": {}
        },
        {
          "output_type": "stream",
          "name": "stdout",
          "text": [
            "The Omaga now is:  811\n"
          ]
        },
        {
          "output_type": "display_data",
          "data": {
            "text/plain": [
              "(0.3*u + 1.2)*exp(1.0*I*teta*(0.6*u - 0.25*v + 2.15))*sin(pi*(0.15*u + 0.125*v + 1.475))"
            ],
            "text/latex": "$\\displaystyle \\left(0.3 u + 1.2\\right) e^{1.0 i teta \\left(0.6 u - 0.25 v + 2.15\\right)} \\sin{\\left(\\pi \\left(0.15 u + 0.125 v + 1.475\\right) \\right)}$"
          },
          "metadata": {}
        },
        {
          "output_type": "display_data",
          "data": {
            "text/plain": [
              "(x - 0.5)*exp(1.0*I*teta*(2*x - y))*sin(pi*(x/2 + y/2))"
            ],
            "text/latex": "$\\displaystyle \\left(x - 0.5\\right) e^{1.0 i teta \\left(2 x - y\\right)} \\sin{\\left(\\pi \\left(\\frac{x}{2} + \\frac{y}{2}\\right) \\right)}$"
          },
          "metadata": {}
        },
        {
          "output_type": "stream",
          "name": "stdout",
          "text": [
            "The Omaga now is:  816\n"
          ]
        },
        {
          "output_type": "display_data",
          "data": {
            "text/plain": [
              "(0.3*u + 1.2)*exp(1.0*I*teta*(0.6*u - 0.25*v + 2.15))*sin(pi*(0.15*u + 0.125*v + 1.475))"
            ],
            "text/latex": "$\\displaystyle \\left(0.3 u + 1.2\\right) e^{1.0 i teta \\left(0.6 u - 0.25 v + 2.15\\right)} \\sin{\\left(\\pi \\left(0.15 u + 0.125 v + 1.475\\right) \\right)}$"
          },
          "metadata": {}
        },
        {
          "output_type": "display_data",
          "data": {
            "text/plain": [
              "(x - 0.5)*exp(1.0*I*teta*(2*x - y))*sin(pi*(x/2 + y/2))"
            ],
            "text/latex": "$\\displaystyle \\left(x - 0.5\\right) e^{1.0 i teta \\left(2 x - y\\right)} \\sin{\\left(\\pi \\left(\\frac{x}{2} + \\frac{y}{2}\\right) \\right)}$"
          },
          "metadata": {}
        },
        {
          "output_type": "stream",
          "name": "stdout",
          "text": [
            "The Omaga now is:  821\n"
          ]
        },
        {
          "output_type": "display_data",
          "data": {
            "text/plain": [
              "(0.3*u + 1.2)*exp(1.0*I*teta*(0.6*u - 0.25*v + 2.15))*sin(pi*(0.15*u + 0.125*v + 1.475))"
            ],
            "text/latex": "$\\displaystyle \\left(0.3 u + 1.2\\right) e^{1.0 i teta \\left(0.6 u - 0.25 v + 2.15\\right)} \\sin{\\left(\\pi \\left(0.15 u + 0.125 v + 1.475\\right) \\right)}$"
          },
          "metadata": {}
        },
        {
          "output_type": "display_data",
          "data": {
            "text/plain": [
              "(x - 0.5)*exp(1.0*I*teta*(2*x - y))*sin(pi*(x/2 + y/2))"
            ],
            "text/latex": "$\\displaystyle \\left(x - 0.5\\right) e^{1.0 i teta \\left(2 x - y\\right)} \\sin{\\left(\\pi \\left(\\frac{x}{2} + \\frac{y}{2}\\right) \\right)}$"
          },
          "metadata": {}
        },
        {
          "output_type": "stream",
          "name": "stdout",
          "text": [
            "The Omaga now is:  826\n"
          ]
        },
        {
          "output_type": "display_data",
          "data": {
            "text/plain": [
              "(0.3*u + 1.2)*exp(1.0*I*teta*(0.6*u - 0.25*v + 2.15))*sin(pi*(0.15*u + 0.125*v + 1.475))"
            ],
            "text/latex": "$\\displaystyle \\left(0.3 u + 1.2\\right) e^{1.0 i teta \\left(0.6 u - 0.25 v + 2.15\\right)} \\sin{\\left(\\pi \\left(0.15 u + 0.125 v + 1.475\\right) \\right)}$"
          },
          "metadata": {}
        },
        {
          "output_type": "display_data",
          "data": {
            "text/plain": [
              "(x - 0.5)*exp(1.0*I*teta*(2*x - y))*sin(pi*(x/2 + y/2))"
            ],
            "text/latex": "$\\displaystyle \\left(x - 0.5\\right) e^{1.0 i teta \\left(2 x - y\\right)} \\sin{\\left(\\pi \\left(\\frac{x}{2} + \\frac{y}{2}\\right) \\right)}$"
          },
          "metadata": {}
        },
        {
          "output_type": "stream",
          "name": "stdout",
          "text": [
            "The Omaga now is:  831\n"
          ]
        },
        {
          "output_type": "display_data",
          "data": {
            "text/plain": [
              "(0.3*u + 1.2)*exp(1.0*I*teta*(0.6*u - 0.25*v + 2.15))*sin(pi*(0.15*u + 0.125*v + 1.475))"
            ],
            "text/latex": "$\\displaystyle \\left(0.3 u + 1.2\\right) e^{1.0 i teta \\left(0.6 u - 0.25 v + 2.15\\right)} \\sin{\\left(\\pi \\left(0.15 u + 0.125 v + 1.475\\right) \\right)}$"
          },
          "metadata": {}
        },
        {
          "output_type": "display_data",
          "data": {
            "text/plain": [
              "(x - 0.5)*exp(1.0*I*teta*(2*x - y))*sin(pi*(x/2 + y/2))"
            ],
            "text/latex": "$\\displaystyle \\left(x - 0.5\\right) e^{1.0 i teta \\left(2 x - y\\right)} \\sin{\\left(\\pi \\left(\\frac{x}{2} + \\frac{y}{2}\\right) \\right)}$"
          },
          "metadata": {}
        },
        {
          "output_type": "stream",
          "name": "stdout",
          "text": [
            "The Omaga now is:  836\n"
          ]
        },
        {
          "output_type": "display_data",
          "data": {
            "text/plain": [
              "(0.3*u + 1.2)*exp(1.0*I*teta*(0.6*u - 0.25*v + 2.15))*sin(pi*(0.15*u + 0.125*v + 1.475))"
            ],
            "text/latex": "$\\displaystyle \\left(0.3 u + 1.2\\right) e^{1.0 i teta \\left(0.6 u - 0.25 v + 2.15\\right)} \\sin{\\left(\\pi \\left(0.15 u + 0.125 v + 1.475\\right) \\right)}$"
          },
          "metadata": {}
        },
        {
          "output_type": "display_data",
          "data": {
            "text/plain": [
              "(x - 0.5)*exp(1.0*I*teta*(2*x - y))*sin(pi*(x/2 + y/2))"
            ],
            "text/latex": "$\\displaystyle \\left(x - 0.5\\right) e^{1.0 i teta \\left(2 x - y\\right)} \\sin{\\left(\\pi \\left(\\frac{x}{2} + \\frac{y}{2}\\right) \\right)}$"
          },
          "metadata": {}
        },
        {
          "output_type": "stream",
          "name": "stdout",
          "text": [
            "The Omaga now is:  841\n"
          ]
        },
        {
          "output_type": "display_data",
          "data": {
            "text/plain": [
              "(0.3*u + 1.2)*exp(1.0*I*teta*(0.6*u - 0.25*v + 2.15))*sin(pi*(0.15*u + 0.125*v + 1.475))"
            ],
            "text/latex": "$\\displaystyle \\left(0.3 u + 1.2\\right) e^{1.0 i teta \\left(0.6 u - 0.25 v + 2.15\\right)} \\sin{\\left(\\pi \\left(0.15 u + 0.125 v + 1.475\\right) \\right)}$"
          },
          "metadata": {}
        },
        {
          "output_type": "display_data",
          "data": {
            "text/plain": [
              "(x - 0.5)*exp(1.0*I*teta*(2*x - y))*sin(pi*(x/2 + y/2))"
            ],
            "text/latex": "$\\displaystyle \\left(x - 0.5\\right) e^{1.0 i teta \\left(2 x - y\\right)} \\sin{\\left(\\pi \\left(\\frac{x}{2} + \\frac{y}{2}\\right) \\right)}$"
          },
          "metadata": {}
        },
        {
          "output_type": "stream",
          "name": "stdout",
          "text": [
            "The Omaga now is:  846\n"
          ]
        },
        {
          "output_type": "display_data",
          "data": {
            "text/plain": [
              "(0.3*u + 1.2)*exp(1.0*I*teta*(0.6*u - 0.25*v + 2.15))*sin(pi*(0.15*u + 0.125*v + 1.475))"
            ],
            "text/latex": "$\\displaystyle \\left(0.3 u + 1.2\\right) e^{1.0 i teta \\left(0.6 u - 0.25 v + 2.15\\right)} \\sin{\\left(\\pi \\left(0.15 u + 0.125 v + 1.475\\right) \\right)}$"
          },
          "metadata": {}
        },
        {
          "output_type": "display_data",
          "data": {
            "text/plain": [
              "(x - 0.5)*exp(1.0*I*teta*(2*x - y))*sin(pi*(x/2 + y/2))"
            ],
            "text/latex": "$\\displaystyle \\left(x - 0.5\\right) e^{1.0 i teta \\left(2 x - y\\right)} \\sin{\\left(\\pi \\left(\\frac{x}{2} + \\frac{y}{2}\\right) \\right)}$"
          },
          "metadata": {}
        },
        {
          "output_type": "stream",
          "name": "stdout",
          "text": [
            "The Omaga now is:  851\n"
          ]
        },
        {
          "output_type": "display_data",
          "data": {
            "text/plain": [
              "(0.3*u + 1.2)*exp(1.0*I*teta*(0.6*u - 0.25*v + 2.15))*sin(pi*(0.15*u + 0.125*v + 1.475))"
            ],
            "text/latex": "$\\displaystyle \\left(0.3 u + 1.2\\right) e^{1.0 i teta \\left(0.6 u - 0.25 v + 2.15\\right)} \\sin{\\left(\\pi \\left(0.15 u + 0.125 v + 1.475\\right) \\right)}$"
          },
          "metadata": {}
        },
        {
          "output_type": "display_data",
          "data": {
            "text/plain": [
              "(x - 0.5)*exp(1.0*I*teta*(2*x - y))*sin(pi*(x/2 + y/2))"
            ],
            "text/latex": "$\\displaystyle \\left(x - 0.5\\right) e^{1.0 i teta \\left(2 x - y\\right)} \\sin{\\left(\\pi \\left(\\frac{x}{2} + \\frac{y}{2}\\right) \\right)}$"
          },
          "metadata": {}
        },
        {
          "output_type": "stream",
          "name": "stdout",
          "text": [
            "The Omaga now is:  856\n"
          ]
        },
        {
          "output_type": "display_data",
          "data": {
            "text/plain": [
              "(0.3*u + 1.2)*exp(1.0*I*teta*(0.6*u - 0.25*v + 2.15))*sin(pi*(0.15*u + 0.125*v + 1.475))"
            ],
            "text/latex": "$\\displaystyle \\left(0.3 u + 1.2\\right) e^{1.0 i teta \\left(0.6 u - 0.25 v + 2.15\\right)} \\sin{\\left(\\pi \\left(0.15 u + 0.125 v + 1.475\\right) \\right)}$"
          },
          "metadata": {}
        },
        {
          "output_type": "display_data",
          "data": {
            "text/plain": [
              "(x - 0.5)*exp(1.0*I*teta*(2*x - y))*sin(pi*(x/2 + y/2))"
            ],
            "text/latex": "$\\displaystyle \\left(x - 0.5\\right) e^{1.0 i teta \\left(2 x - y\\right)} \\sin{\\left(\\pi \\left(\\frac{x}{2} + \\frac{y}{2}\\right) \\right)}$"
          },
          "metadata": {}
        },
        {
          "output_type": "stream",
          "name": "stdout",
          "text": [
            "The Omaga now is:  861\n"
          ]
        },
        {
          "output_type": "display_data",
          "data": {
            "text/plain": [
              "(0.3*u + 1.2)*exp(1.0*I*teta*(0.6*u - 0.25*v + 2.15))*sin(pi*(0.15*u + 0.125*v + 1.475))"
            ],
            "text/latex": "$\\displaystyle \\left(0.3 u + 1.2\\right) e^{1.0 i teta \\left(0.6 u - 0.25 v + 2.15\\right)} \\sin{\\left(\\pi \\left(0.15 u + 0.125 v + 1.475\\right) \\right)}$"
          },
          "metadata": {}
        },
        {
          "output_type": "display_data",
          "data": {
            "text/plain": [
              "(x - 0.5)*exp(1.0*I*teta*(2*x - y))*sin(pi*(x/2 + y/2))"
            ],
            "text/latex": "$\\displaystyle \\left(x - 0.5\\right) e^{1.0 i teta \\left(2 x - y\\right)} \\sin{\\left(\\pi \\left(\\frac{x}{2} + \\frac{y}{2}\\right) \\right)}$"
          },
          "metadata": {}
        },
        {
          "output_type": "stream",
          "name": "stdout",
          "text": [
            "The Omaga now is:  866\n"
          ]
        },
        {
          "output_type": "display_data",
          "data": {
            "text/plain": [
              "(0.3*u + 1.2)*exp(1.0*I*teta*(0.6*u - 0.25*v + 2.15))*sin(pi*(0.15*u + 0.125*v + 1.475))"
            ],
            "text/latex": "$\\displaystyle \\left(0.3 u + 1.2\\right) e^{1.0 i teta \\left(0.6 u - 0.25 v + 2.15\\right)} \\sin{\\left(\\pi \\left(0.15 u + 0.125 v + 1.475\\right) \\right)}$"
          },
          "metadata": {}
        },
        {
          "output_type": "display_data",
          "data": {
            "text/plain": [
              "(x - 0.5)*exp(1.0*I*teta*(2*x - y))*sin(pi*(x/2 + y/2))"
            ],
            "text/latex": "$\\displaystyle \\left(x - 0.5\\right) e^{1.0 i teta \\left(2 x - y\\right)} \\sin{\\left(\\pi \\left(\\frac{x}{2} + \\frac{y}{2}\\right) \\right)}$"
          },
          "metadata": {}
        },
        {
          "output_type": "stream",
          "name": "stdout",
          "text": [
            "The Omaga now is:  871\n"
          ]
        },
        {
          "output_type": "display_data",
          "data": {
            "text/plain": [
              "(0.3*u + 1.2)*exp(1.0*I*teta*(0.6*u - 0.25*v + 2.15))*sin(pi*(0.15*u + 0.125*v + 1.475))"
            ],
            "text/latex": "$\\displaystyle \\left(0.3 u + 1.2\\right) e^{1.0 i teta \\left(0.6 u - 0.25 v + 2.15\\right)} \\sin{\\left(\\pi \\left(0.15 u + 0.125 v + 1.475\\right) \\right)}$"
          },
          "metadata": {}
        },
        {
          "output_type": "display_data",
          "data": {
            "text/plain": [
              "(x - 0.5)*exp(1.0*I*teta*(2*x - y))*sin(pi*(x/2 + y/2))"
            ],
            "text/latex": "$\\displaystyle \\left(x - 0.5\\right) e^{1.0 i teta \\left(2 x - y\\right)} \\sin{\\left(\\pi \\left(\\frac{x}{2} + \\frac{y}{2}\\right) \\right)}$"
          },
          "metadata": {}
        },
        {
          "output_type": "stream",
          "name": "stdout",
          "text": [
            "The Omaga now is:  876\n"
          ]
        },
        {
          "output_type": "display_data",
          "data": {
            "text/plain": [
              "(0.3*u + 1.2)*exp(1.0*I*teta*(0.6*u - 0.25*v + 2.15))*sin(pi*(0.15*u + 0.125*v + 1.475))"
            ],
            "text/latex": "$\\displaystyle \\left(0.3 u + 1.2\\right) e^{1.0 i teta \\left(0.6 u - 0.25 v + 2.15\\right)} \\sin{\\left(\\pi \\left(0.15 u + 0.125 v + 1.475\\right) \\right)}$"
          },
          "metadata": {}
        },
        {
          "output_type": "display_data",
          "data": {
            "text/plain": [
              "(x - 0.5)*exp(1.0*I*teta*(2*x - y))*sin(pi*(x/2 + y/2))"
            ],
            "text/latex": "$\\displaystyle \\left(x - 0.5\\right) e^{1.0 i teta \\left(2 x - y\\right)} \\sin{\\left(\\pi \\left(\\frac{x}{2} + \\frac{y}{2}\\right) \\right)}$"
          },
          "metadata": {}
        },
        {
          "output_type": "stream",
          "name": "stdout",
          "text": [
            "The Omaga now is:  881\n"
          ]
        },
        {
          "output_type": "display_data",
          "data": {
            "text/plain": [
              "(0.3*u + 1.2)*exp(1.0*I*teta*(0.6*u - 0.25*v + 2.15))*sin(pi*(0.15*u + 0.125*v + 1.475))"
            ],
            "text/latex": "$\\displaystyle \\left(0.3 u + 1.2\\right) e^{1.0 i teta \\left(0.6 u - 0.25 v + 2.15\\right)} \\sin{\\left(\\pi \\left(0.15 u + 0.125 v + 1.475\\right) \\right)}$"
          },
          "metadata": {}
        },
        {
          "output_type": "display_data",
          "data": {
            "text/plain": [
              "(x - 0.5)*exp(1.0*I*teta*(2*x - y))*sin(pi*(x/2 + y/2))"
            ],
            "text/latex": "$\\displaystyle \\left(x - 0.5\\right) e^{1.0 i teta \\left(2 x - y\\right)} \\sin{\\left(\\pi \\left(\\frac{x}{2} + \\frac{y}{2}\\right) \\right)}$"
          },
          "metadata": {}
        },
        {
          "output_type": "stream",
          "name": "stdout",
          "text": [
            "The Omaga now is:  886\n"
          ]
        },
        {
          "output_type": "display_data",
          "data": {
            "text/plain": [
              "(0.3*u + 1.2)*exp(1.0*I*teta*(0.6*u - 0.25*v + 2.15))*sin(pi*(0.15*u + 0.125*v + 1.475))"
            ],
            "text/latex": "$\\displaystyle \\left(0.3 u + 1.2\\right) e^{1.0 i teta \\left(0.6 u - 0.25 v + 2.15\\right)} \\sin{\\left(\\pi \\left(0.15 u + 0.125 v + 1.475\\right) \\right)}$"
          },
          "metadata": {}
        },
        {
          "output_type": "display_data",
          "data": {
            "text/plain": [
              "(x - 0.5)*exp(1.0*I*teta*(2*x - y))*sin(pi*(x/2 + y/2))"
            ],
            "text/latex": "$\\displaystyle \\left(x - 0.5\\right) e^{1.0 i teta \\left(2 x - y\\right)} \\sin{\\left(\\pi \\left(\\frac{x}{2} + \\frac{y}{2}\\right) \\right)}$"
          },
          "metadata": {}
        },
        {
          "output_type": "stream",
          "name": "stdout",
          "text": [
            "The Omaga now is:  891\n"
          ]
        },
        {
          "output_type": "display_data",
          "data": {
            "text/plain": [
              "(0.3*u + 1.2)*exp(1.0*I*teta*(0.6*u - 0.25*v + 2.15))*sin(pi*(0.15*u + 0.125*v + 1.475))"
            ],
            "text/latex": "$\\displaystyle \\left(0.3 u + 1.2\\right) e^{1.0 i teta \\left(0.6 u - 0.25 v + 2.15\\right)} \\sin{\\left(\\pi \\left(0.15 u + 0.125 v + 1.475\\right) \\right)}$"
          },
          "metadata": {}
        },
        {
          "output_type": "display_data",
          "data": {
            "text/plain": [
              "(x - 0.5)*exp(1.0*I*teta*(2*x - y))*sin(pi*(x/2 + y/2))"
            ],
            "text/latex": "$\\displaystyle \\left(x - 0.5\\right) e^{1.0 i teta \\left(2 x - y\\right)} \\sin{\\left(\\pi \\left(\\frac{x}{2} + \\frac{y}{2}\\right) \\right)}$"
          },
          "metadata": {}
        },
        {
          "output_type": "stream",
          "name": "stdout",
          "text": [
            "The Omaga now is:  896\n"
          ]
        },
        {
          "output_type": "display_data",
          "data": {
            "text/plain": [
              "(0.3*u + 1.2)*exp(1.0*I*teta*(0.6*u - 0.25*v + 2.15))*sin(pi*(0.15*u + 0.125*v + 1.475))"
            ],
            "text/latex": "$\\displaystyle \\left(0.3 u + 1.2\\right) e^{1.0 i teta \\left(0.6 u - 0.25 v + 2.15\\right)} \\sin{\\left(\\pi \\left(0.15 u + 0.125 v + 1.475\\right) \\right)}$"
          },
          "metadata": {}
        },
        {
          "output_type": "display_data",
          "data": {
            "text/plain": [
              "(x - 0.5)*exp(1.0*I*teta*(2*x - y))*sin(pi*(x/2 + y/2))"
            ],
            "text/latex": "$\\displaystyle \\left(x - 0.5\\right) e^{1.0 i teta \\left(2 x - y\\right)} \\sin{\\left(\\pi \\left(\\frac{x}{2} + \\frac{y}{2}\\right) \\right)}$"
          },
          "metadata": {}
        },
        {
          "output_type": "stream",
          "name": "stdout",
          "text": [
            "The Omaga now is:  901\n"
          ]
        },
        {
          "output_type": "display_data",
          "data": {
            "text/plain": [
              "(0.3*u + 1.2)*exp(1.0*I*teta*(0.6*u - 0.25*v + 2.15))*sin(pi*(0.15*u + 0.125*v + 1.475))"
            ],
            "text/latex": "$\\displaystyle \\left(0.3 u + 1.2\\right) e^{1.0 i teta \\left(0.6 u - 0.25 v + 2.15\\right)} \\sin{\\left(\\pi \\left(0.15 u + 0.125 v + 1.475\\right) \\right)}$"
          },
          "metadata": {}
        },
        {
          "output_type": "display_data",
          "data": {
            "text/plain": [
              "(x - 0.5)*exp(1.0*I*teta*(2*x - y))*sin(pi*(x/2 + y/2))"
            ],
            "text/latex": "$\\displaystyle \\left(x - 0.5\\right) e^{1.0 i teta \\left(2 x - y\\right)} \\sin{\\left(\\pi \\left(\\frac{x}{2} + \\frac{y}{2}\\right) \\right)}$"
          },
          "metadata": {}
        },
        {
          "output_type": "stream",
          "name": "stdout",
          "text": [
            "The Omaga now is:  906\n"
          ]
        },
        {
          "output_type": "display_data",
          "data": {
            "text/plain": [
              "(0.3*u + 1.2)*exp(1.0*I*teta*(0.6*u - 0.25*v + 2.15))*sin(pi*(0.15*u + 0.125*v + 1.475))"
            ],
            "text/latex": "$\\displaystyle \\left(0.3 u + 1.2\\right) e^{1.0 i teta \\left(0.6 u - 0.25 v + 2.15\\right)} \\sin{\\left(\\pi \\left(0.15 u + 0.125 v + 1.475\\right) \\right)}$"
          },
          "metadata": {}
        },
        {
          "output_type": "display_data",
          "data": {
            "text/plain": [
              "(x - 0.5)*exp(1.0*I*teta*(2*x - y))*sin(pi*(x/2 + y/2))"
            ],
            "text/latex": "$\\displaystyle \\left(x - 0.5\\right) e^{1.0 i teta \\left(2 x - y\\right)} \\sin{\\left(\\pi \\left(\\frac{x}{2} + \\frac{y}{2}\\right) \\right)}$"
          },
          "metadata": {}
        },
        {
          "output_type": "stream",
          "name": "stdout",
          "text": [
            "The Omaga now is:  911\n"
          ]
        },
        {
          "output_type": "display_data",
          "data": {
            "text/plain": [
              "(0.3*u + 1.2)*exp(1.0*I*teta*(0.6*u - 0.25*v + 2.15))*sin(pi*(0.15*u + 0.125*v + 1.475))"
            ],
            "text/latex": "$\\displaystyle \\left(0.3 u + 1.2\\right) e^{1.0 i teta \\left(0.6 u - 0.25 v + 2.15\\right)} \\sin{\\left(\\pi \\left(0.15 u + 0.125 v + 1.475\\right) \\right)}$"
          },
          "metadata": {}
        },
        {
          "output_type": "display_data",
          "data": {
            "text/plain": [
              "(x - 0.5)*exp(1.0*I*teta*(2*x - y))*sin(pi*(x/2 + y/2))"
            ],
            "text/latex": "$\\displaystyle \\left(x - 0.5\\right) e^{1.0 i teta \\left(2 x - y\\right)} \\sin{\\left(\\pi \\left(\\frac{x}{2} + \\frac{y}{2}\\right) \\right)}$"
          },
          "metadata": {}
        },
        {
          "output_type": "stream",
          "name": "stdout",
          "text": [
            "The Omaga now is:  916\n"
          ]
        },
        {
          "output_type": "display_data",
          "data": {
            "text/plain": [
              "(0.3*u + 1.2)*exp(1.0*I*teta*(0.6*u - 0.25*v + 2.15))*sin(pi*(0.15*u + 0.125*v + 1.475))"
            ],
            "text/latex": "$\\displaystyle \\left(0.3 u + 1.2\\right) e^{1.0 i teta \\left(0.6 u - 0.25 v + 2.15\\right)} \\sin{\\left(\\pi \\left(0.15 u + 0.125 v + 1.475\\right) \\right)}$"
          },
          "metadata": {}
        },
        {
          "output_type": "display_data",
          "data": {
            "text/plain": [
              "(x - 0.5)*exp(1.0*I*teta*(2*x - y))*sin(pi*(x/2 + y/2))"
            ],
            "text/latex": "$\\displaystyle \\left(x - 0.5\\right) e^{1.0 i teta \\left(2 x - y\\right)} \\sin{\\left(\\pi \\left(\\frac{x}{2} + \\frac{y}{2}\\right) \\right)}$"
          },
          "metadata": {}
        },
        {
          "output_type": "stream",
          "name": "stdout",
          "text": [
            "The Omaga now is:  921\n"
          ]
        },
        {
          "output_type": "display_data",
          "data": {
            "text/plain": [
              "(0.3*u + 1.2)*exp(1.0*I*teta*(0.6*u - 0.25*v + 2.15))*sin(pi*(0.15*u + 0.125*v + 1.475))"
            ],
            "text/latex": "$\\displaystyle \\left(0.3 u + 1.2\\right) e^{1.0 i teta \\left(0.6 u - 0.25 v + 2.15\\right)} \\sin{\\left(\\pi \\left(0.15 u + 0.125 v + 1.475\\right) \\right)}$"
          },
          "metadata": {}
        },
        {
          "output_type": "display_data",
          "data": {
            "text/plain": [
              "(x - 0.5)*exp(1.0*I*teta*(2*x - y))*sin(pi*(x/2 + y/2))"
            ],
            "text/latex": "$\\displaystyle \\left(x - 0.5\\right) e^{1.0 i teta \\left(2 x - y\\right)} \\sin{\\left(\\pi \\left(\\frac{x}{2} + \\frac{y}{2}\\right) \\right)}$"
          },
          "metadata": {}
        },
        {
          "output_type": "stream",
          "name": "stdout",
          "text": [
            "The Omaga now is:  926\n"
          ]
        },
        {
          "output_type": "display_data",
          "data": {
            "text/plain": [
              "(0.3*u + 1.2)*exp(1.0*I*teta*(0.6*u - 0.25*v + 2.15))*sin(pi*(0.15*u + 0.125*v + 1.475))"
            ],
            "text/latex": "$\\displaystyle \\left(0.3 u + 1.2\\right) e^{1.0 i teta \\left(0.6 u - 0.25 v + 2.15\\right)} \\sin{\\left(\\pi \\left(0.15 u + 0.125 v + 1.475\\right) \\right)}$"
          },
          "metadata": {}
        },
        {
          "output_type": "display_data",
          "data": {
            "text/plain": [
              "(x - 0.5)*exp(1.0*I*teta*(2*x - y))*sin(pi*(x/2 + y/2))"
            ],
            "text/latex": "$\\displaystyle \\left(x - 0.5\\right) e^{1.0 i teta \\left(2 x - y\\right)} \\sin{\\left(\\pi \\left(\\frac{x}{2} + \\frac{y}{2}\\right) \\right)}$"
          },
          "metadata": {}
        },
        {
          "output_type": "stream",
          "name": "stdout",
          "text": [
            "The Omaga now is:  931\n"
          ]
        },
        {
          "output_type": "display_data",
          "data": {
            "text/plain": [
              "(0.3*u + 1.2)*exp(1.0*I*teta*(0.6*u - 0.25*v + 2.15))*sin(pi*(0.15*u + 0.125*v + 1.475))"
            ],
            "text/latex": "$\\displaystyle \\left(0.3 u + 1.2\\right) e^{1.0 i teta \\left(0.6 u - 0.25 v + 2.15\\right)} \\sin{\\left(\\pi \\left(0.15 u + 0.125 v + 1.475\\right) \\right)}$"
          },
          "metadata": {}
        },
        {
          "output_type": "display_data",
          "data": {
            "text/plain": [
              "(x - 0.5)*exp(1.0*I*teta*(2*x - y))*sin(pi*(x/2 + y/2))"
            ],
            "text/latex": "$\\displaystyle \\left(x - 0.5\\right) e^{1.0 i teta \\left(2 x - y\\right)} \\sin{\\left(\\pi \\left(\\frac{x}{2} + \\frac{y}{2}\\right) \\right)}$"
          },
          "metadata": {}
        },
        {
          "output_type": "stream",
          "name": "stdout",
          "text": [
            "The Omaga now is:  936\n"
          ]
        },
        {
          "output_type": "display_data",
          "data": {
            "text/plain": [
              "(0.3*u + 1.2)*exp(1.0*I*teta*(0.6*u - 0.25*v + 2.15))*sin(pi*(0.15*u + 0.125*v + 1.475))"
            ],
            "text/latex": "$\\displaystyle \\left(0.3 u + 1.2\\right) e^{1.0 i teta \\left(0.6 u - 0.25 v + 2.15\\right)} \\sin{\\left(\\pi \\left(0.15 u + 0.125 v + 1.475\\right) \\right)}$"
          },
          "metadata": {}
        },
        {
          "output_type": "display_data",
          "data": {
            "text/plain": [
              "(x - 0.5)*exp(1.0*I*teta*(2*x - y))*sin(pi*(x/2 + y/2))"
            ],
            "text/latex": "$\\displaystyle \\left(x - 0.5\\right) e^{1.0 i teta \\left(2 x - y\\right)} \\sin{\\left(\\pi \\left(\\frac{x}{2} + \\frac{y}{2}\\right) \\right)}$"
          },
          "metadata": {}
        },
        {
          "output_type": "stream",
          "name": "stdout",
          "text": [
            "The Omaga now is:  941\n"
          ]
        },
        {
          "output_type": "display_data",
          "data": {
            "text/plain": [
              "(0.3*u + 1.2)*exp(1.0*I*teta*(0.6*u - 0.25*v + 2.15))*sin(pi*(0.15*u + 0.125*v + 1.475))"
            ],
            "text/latex": "$\\displaystyle \\left(0.3 u + 1.2\\right) e^{1.0 i teta \\left(0.6 u - 0.25 v + 2.15\\right)} \\sin{\\left(\\pi \\left(0.15 u + 0.125 v + 1.475\\right) \\right)}$"
          },
          "metadata": {}
        },
        {
          "output_type": "display_data",
          "data": {
            "text/plain": [
              "(x - 0.5)*exp(1.0*I*teta*(2*x - y))*sin(pi*(x/2 + y/2))"
            ],
            "text/latex": "$\\displaystyle \\left(x - 0.5\\right) e^{1.0 i teta \\left(2 x - y\\right)} \\sin{\\left(\\pi \\left(\\frac{x}{2} + \\frac{y}{2}\\right) \\right)}$"
          },
          "metadata": {}
        },
        {
          "output_type": "stream",
          "name": "stdout",
          "text": [
            "The Omaga now is:  946\n"
          ]
        },
        {
          "output_type": "display_data",
          "data": {
            "text/plain": [
              "(0.3*u + 1.2)*exp(1.0*I*teta*(0.6*u - 0.25*v + 2.15))*sin(pi*(0.15*u + 0.125*v + 1.475))"
            ],
            "text/latex": "$\\displaystyle \\left(0.3 u + 1.2\\right) e^{1.0 i teta \\left(0.6 u - 0.25 v + 2.15\\right)} \\sin{\\left(\\pi \\left(0.15 u + 0.125 v + 1.475\\right) \\right)}$"
          },
          "metadata": {}
        },
        {
          "output_type": "display_data",
          "data": {
            "text/plain": [
              "(x - 0.5)*exp(1.0*I*teta*(2*x - y))*sin(pi*(x/2 + y/2))"
            ],
            "text/latex": "$\\displaystyle \\left(x - 0.5\\right) e^{1.0 i teta \\left(2 x - y\\right)} \\sin{\\left(\\pi \\left(\\frac{x}{2} + \\frac{y}{2}\\right) \\right)}$"
          },
          "metadata": {}
        },
        {
          "output_type": "stream",
          "name": "stdout",
          "text": [
            "The Omaga now is:  951\n"
          ]
        },
        {
          "output_type": "display_data",
          "data": {
            "text/plain": [
              "(0.3*u + 1.2)*exp(1.0*I*teta*(0.6*u - 0.25*v + 2.15))*sin(pi*(0.15*u + 0.125*v + 1.475))"
            ],
            "text/latex": "$\\displaystyle \\left(0.3 u + 1.2\\right) e^{1.0 i teta \\left(0.6 u - 0.25 v + 2.15\\right)} \\sin{\\left(\\pi \\left(0.15 u + 0.125 v + 1.475\\right) \\right)}$"
          },
          "metadata": {}
        },
        {
          "output_type": "display_data",
          "data": {
            "text/plain": [
              "(x - 0.5)*exp(1.0*I*teta*(2*x - y))*sin(pi*(x/2 + y/2))"
            ],
            "text/latex": "$\\displaystyle \\left(x - 0.5\\right) e^{1.0 i teta \\left(2 x - y\\right)} \\sin{\\left(\\pi \\left(\\frac{x}{2} + \\frac{y}{2}\\right) \\right)}$"
          },
          "metadata": {}
        },
        {
          "output_type": "stream",
          "name": "stdout",
          "text": [
            "The Omaga now is:  956\n"
          ]
        },
        {
          "output_type": "display_data",
          "data": {
            "text/plain": [
              "(0.3*u + 1.2)*exp(1.0*I*teta*(0.6*u - 0.25*v + 2.15))*sin(pi*(0.15*u + 0.125*v + 1.475))"
            ],
            "text/latex": "$\\displaystyle \\left(0.3 u + 1.2\\right) e^{1.0 i teta \\left(0.6 u - 0.25 v + 2.15\\right)} \\sin{\\left(\\pi \\left(0.15 u + 0.125 v + 1.475\\right) \\right)}$"
          },
          "metadata": {}
        },
        {
          "output_type": "display_data",
          "data": {
            "text/plain": [
              "(x - 0.5)*exp(1.0*I*teta*(2*x - y))*sin(pi*(x/2 + y/2))"
            ],
            "text/latex": "$\\displaystyle \\left(x - 0.5\\right) e^{1.0 i teta \\left(2 x - y\\right)} \\sin{\\left(\\pi \\left(\\frac{x}{2} + \\frac{y}{2}\\right) \\right)}$"
          },
          "metadata": {}
        },
        {
          "output_type": "stream",
          "name": "stdout",
          "text": [
            "The Omaga now is:  961\n"
          ]
        },
        {
          "output_type": "display_data",
          "data": {
            "text/plain": [
              "(0.3*u + 1.2)*exp(1.0*I*teta*(0.6*u - 0.25*v + 2.15))*sin(pi*(0.15*u + 0.125*v + 1.475))"
            ],
            "text/latex": "$\\displaystyle \\left(0.3 u + 1.2\\right) e^{1.0 i teta \\left(0.6 u - 0.25 v + 2.15\\right)} \\sin{\\left(\\pi \\left(0.15 u + 0.125 v + 1.475\\right) \\right)}$"
          },
          "metadata": {}
        },
        {
          "output_type": "display_data",
          "data": {
            "text/plain": [
              "(x - 0.5)*exp(1.0*I*teta*(2*x - y))*sin(pi*(x/2 + y/2))"
            ],
            "text/latex": "$\\displaystyle \\left(x - 0.5\\right) e^{1.0 i teta \\left(2 x - y\\right)} \\sin{\\left(\\pi \\left(\\frac{x}{2} + \\frac{y}{2}\\right) \\right)}$"
          },
          "metadata": {}
        },
        {
          "output_type": "stream",
          "name": "stdout",
          "text": [
            "The Omaga now is:  966\n"
          ]
        },
        {
          "output_type": "display_data",
          "data": {
            "text/plain": [
              "(0.3*u + 1.2)*exp(1.0*I*teta*(0.6*u - 0.25*v + 2.15))*sin(pi*(0.15*u + 0.125*v + 1.475))"
            ],
            "text/latex": "$\\displaystyle \\left(0.3 u + 1.2\\right) e^{1.0 i teta \\left(0.6 u - 0.25 v + 2.15\\right)} \\sin{\\left(\\pi \\left(0.15 u + 0.125 v + 1.475\\right) \\right)}$"
          },
          "metadata": {}
        },
        {
          "output_type": "display_data",
          "data": {
            "text/plain": [
              "(x - 0.5)*exp(1.0*I*teta*(2*x - y))*sin(pi*(x/2 + y/2))"
            ],
            "text/latex": "$\\displaystyle \\left(x - 0.5\\right) e^{1.0 i teta \\left(2 x - y\\right)} \\sin{\\left(\\pi \\left(\\frac{x}{2} + \\frac{y}{2}\\right) \\right)}$"
          },
          "metadata": {}
        },
        {
          "output_type": "stream",
          "name": "stdout",
          "text": [
            "The Omaga now is:  971\n"
          ]
        },
        {
          "output_type": "display_data",
          "data": {
            "text/plain": [
              "(0.3*u + 1.2)*exp(1.0*I*teta*(0.6*u - 0.25*v + 2.15))*sin(pi*(0.15*u + 0.125*v + 1.475))"
            ],
            "text/latex": "$\\displaystyle \\left(0.3 u + 1.2\\right) e^{1.0 i teta \\left(0.6 u - 0.25 v + 2.15\\right)} \\sin{\\left(\\pi \\left(0.15 u + 0.125 v + 1.475\\right) \\right)}$"
          },
          "metadata": {}
        },
        {
          "output_type": "display_data",
          "data": {
            "text/plain": [
              "(x - 0.5)*exp(1.0*I*teta*(2*x - y))*sin(pi*(x/2 + y/2))"
            ],
            "text/latex": "$\\displaystyle \\left(x - 0.5\\right) e^{1.0 i teta \\left(2 x - y\\right)} \\sin{\\left(\\pi \\left(\\frac{x}{2} + \\frac{y}{2}\\right) \\right)}$"
          },
          "metadata": {}
        },
        {
          "output_type": "stream",
          "name": "stdout",
          "text": [
            "The Omaga now is:  976\n"
          ]
        },
        {
          "output_type": "display_data",
          "data": {
            "text/plain": [
              "(0.3*u + 1.2)*exp(1.0*I*teta*(0.6*u - 0.25*v + 2.15))*sin(pi*(0.15*u + 0.125*v + 1.475))"
            ],
            "text/latex": "$\\displaystyle \\left(0.3 u + 1.2\\right) e^{1.0 i teta \\left(0.6 u - 0.25 v + 2.15\\right)} \\sin{\\left(\\pi \\left(0.15 u + 0.125 v + 1.475\\right) \\right)}$"
          },
          "metadata": {}
        },
        {
          "output_type": "display_data",
          "data": {
            "text/plain": [
              "(x - 0.5)*exp(1.0*I*teta*(2*x - y))*sin(pi*(x/2 + y/2))"
            ],
            "text/latex": "$\\displaystyle \\left(x - 0.5\\right) e^{1.0 i teta \\left(2 x - y\\right)} \\sin{\\left(\\pi \\left(\\frac{x}{2} + \\frac{y}{2}\\right) \\right)}$"
          },
          "metadata": {}
        },
        {
          "output_type": "stream",
          "name": "stdout",
          "text": [
            "The Omaga now is:  981\n"
          ]
        },
        {
          "output_type": "display_data",
          "data": {
            "text/plain": [
              "(0.3*u + 1.2)*exp(1.0*I*teta*(0.6*u - 0.25*v + 2.15))*sin(pi*(0.15*u + 0.125*v + 1.475))"
            ],
            "text/latex": "$\\displaystyle \\left(0.3 u + 1.2\\right) e^{1.0 i teta \\left(0.6 u - 0.25 v + 2.15\\right)} \\sin{\\left(\\pi \\left(0.15 u + 0.125 v + 1.475\\right) \\right)}$"
          },
          "metadata": {}
        },
        {
          "output_type": "display_data",
          "data": {
            "text/plain": [
              "(x - 0.5)*exp(1.0*I*teta*(2*x - y))*sin(pi*(x/2 + y/2))"
            ],
            "text/latex": "$\\displaystyle \\left(x - 0.5\\right) e^{1.0 i teta \\left(2 x - y\\right)} \\sin{\\left(\\pi \\left(\\frac{x}{2} + \\frac{y}{2}\\right) \\right)}$"
          },
          "metadata": {}
        },
        {
          "output_type": "stream",
          "name": "stdout",
          "text": [
            "The Omaga now is:  986\n"
          ]
        },
        {
          "output_type": "display_data",
          "data": {
            "text/plain": [
              "(0.3*u + 1.2)*exp(1.0*I*teta*(0.6*u - 0.25*v + 2.15))*sin(pi*(0.15*u + 0.125*v + 1.475))"
            ],
            "text/latex": "$\\displaystyle \\left(0.3 u + 1.2\\right) e^{1.0 i teta \\left(0.6 u - 0.25 v + 2.15\\right)} \\sin{\\left(\\pi \\left(0.15 u + 0.125 v + 1.475\\right) \\right)}$"
          },
          "metadata": {}
        },
        {
          "output_type": "display_data",
          "data": {
            "text/plain": [
              "(x - 0.5)*exp(1.0*I*teta*(2*x - y))*sin(pi*(x/2 + y/2))"
            ],
            "text/latex": "$\\displaystyle \\left(x - 0.5\\right) e^{1.0 i teta \\left(2 x - y\\right)} \\sin{\\left(\\pi \\left(\\frac{x}{2} + \\frac{y}{2}\\right) \\right)}$"
          },
          "metadata": {}
        },
        {
          "output_type": "stream",
          "name": "stdout",
          "text": [
            "The Omaga now is:  991\n"
          ]
        },
        {
          "output_type": "display_data",
          "data": {
            "text/plain": [
              "(0.3*u + 1.2)*exp(1.0*I*teta*(0.6*u - 0.25*v + 2.15))*sin(pi*(0.15*u + 0.125*v + 1.475))"
            ],
            "text/latex": "$\\displaystyle \\left(0.3 u + 1.2\\right) e^{1.0 i teta \\left(0.6 u - 0.25 v + 2.15\\right)} \\sin{\\left(\\pi \\left(0.15 u + 0.125 v + 1.475\\right) \\right)}$"
          },
          "metadata": {}
        },
        {
          "output_type": "display_data",
          "data": {
            "text/plain": [
              "(x - 0.5)*exp(1.0*I*teta*(2*x - y))*sin(pi*(x/2 + y/2))"
            ],
            "text/latex": "$\\displaystyle \\left(x - 0.5\\right) e^{1.0 i teta \\left(2 x - y\\right)} \\sin{\\left(\\pi \\left(\\frac{x}{2} + \\frac{y}{2}\\right) \\right)}$"
          },
          "metadata": {}
        },
        {
          "output_type": "stream",
          "name": "stdout",
          "text": [
            "The Omaga now is:  996\n"
          ]
        },
        {
          "output_type": "display_data",
          "data": {
            "text/plain": [
              "(0.3*u + 1.2)*exp(1.0*I*teta*(0.6*u - 0.25*v + 2.15))*sin(pi*(0.15*u + 0.125*v + 1.475))"
            ],
            "text/latex": "$\\displaystyle \\left(0.3 u + 1.2\\right) e^{1.0 i teta \\left(0.6 u - 0.25 v + 2.15\\right)} \\sin{\\left(\\pi \\left(0.15 u + 0.125 v + 1.475\\right) \\right)}$"
          },
          "metadata": {}
        },
        {
          "output_type": "display_data",
          "data": {
            "text/plain": [
              "(x - 0.5)*exp(1.0*I*teta*(2*x - y))*sin(pi*(x/2 + y/2))"
            ],
            "text/latex": "$\\displaystyle \\left(x - 0.5\\right) e^{1.0 i teta \\left(2 x - y\\right)} \\sin{\\left(\\pi \\left(\\frac{x}{2} + \\frac{y}{2}\\right) \\right)}$"
          },
          "metadata": {}
        },
        {
          "output_type": "display_data",
          "data": {
            "text/plain": [
              "<Figure size 640x480 with 1 Axes>"
            ],
            "image/png": "[encoded data removed]"
          },
          "metadata": {}
        }
      ]
    }
  ]
}